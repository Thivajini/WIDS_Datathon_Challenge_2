{
 "cells": [
  {
   "cell_type": "code",
   "execution_count": 7,
   "metadata": {
    "execution": {
     "iopub.execute_input": "2024-05-31T16:41:55.257920Z",
     "iopub.status.busy": "2024-05-31T16:41:55.257522Z",
     "iopub.status.idle": "2024-05-31T16:41:55.262411Z",
     "shell.execute_reply": "2024-05-31T16:41:55.261436Z",
     "shell.execute_reply.started": "2024-05-31T16:41:55.257892Z"
    },
    "id": "06fawj7W8zOi"
   },
   "outputs": [],
   "source": [
    "# pip install factor_analyzer\n"
   ]
  },
  {
   "cell_type": "code",
   "execution_count": 8,
   "metadata": {
    "execution": {
     "iopub.execute_input": "2024-05-31T16:42:00.818229Z",
     "iopub.status.busy": "2024-05-31T16:42:00.817345Z",
     "iopub.status.idle": "2024-05-31T16:42:00.823192Z",
     "shell.execute_reply": "2024-05-31T16:42:00.822118Z",
     "shell.execute_reply.started": "2024-05-31T16:42:00.818194Z"
    },
    "id": "KgLwkVxmikst"
   },
   "outputs": [],
   "source": [
    "import pandas as pd\n",
    "import matplotlib.pyplot as plt\n",
    "import seaborn as sns\n",
    "from sklearn.preprocessing import StandardScaler\n",
    "import numpy as np\n",
    "from sklearn.decomposition import FactorAnalysis\n",
    "# from factor_analyzer import FactorAnalyzer, calculate_bartlett_sphericity, calculate_kmo\n",
    "from sklearn.decomposition import PCA"
   ]
  },
  {
   "cell_type": "markdown",
   "metadata": {
    "id": "Fv1RlMPcolp4"
   },
   "source": [
    "# **Exploratory Data Analysis Part**"
   ]
  },
  {
   "cell_type": "code",
   "execution_count": 9,
   "metadata": {
    "execution": {
     "iopub.execute_input": "2024-05-31T16:42:02.034428Z",
     "iopub.status.busy": "2024-05-31T16:42:02.033545Z",
     "iopub.status.idle": "2024-05-31T16:42:02.411779Z",
     "shell.execute_reply": "2024-05-31T16:42:02.410748Z",
     "shell.execute_reply.started": "2024-05-31T16:42:02.034392Z"
    },
    "id": "xxNmbx1Xi1vr"
   },
   "outputs": [],
   "source": [
    "# Load the train Data set\n",
    "train_data = pd.read_csv('/kaggle/input/widsdatathon2024-challenge2/train.csv')\n",
    "test_data = pd.read_csv('/kaggle/input/widsdatathon2024-challenge2/test.csv')"
   ]
  },
  {
   "cell_type": "code",
   "execution_count": 10,
   "metadata": {
    "colab": {
     "base_uri": "https://localhost:8080/",
     "height": 359
    },
    "execution": {
     "iopub.execute_input": "2024-05-31T16:42:02.413728Z",
     "iopub.status.busy": "2024-05-31T16:42:02.413382Z",
     "iopub.status.idle": "2024-05-31T16:42:02.436682Z",
     "shell.execute_reply": "2024-05-31T16:42:02.435626Z",
     "shell.execute_reply.started": "2024-05-31T16:42:02.413701Z"
    },
    "id": "tnADeDiXlguK",
    "outputId": "593ec325-5c45-4729-fd50-2687859db04f"
   },
   "outputs": [
    {
     "data": {
      "text/html": [
       "<div>\n",
       "<style scoped>\n",
       "    .dataframe tbody tr th:only-of-type {\n",
       "        vertical-align: middle;\n",
       "    }\n",
       "\n",
       "    .dataframe tbody tr th {\n",
       "        vertical-align: top;\n",
       "    }\n",
       "\n",
       "    .dataframe thead th {\n",
       "        text-align: right;\n",
       "    }\n",
       "</style>\n",
       "<table border=\"1\" class=\"dataframe\">\n",
       "  <thead>\n",
       "    <tr style=\"text-align: right;\">\n",
       "      <th></th>\n",
       "      <th>patient_id</th>\n",
       "      <th>patient_race</th>\n",
       "      <th>payer_type</th>\n",
       "      <th>patient_state</th>\n",
       "      <th>patient_zip3</th>\n",
       "      <th>Region</th>\n",
       "      <th>Division</th>\n",
       "      <th>patient_age</th>\n",
       "      <th>patient_gender</th>\n",
       "      <th>bmi</th>\n",
       "      <th>...</th>\n",
       "      <th>Average of Apr-18</th>\n",
       "      <th>Average of May-18</th>\n",
       "      <th>Average of Jun-18</th>\n",
       "      <th>Average of Jul-18</th>\n",
       "      <th>Average of Aug-18</th>\n",
       "      <th>Average of Sep-18</th>\n",
       "      <th>Average of Oct-18</th>\n",
       "      <th>Average of Nov-18</th>\n",
       "      <th>Average of Dec-18</th>\n",
       "      <th>metastatic_diagnosis_period</th>\n",
       "    </tr>\n",
       "  </thead>\n",
       "  <tbody>\n",
       "    <tr>\n",
       "      <th>0</th>\n",
       "      <td>268700</td>\n",
       "      <td>NaN</td>\n",
       "      <td>COMMERCIAL</td>\n",
       "      <td>AR</td>\n",
       "      <td>724</td>\n",
       "      <td>South</td>\n",
       "      <td>West South Central</td>\n",
       "      <td>39</td>\n",
       "      <td>F</td>\n",
       "      <td>NaN</td>\n",
       "      <td>...</td>\n",
       "      <td>52.55</td>\n",
       "      <td>74.77</td>\n",
       "      <td>79.96</td>\n",
       "      <td>81.69</td>\n",
       "      <td>78.30</td>\n",
       "      <td>74.56</td>\n",
       "      <td>59.98</td>\n",
       "      <td>42.98</td>\n",
       "      <td>41.18</td>\n",
       "      <td>191</td>\n",
       "    </tr>\n",
       "    <tr>\n",
       "      <th>1</th>\n",
       "      <td>484983</td>\n",
       "      <td>White</td>\n",
       "      <td>NaN</td>\n",
       "      <td>IL</td>\n",
       "      <td>629</td>\n",
       "      <td>Midwest</td>\n",
       "      <td>East North Central</td>\n",
       "      <td>55</td>\n",
       "      <td>F</td>\n",
       "      <td>35.36</td>\n",
       "      <td>...</td>\n",
       "      <td>49.30</td>\n",
       "      <td>72.87</td>\n",
       "      <td>77.40</td>\n",
       "      <td>77.43</td>\n",
       "      <td>75.83</td>\n",
       "      <td>72.64</td>\n",
       "      <td>58.36</td>\n",
       "      <td>39.68</td>\n",
       "      <td>39.71</td>\n",
       "      <td>33</td>\n",
       "    </tr>\n",
       "    <tr>\n",
       "      <th>2</th>\n",
       "      <td>277055</td>\n",
       "      <td>NaN</td>\n",
       "      <td>COMMERCIAL</td>\n",
       "      <td>CA</td>\n",
       "      <td>925</td>\n",
       "      <td>West</td>\n",
       "      <td>Pacific</td>\n",
       "      <td>59</td>\n",
       "      <td>F</td>\n",
       "      <td>NaN</td>\n",
       "      <td>...</td>\n",
       "      <td>68.50</td>\n",
       "      <td>70.31</td>\n",
       "      <td>78.61</td>\n",
       "      <td>87.24</td>\n",
       "      <td>85.52</td>\n",
       "      <td>80.75</td>\n",
       "      <td>70.81</td>\n",
       "      <td>62.67</td>\n",
       "      <td>55.58</td>\n",
       "      <td>157</td>\n",
       "    </tr>\n",
       "    <tr>\n",
       "      <th>3</th>\n",
       "      <td>320055</td>\n",
       "      <td>Hispanic</td>\n",
       "      <td>MEDICAID</td>\n",
       "      <td>CA</td>\n",
       "      <td>900</td>\n",
       "      <td>West</td>\n",
       "      <td>Pacific</td>\n",
       "      <td>59</td>\n",
       "      <td>F</td>\n",
       "      <td>NaN</td>\n",
       "      <td>...</td>\n",
       "      <td>63.34</td>\n",
       "      <td>63.10</td>\n",
       "      <td>67.45</td>\n",
       "      <td>75.86</td>\n",
       "      <td>75.24</td>\n",
       "      <td>71.10</td>\n",
       "      <td>68.95</td>\n",
       "      <td>65.46</td>\n",
       "      <td>59.46</td>\n",
       "      <td>146</td>\n",
       "    </tr>\n",
       "    <tr>\n",
       "      <th>4</th>\n",
       "      <td>190386</td>\n",
       "      <td>NaN</td>\n",
       "      <td>COMMERCIAL</td>\n",
       "      <td>CA</td>\n",
       "      <td>934</td>\n",
       "      <td>West</td>\n",
       "      <td>Pacific</td>\n",
       "      <td>71</td>\n",
       "      <td>F</td>\n",
       "      <td>NaN</td>\n",
       "      <td>...</td>\n",
       "      <td>59.45</td>\n",
       "      <td>60.24</td>\n",
       "      <td>64.77</td>\n",
       "      <td>69.81</td>\n",
       "      <td>70.13</td>\n",
       "      <td>68.10</td>\n",
       "      <td>65.38</td>\n",
       "      <td>60.72</td>\n",
       "      <td>54.08</td>\n",
       "      <td>286</td>\n",
       "    </tr>\n",
       "  </tbody>\n",
       "</table>\n",
       "<p>5 rows × 152 columns</p>\n",
       "</div>"
      ],
      "text/plain": [
       "   patient_id patient_race  payer_type patient_state  patient_zip3   Region  \\\n",
       "0      268700          NaN  COMMERCIAL            AR           724    South   \n",
       "1      484983        White         NaN            IL           629  Midwest   \n",
       "2      277055          NaN  COMMERCIAL            CA           925     West   \n",
       "3      320055     Hispanic    MEDICAID            CA           900     West   \n",
       "4      190386          NaN  COMMERCIAL            CA           934     West   \n",
       "\n",
       "             Division  patient_age patient_gender    bmi  ...  \\\n",
       "0  West South Central           39              F    NaN  ...   \n",
       "1  East North Central           55              F  35.36  ...   \n",
       "2             Pacific           59              F    NaN  ...   \n",
       "3             Pacific           59              F    NaN  ...   \n",
       "4             Pacific           71              F    NaN  ...   \n",
       "\n",
       "  Average of Apr-18 Average of May-18 Average of Jun-18 Average of Jul-18  \\\n",
       "0             52.55             74.77             79.96             81.69   \n",
       "1             49.30             72.87             77.40             77.43   \n",
       "2             68.50             70.31             78.61             87.24   \n",
       "3             63.34             63.10             67.45             75.86   \n",
       "4             59.45             60.24             64.77             69.81   \n",
       "\n",
       "  Average of Aug-18  Average of Sep-18  Average of Oct-18  Average of Nov-18  \\\n",
       "0             78.30              74.56              59.98              42.98   \n",
       "1             75.83              72.64              58.36              39.68   \n",
       "2             85.52              80.75              70.81              62.67   \n",
       "3             75.24              71.10              68.95              65.46   \n",
       "4             70.13              68.10              65.38              60.72   \n",
       "\n",
       "   Average of Dec-18  metastatic_diagnosis_period  \n",
       "0              41.18                          191  \n",
       "1              39.71                           33  \n",
       "2              55.58                          157  \n",
       "3              59.46                          146  \n",
       "4              54.08                          286  \n",
       "\n",
       "[5 rows x 152 columns]"
      ]
     },
     "execution_count": 10,
     "metadata": {},
     "output_type": "execute_result"
    }
   ],
   "source": [
    "train_data.head()"
   ]
  },
  {
   "cell_type": "code",
   "execution_count": 11,
   "metadata": {
    "colab": {
     "base_uri": "https://localhost:8080/"
    },
    "execution": {
     "iopub.execute_input": "2024-05-31T16:42:10.319399Z",
     "iopub.status.busy": "2024-05-31T16:42:10.318494Z",
     "iopub.status.idle": "2024-05-31T16:42:10.324911Z",
     "shell.execute_reply": "2024-05-31T16:42:10.323880Z",
     "shell.execute_reply.started": "2024-05-31T16:42:10.319362Z"
    },
    "id": "gjCxdNf8lrv8",
    "outputId": "33332b13-afa1-4d37-e5cc-e18594035f6e"
   },
   "outputs": [
    {
     "data": {
      "text/plain": [
       "(13173, 152)"
      ]
     },
     "execution_count": 11,
     "metadata": {},
     "output_type": "execute_result"
    }
   ],
   "source": [
    "# Find the dimension of the data set\n",
    "train_data.shape\n"
   ]
  },
  {
   "cell_type": "code",
   "execution_count": 12,
   "metadata": {
    "colab": {
     "base_uri": "https://localhost:8080/"
    },
    "execution": {
     "iopub.execute_input": "2024-05-31T16:42:10.326732Z",
     "iopub.status.busy": "2024-05-31T16:42:10.326420Z",
     "iopub.status.idle": "2024-05-31T16:42:10.336998Z",
     "shell.execute_reply": "2024-05-31T16:42:10.336067Z",
     "shell.execute_reply.started": "2024-05-31T16:42:10.326700Z"
    },
    "id": "jrTMEGpendcA",
    "outputId": "ecdda7c4-04f0-4f64-fb27-043364a20e1f"
   },
   "outputs": [
    {
     "data": {
      "text/plain": [
       "(5646, 151)"
      ]
     },
     "execution_count": 12,
     "metadata": {},
     "output_type": "execute_result"
    }
   ],
   "source": [
    "test_data.shape"
   ]
  },
  {
   "cell_type": "code",
   "execution_count": 13,
   "metadata": {
    "colab": {
     "base_uri": "https://localhost:8080/"
    },
    "execution": {
     "iopub.execute_input": "2024-05-31T16:42:10.502242Z",
     "iopub.status.busy": "2024-05-31T16:42:10.501118Z",
     "iopub.status.idle": "2024-05-31T16:42:10.525225Z",
     "shell.execute_reply": "2024-05-31T16:42:10.524138Z",
     "shell.execute_reply.started": "2024-05-31T16:42:10.502197Z"
    },
    "id": "znlLTylFl6nS",
    "outputId": "35f76f52-0f44-4cb6-cec5-7eff758cea86"
   },
   "outputs": [
    {
     "name": "stdout",
     "output_type": "stream",
     "text": [
      "<class 'pandas.core.frame.DataFrame'>\n",
      "RangeIndex: 13173 entries, 0 to 13172\n",
      "Columns: 152 entries, patient_id to metastatic_diagnosis_period\n",
      "dtypes: float64(137), int64(4), object(11)\n",
      "memory usage: 15.3+ MB\n"
     ]
    }
   ],
   "source": [
    "# Information about the data set\n",
    "train_data.info()"
   ]
  },
  {
   "cell_type": "code",
   "execution_count": 14,
   "metadata": {
    "colab": {
     "base_uri": "https://localhost:8080/",
     "height": 367
    },
    "execution": {
     "iopub.execute_input": "2024-05-31T16:42:10.527690Z",
     "iopub.status.busy": "2024-05-31T16:42:10.527278Z",
     "iopub.status.idle": "2024-05-31T16:42:10.849818Z",
     "shell.execute_reply": "2024-05-31T16:42:10.848818Z",
     "shell.execute_reply.started": "2024-05-31T16:42:10.527656Z"
    },
    "id": "Aq-oKJD3mT7y",
    "outputId": "58fe1d41-877f-4ba7-c7a5-d90d5c20e2c2"
   },
   "outputs": [
    {
     "data": {
      "text/html": [
       "<div>\n",
       "<style scoped>\n",
       "    .dataframe tbody tr th:only-of-type {\n",
       "        vertical-align: middle;\n",
       "    }\n",
       "\n",
       "    .dataframe tbody tr th {\n",
       "        vertical-align: top;\n",
       "    }\n",
       "\n",
       "    .dataframe thead th {\n",
       "        text-align: right;\n",
       "    }\n",
       "</style>\n",
       "<table border=\"1\" class=\"dataframe\">\n",
       "  <thead>\n",
       "    <tr style=\"text-align: right;\">\n",
       "      <th></th>\n",
       "      <th>patient_id</th>\n",
       "      <th>patient_zip3</th>\n",
       "      <th>patient_age</th>\n",
       "      <th>bmi</th>\n",
       "      <th>population</th>\n",
       "      <th>density</th>\n",
       "      <th>age_median</th>\n",
       "      <th>age_under_10</th>\n",
       "      <th>age_10_to_19</th>\n",
       "      <th>age_20s</th>\n",
       "      <th>...</th>\n",
       "      <th>Average of Apr-18</th>\n",
       "      <th>Average of May-18</th>\n",
       "      <th>Average of Jun-18</th>\n",
       "      <th>Average of Jul-18</th>\n",
       "      <th>Average of Aug-18</th>\n",
       "      <th>Average of Sep-18</th>\n",
       "      <th>Average of Oct-18</th>\n",
       "      <th>Average of Nov-18</th>\n",
       "      <th>Average of Dec-18</th>\n",
       "      <th>metastatic_diagnosis_period</th>\n",
       "    </tr>\n",
       "  </thead>\n",
       "  <tbody>\n",
       "    <tr>\n",
       "      <th>count</th>\n",
       "      <td>13173.000000</td>\n",
       "      <td>13173.000000</td>\n",
       "      <td>13173.000000</td>\n",
       "      <td>4102.000000</td>\n",
       "      <td>13173.000000</td>\n",
       "      <td>13173.000000</td>\n",
       "      <td>13173.000000</td>\n",
       "      <td>13173.000000</td>\n",
       "      <td>13173.000000</td>\n",
       "      <td>13173.000000</td>\n",
       "      <td>...</td>\n",
       "      <td>13173.000000</td>\n",
       "      <td>13173.000000</td>\n",
       "      <td>13164.000000</td>\n",
       "      <td>13127.000000</td>\n",
       "      <td>13157.000000</td>\n",
       "      <td>13166.000000</td>\n",
       "      <td>13166.000000</td>\n",
       "      <td>13161.000000</td>\n",
       "      <td>13140.000000</td>\n",
       "      <td>13173.000000</td>\n",
       "    </tr>\n",
       "    <tr>\n",
       "      <th>mean</th>\n",
       "      <td>555441.784939</td>\n",
       "      <td>568.530859</td>\n",
       "      <td>59.271313</td>\n",
       "      <td>29.168808</td>\n",
       "      <td>20651.373928</td>\n",
       "      <td>1776.872376</td>\n",
       "      <td>40.542676</td>\n",
       "      <td>11.104988</td>\n",
       "      <td>12.857587</td>\n",
       "      <td>13.297375</td>\n",
       "      <td>...</td>\n",
       "      <td>52.411982</td>\n",
       "      <td>67.932236</td>\n",
       "      <td>73.074635</td>\n",
       "      <td>77.120929</td>\n",
       "      <td>76.281156</td>\n",
       "      <td>71.417027</td>\n",
       "      <td>59.323286</td>\n",
       "      <td>46.100150</td>\n",
       "      <td>42.096213</td>\n",
       "      <td>96.515221</td>\n",
       "    </tr>\n",
       "    <tr>\n",
       "      <th>std</th>\n",
       "      <td>259476.503094</td>\n",
       "      <td>275.758485</td>\n",
       "      <td>13.218883</td>\n",
       "      <td>5.752820</td>\n",
       "      <td>13840.379638</td>\n",
       "      <td>3876.061897</td>\n",
       "      <td>4.031027</td>\n",
       "      <td>1.511534</td>\n",
       "      <td>1.952248</td>\n",
       "      <td>3.390472</td>\n",
       "      <td>...</td>\n",
       "      <td>11.069900</td>\n",
       "      <td>6.301740</td>\n",
       "      <td>6.581630</td>\n",
       "      <td>5.335091</td>\n",
       "      <td>5.282156</td>\n",
       "      <td>6.502875</td>\n",
       "      <td>9.261934</td>\n",
       "      <td>12.245594</td>\n",
       "      <td>11.209011</td>\n",
       "      <td>108.969873</td>\n",
       "    </tr>\n",
       "    <tr>\n",
       "      <th>min</th>\n",
       "      <td>100043.000000</td>\n",
       "      <td>100.000000</td>\n",
       "      <td>18.000000</td>\n",
       "      <td>15.000000</td>\n",
       "      <td>635.550000</td>\n",
       "      <td>0.920000</td>\n",
       "      <td>20.600000</td>\n",
       "      <td>0.000000</td>\n",
       "      <td>6.310000</td>\n",
       "      <td>5.930000</td>\n",
       "      <td>...</td>\n",
       "      <td>28.790000</td>\n",
       "      <td>45.880000</td>\n",
       "      <td>53.460000</td>\n",
       "      <td>58.540000</td>\n",
       "      <td>56.200000</td>\n",
       "      <td>51.830000</td>\n",
       "      <td>37.540000</td>\n",
       "      <td>19.150000</td>\n",
       "      <td>15.380000</td>\n",
       "      <td>0.000000</td>\n",
       "    </tr>\n",
       "    <tr>\n",
       "      <th>25%</th>\n",
       "      <td>335100.000000</td>\n",
       "      <td>330.000000</td>\n",
       "      <td>50.000000</td>\n",
       "      <td>24.825000</td>\n",
       "      <td>9160.340000</td>\n",
       "      <td>163.150000</td>\n",
       "      <td>37.190000</td>\n",
       "      <td>10.150000</td>\n",
       "      <td>11.650000</td>\n",
       "      <td>11.000000</td>\n",
       "      <td>...</td>\n",
       "      <td>42.900000</td>\n",
       "      <td>63.220000</td>\n",
       "      <td>68.050000</td>\n",
       "      <td>73.170000</td>\n",
       "      <td>72.550000</td>\n",
       "      <td>67.020000</td>\n",
       "      <td>51.970000</td>\n",
       "      <td>35.560000</td>\n",
       "      <td>33.370000</td>\n",
       "      <td>3.000000</td>\n",
       "    </tr>\n",
       "    <tr>\n",
       "      <th>50%</th>\n",
       "      <td>555769.000000</td>\n",
       "      <td>557.000000</td>\n",
       "      <td>59.000000</td>\n",
       "      <td>28.580000</td>\n",
       "      <td>18952.780000</td>\n",
       "      <td>700.340000</td>\n",
       "      <td>40.640000</td>\n",
       "      <td>11.000000</td>\n",
       "      <td>12.900000</td>\n",
       "      <td>12.530000</td>\n",
       "      <td>...</td>\n",
       "      <td>50.290000</td>\n",
       "      <td>66.120000</td>\n",
       "      <td>71.640000</td>\n",
       "      <td>76.650000</td>\n",
       "      <td>76.080000</td>\n",
       "      <td>70.880000</td>\n",
       "      <td>57.450000</td>\n",
       "      <td>42.430000</td>\n",
       "      <td>38.500000</td>\n",
       "      <td>44.000000</td>\n",
       "    </tr>\n",
       "    <tr>\n",
       "      <th>75%</th>\n",
       "      <td>780967.000000</td>\n",
       "      <td>832.000000</td>\n",
       "      <td>67.000000</td>\n",
       "      <td>33.000000</td>\n",
       "      <td>30021.280000</td>\n",
       "      <td>1666.520000</td>\n",
       "      <td>42.940000</td>\n",
       "      <td>12.140000</td>\n",
       "      <td>13.910000</td>\n",
       "      <td>14.970000</td>\n",
       "      <td>...</td>\n",
       "      <td>62.220000</td>\n",
       "      <td>72.590000</td>\n",
       "      <td>77.660000</td>\n",
       "      <td>80.290000</td>\n",
       "      <td>79.130000</td>\n",
       "      <td>75.640000</td>\n",
       "      <td>67.360000</td>\n",
       "      <td>55.730000</td>\n",
       "      <td>50.500000</td>\n",
       "      <td>181.000000</td>\n",
       "    </tr>\n",
       "    <tr>\n",
       "      <th>max</th>\n",
       "      <td>999982.000000</td>\n",
       "      <td>995.000000</td>\n",
       "      <td>91.000000</td>\n",
       "      <td>97.000000</td>\n",
       "      <td>71374.130000</td>\n",
       "      <td>29851.690000</td>\n",
       "      <td>54.570000</td>\n",
       "      <td>17.680000</td>\n",
       "      <td>35.300000</td>\n",
       "      <td>62.100000</td>\n",
       "      <td>...</td>\n",
       "      <td>76.490000</td>\n",
       "      <td>86.570000</td>\n",
       "      <td>90.660000</td>\n",
       "      <td>96.430000</td>\n",
       "      <td>95.770000</td>\n",
       "      <td>89.190000</td>\n",
       "      <td>81.460000</td>\n",
       "      <td>76.300000</td>\n",
       "      <td>73.540000</td>\n",
       "      <td>365.000000</td>\n",
       "    </tr>\n",
       "  </tbody>\n",
       "</table>\n",
       "<p>8 rows × 141 columns</p>\n",
       "</div>"
      ],
      "text/plain": [
       "          patient_id  patient_zip3   patient_age          bmi    population  \\\n",
       "count   13173.000000  13173.000000  13173.000000  4102.000000  13173.000000   \n",
       "mean   555441.784939    568.530859     59.271313    29.168808  20651.373928   \n",
       "std    259476.503094    275.758485     13.218883     5.752820  13840.379638   \n",
       "min    100043.000000    100.000000     18.000000    15.000000    635.550000   \n",
       "25%    335100.000000    330.000000     50.000000    24.825000   9160.340000   \n",
       "50%    555769.000000    557.000000     59.000000    28.580000  18952.780000   \n",
       "75%    780967.000000    832.000000     67.000000    33.000000  30021.280000   \n",
       "max    999982.000000    995.000000     91.000000    97.000000  71374.130000   \n",
       "\n",
       "            density    age_median  age_under_10  age_10_to_19       age_20s  \\\n",
       "count  13173.000000  13173.000000  13173.000000  13173.000000  13173.000000   \n",
       "mean    1776.872376     40.542676     11.104988     12.857587     13.297375   \n",
       "std     3876.061897      4.031027      1.511534      1.952248      3.390472   \n",
       "min        0.920000     20.600000      0.000000      6.310000      5.930000   \n",
       "25%      163.150000     37.190000     10.150000     11.650000     11.000000   \n",
       "50%      700.340000     40.640000     11.000000     12.900000     12.530000   \n",
       "75%     1666.520000     42.940000     12.140000     13.910000     14.970000   \n",
       "max    29851.690000     54.570000     17.680000     35.300000     62.100000   \n",
       "\n",
       "       ...  Average of Apr-18  Average of May-18  Average of Jun-18  \\\n",
       "count  ...       13173.000000       13173.000000       13164.000000   \n",
       "mean   ...          52.411982          67.932236          73.074635   \n",
       "std    ...          11.069900           6.301740           6.581630   \n",
       "min    ...          28.790000          45.880000          53.460000   \n",
       "25%    ...          42.900000          63.220000          68.050000   \n",
       "50%    ...          50.290000          66.120000          71.640000   \n",
       "75%    ...          62.220000          72.590000          77.660000   \n",
       "max    ...          76.490000          86.570000          90.660000   \n",
       "\n",
       "       Average of Jul-18  Average of Aug-18  Average of Sep-18  \\\n",
       "count       13127.000000       13157.000000       13166.000000   \n",
       "mean           77.120929          76.281156          71.417027   \n",
       "std             5.335091           5.282156           6.502875   \n",
       "min            58.540000          56.200000          51.830000   \n",
       "25%            73.170000          72.550000          67.020000   \n",
       "50%            76.650000          76.080000          70.880000   \n",
       "75%            80.290000          79.130000          75.640000   \n",
       "max            96.430000          95.770000          89.190000   \n",
       "\n",
       "       Average of Oct-18  Average of Nov-18  Average of Dec-18  \\\n",
       "count       13166.000000       13161.000000       13140.000000   \n",
       "mean           59.323286          46.100150          42.096213   \n",
       "std             9.261934          12.245594          11.209011   \n",
       "min            37.540000          19.150000          15.380000   \n",
       "25%            51.970000          35.560000          33.370000   \n",
       "50%            57.450000          42.430000          38.500000   \n",
       "75%            67.360000          55.730000          50.500000   \n",
       "max            81.460000          76.300000          73.540000   \n",
       "\n",
       "       metastatic_diagnosis_period  \n",
       "count                 13173.000000  \n",
       "mean                     96.515221  \n",
       "std                     108.969873  \n",
       "min                       0.000000  \n",
       "25%                       3.000000  \n",
       "50%                      44.000000  \n",
       "75%                     181.000000  \n",
       "max                     365.000000  \n",
       "\n",
       "[8 rows x 141 columns]"
      ]
     },
     "execution_count": 14,
     "metadata": {},
     "output_type": "execute_result"
    }
   ],
   "source": [
    "train_data.describe()"
   ]
  },
  {
   "cell_type": "code",
   "execution_count": 15,
   "metadata": {
    "colab": {
     "base_uri": "https://localhost:8080/"
    },
    "execution": {
     "iopub.execute_input": "2024-05-31T16:42:10.851325Z",
     "iopub.status.busy": "2024-05-31T16:42:10.851002Z",
     "iopub.status.idle": "2024-05-31T16:42:10.869589Z",
     "shell.execute_reply": "2024-05-31T16:42:10.868591Z",
     "shell.execute_reply.started": "2024-05-31T16:42:10.851292Z"
    },
    "id": "RK2SWySeoFbf",
    "outputId": "3e5349ee-220e-4a67-b412-5a884ad9fbf0"
   },
   "outputs": [
    {
     "data": {
      "text/plain": [
       "patient_id                        0\n",
       "patient_race                   6657\n",
       "payer_type                     1765\n",
       "patient_state                     0\n",
       "patient_zip3                      0\n",
       "                               ... \n",
       "Average of Sep-18                 7\n",
       "Average of Oct-18                 7\n",
       "Average of Nov-18                12\n",
       "Average of Dec-18                33\n",
       "metastatic_diagnosis_period       0\n",
       "Length: 152, dtype: int64"
      ]
     },
     "execution_count": 15,
     "metadata": {},
     "output_type": "execute_result"
    }
   ],
   "source": [
    "# Find the null value for each column\n",
    "train_data.isnull().sum()"
   ]
  },
  {
   "cell_type": "code",
   "execution_count": null,
   "metadata": {
    "colab": {
     "base_uri": "https://localhost:8080/",
     "height": 939
    },
    "execution": {
     "iopub.execute_input": "2024-05-31T16:42:10.871914Z",
     "iopub.status.busy": "2024-05-31T16:42:10.871576Z"
    },
    "id": "McWgH7j7SnsI",
    "outputId": "fd561daf-1af6-49d2-a87d-7383b3006e6b"
   },
   "outputs": [
    {
     "data": {
      "text/plain": [
       "<Axes: >"
      ]
     },
     "execution_count": 16,
     "metadata": {},
     "output_type": "execute_result"
    }
   ],
   "source": [
    "plt.figure(figsize = (16,9))\n",
    "sns.heatmap(train_data.isnull())"
   ]
  },
  {
   "cell_type": "markdown",
   "metadata": {
    "id": "OSUYb1KGqWCR"
   },
   "source": [
    "# Drop the columns\n"
   ]
  },
  {
   "cell_type": "code",
   "execution_count": 17,
   "metadata": {
    "colab": {
     "base_uri": "https://localhost:8080/"
    },
    "execution": {
     "iopub.status.idle": "2024-05-31T16:42:14.768593Z",
     "shell.execute_reply": "2024-05-31T16:42:14.767482Z",
     "shell.execute_reply.started": "2024-05-31T16:42:14.748584Z"
    },
    "id": "0erfsm8uaFZd",
    "outputId": "eda8db3f-b412-4bf2-ef71-106fe65cf244"
   },
   "outputs": [
    {
     "data": {
      "text/plain": [
       "patient_id                      0.000000\n",
       "patient_race                   50.535186\n",
       "payer_type                     13.398618\n",
       "patient_state                   0.000000\n",
       "patient_zip3                    0.000000\n",
       "                                 ...    \n",
       "Average of Sep-18               0.053139\n",
       "Average of Oct-18               0.053139\n",
       "Average of Nov-18               0.091095\n",
       "Average of Dec-18               0.250512\n",
       "metastatic_diagnosis_period     0.000000\n",
       "Length: 152, dtype: float64"
      ]
     },
     "execution_count": 17,
     "metadata": {},
     "output_type": "execute_result"
    }
   ],
   "source": [
    "# Find the null percent\n",
    "null_percent = train_data.isnull().sum()/train_data.shape[0]*100\n",
    "null_percent"
   ]
  },
  {
   "cell_type": "code",
   "execution_count": 18,
   "metadata": {
    "colab": {
     "base_uri": "https://localhost:8080/"
    },
    "execution": {
     "iopub.execute_input": "2024-05-31T16:42:14.770741Z",
     "iopub.status.busy": "2024-05-31T16:42:14.769939Z",
     "iopub.status.idle": "2024-05-31T16:42:14.779185Z",
     "shell.execute_reply": "2024-05-31T16:42:14.778248Z",
     "shell.execute_reply.started": "2024-05-31T16:42:14.770709Z"
    },
    "id": "WV9PR2BicYe2",
    "outputId": "6d2483b7-b94f-4fe1-c870-0f7dc788bca2"
   },
   "outputs": [
    {
     "data": {
      "text/plain": [
       "patient_race                             50.535186\n",
       "bmi                                      68.860548\n",
       "metastatic_first_novel_treatment         99.916496\n",
       "metastatic_first_novel_treatment_type    99.916496\n",
       "dtype: float64"
      ]
     },
     "execution_count": 18,
     "metadata": {},
     "output_type": "execute_result"
    }
   ],
   "source": [
    "null_percent[null_percent > 20]"
   ]
  },
  {
   "cell_type": "code",
   "execution_count": 19,
   "metadata": {
    "colab": {
     "base_uri": "https://localhost:8080/"
    },
    "execution": {
     "iopub.execute_input": "2024-05-31T16:42:14.780890Z",
     "iopub.status.busy": "2024-05-31T16:42:14.780455Z",
     "iopub.status.idle": "2024-05-31T16:42:14.792596Z",
     "shell.execute_reply": "2024-05-31T16:42:14.791743Z",
     "shell.execute_reply.started": "2024-05-31T16:42:14.780862Z"
    },
    "id": "sFKX2NAIhZ6Y",
    "outputId": "b916efe0-be58-4763-afeb-264364437fc9"
   },
   "outputs": [
    {
     "data": {
      "text/plain": [
       "payer_type    13.398618\n",
       "dtype: float64"
      ]
     },
     "execution_count": 19,
     "metadata": {},
     "output_type": "execute_result"
    }
   ],
   "source": [
    "null_percent[(null_percent < 20) & (null_percent > 5)]"
   ]
  },
  {
   "cell_type": "code",
   "execution_count": 20,
   "metadata": {
    "colab": {
     "base_uri": "https://localhost:8080/"
    },
    "execution": {
     "iopub.execute_input": "2024-05-31T16:42:14.794109Z",
     "iopub.status.busy": "2024-05-31T16:42:14.793802Z",
     "iopub.status.idle": "2024-05-31T16:42:14.806759Z",
     "shell.execute_reply": "2024-05-31T16:42:14.805832Z",
     "shell.execute_reply.started": "2024-05-31T16:42:14.794084Z"
    },
    "id": "S52RdfbxhtQ5",
    "outputId": "e7d3d80c-977f-4d3a-d7ab-0856e1a4aa40"
   },
   "outputs": [
    {
     "data": {
      "text/plain": [
       "patient_id                     0.000000\n",
       "patient_state                  0.000000\n",
       "patient_zip3                   0.000000\n",
       "Region                         0.000000\n",
       "Division                       0.000000\n",
       "                                 ...   \n",
       "Average of Sep-18              0.053139\n",
       "Average of Oct-18              0.053139\n",
       "Average of Nov-18              0.091095\n",
       "Average of Dec-18              0.250512\n",
       "metastatic_diagnosis_period    0.000000\n",
       "Length: 147, dtype: float64"
      ]
     },
     "execution_count": 20,
     "metadata": {},
     "output_type": "execute_result"
    }
   ],
   "source": [
    "null_percent[null_percent < 5]"
   ]
  },
  {
   "cell_type": "code",
   "execution_count": 21,
   "metadata": {
    "colab": {
     "base_uri": "https://localhost:8080/"
    },
    "execution": {
     "iopub.execute_input": "2024-05-31T16:42:14.808228Z",
     "iopub.status.busy": "2024-05-31T16:42:14.807925Z",
     "iopub.status.idle": "2024-05-31T16:42:14.821151Z",
     "shell.execute_reply": "2024-05-31T16:42:14.820140Z",
     "shell.execute_reply.started": "2024-05-31T16:42:14.808203Z"
    },
    "id": "eU6nOcJSkj6e",
    "outputId": "6acee261-d16d-472c-bb51-bce2a1340667"
   },
   "outputs": [
    {
     "data": {
      "text/plain": [
       "Average of Jan-13    0.250512\n",
       "Average of Jun-13    0.151826\n",
       "Average of Aug-13    0.129052\n",
       "Average of Sep-13    0.204965\n",
       "Average of Oct-13    0.447886\n",
       "Average of Mar-14    0.220147\n",
       "Average of Apr-14    1.366431\n",
       "Average of Jun-14    1.153875\n",
       "Average of Nov-14    0.182191\n",
       "Average of Apr-15    0.212556\n",
       "Average of Aug-15    0.167008\n",
       "Average of Oct-15    0.121461\n",
       "Average of Nov-15    0.121461\n",
       "Average of Dec-15    0.136643\n",
       "Average of Jan-16    0.121461\n",
       "Average of Feb-16    0.121461\n",
       "Average of May-16    0.144234\n",
       "Average of Jul-16    0.121461\n",
       "Average of Jul-17    0.235330\n",
       "Average of Oct-17    0.159417\n",
       "Average of Jul-18    0.349199\n",
       "Average of Aug-18    0.121461\n",
       "Average of Dec-18    0.250512\n",
       "dtype: float64"
      ]
     },
     "execution_count": 21,
     "metadata": {},
     "output_type": "execute_result"
    }
   ],
   "source": [
    "null_percent[(null_percent > 0.1) & (null_percent < 5)]"
   ]
  },
  {
   "cell_type": "code",
   "execution_count": 22,
   "metadata": {
    "colab": {
     "base_uri": "https://localhost:8080/"
    },
    "execution": {
     "iopub.execute_input": "2024-05-31T16:42:14.825151Z",
     "iopub.status.busy": "2024-05-31T16:42:14.824812Z",
     "iopub.status.idle": "2024-05-31T16:42:14.836200Z",
     "shell.execute_reply": "2024-05-31T16:42:14.835187Z",
     "shell.execute_reply.started": "2024-05-31T16:42:14.825125Z"
    },
    "id": "L0fjRSk9Pskd",
    "outputId": "542bd6f1-4aff-4173-d865-101dbc120913"
   },
   "outputs": [
    {
     "data": {
      "text/plain": [
       "patient_id                     0.000000\n",
       "patient_state                  0.000000\n",
       "patient_zip3                   0.000000\n",
       "Region                         0.000000\n",
       "Division                       0.000000\n",
       "                                 ...   \n",
       "Average of Jun-18              0.068322\n",
       "Average of Sep-18              0.053139\n",
       "Average of Oct-18              0.053139\n",
       "Average of Nov-18              0.091095\n",
       "metastatic_diagnosis_period    0.000000\n",
       "Length: 124, dtype: float64"
      ]
     },
     "execution_count": 22,
     "metadata": {},
     "output_type": "execute_result"
    }
   ],
   "source": [
    "null_percent[(null_percent < 0.1)]"
   ]
  },
  {
   "cell_type": "code",
   "execution_count": 23,
   "metadata": {
    "execution": {
     "iopub.execute_input": "2024-05-31T16:42:14.837535Z",
     "iopub.status.busy": "2024-05-31T16:42:14.837242Z",
     "iopub.status.idle": "2024-05-31T16:42:14.846816Z",
     "shell.execute_reply": "2024-05-31T16:42:14.845852Z",
     "shell.execute_reply.started": "2024-05-31T16:42:14.837510Z"
    },
    "id": "5HX4uIV-RRsv"
   },
   "outputs": [],
   "source": [
    "train = train_data"
   ]
  },
  {
   "cell_type": "code",
   "execution_count": 24,
   "metadata": {
    "execution": {
     "iopub.execute_input": "2024-05-31T16:42:14.849775Z",
     "iopub.status.busy": "2024-05-31T16:42:14.848411Z",
     "iopub.status.idle": "2024-05-31T16:42:14.859017Z",
     "shell.execute_reply": "2024-05-31T16:42:14.857661Z",
     "shell.execute_reply.started": "2024-05-31T16:42:14.849738Z"
    },
    "id": "ms7c-2E3OwdO"
   },
   "outputs": [],
   "source": [
    "test = test_data"
   ]
  },
  {
   "cell_type": "code",
   "execution_count": 25,
   "metadata": {
    "colab": {
     "base_uri": "https://localhost:8080/"
    },
    "execution": {
     "iopub.execute_input": "2024-05-31T16:42:14.861197Z",
     "iopub.status.busy": "2024-05-31T16:42:14.860768Z",
     "iopub.status.idle": "2024-05-31T16:42:14.878908Z",
     "shell.execute_reply": "2024-05-31T16:42:14.877358Z",
     "shell.execute_reply.started": "2024-05-31T16:42:14.861158Z"
    },
    "id": "bQA17xZHRWTG",
    "outputId": "8a416237-2d7c-49fc-94e3-67b402a2f251"
   },
   "outputs": [
    {
     "data": {
      "text/plain": [
       "(13173, 152)"
      ]
     },
     "execution_count": 25,
     "metadata": {},
     "output_type": "execute_result"
    }
   ],
   "source": [
    "train.shape"
   ]
  },
  {
   "cell_type": "code",
   "execution_count": 26,
   "metadata": {
    "colab": {
     "base_uri": "https://localhost:8080/"
    },
    "execution": {
     "iopub.execute_input": "2024-05-31T16:42:14.881753Z",
     "iopub.status.busy": "2024-05-31T16:42:14.881047Z",
     "iopub.status.idle": "2024-05-31T16:42:14.891879Z",
     "shell.execute_reply": "2024-05-31T16:42:14.890732Z",
     "shell.execute_reply.started": "2024-05-31T16:42:14.881713Z"
    },
    "id": "2Hbx-IoJO1Wp",
    "outputId": "f75afc38-b88c-4267-e8bd-aabfeaf89158"
   },
   "outputs": [
    {
     "data": {
      "text/plain": [
       "(5646, 151)"
      ]
     },
     "execution_count": 26,
     "metadata": {},
     "output_type": "execute_result"
    }
   ],
   "source": [
    "test.shape"
   ]
  },
  {
   "cell_type": "markdown",
   "metadata": {
    "id": "dqstQ7DKk_wj"
   },
   "source": [
    "## Drop the null values"
   ]
  },
  {
   "cell_type": "markdown",
   "metadata": {
    "id": "ho91yhn3PD_r"
   },
   "source": [
    "##### Here same way apply to data preprocessing part for test data set and train data set because data set treated consistenly"
   ]
  },
  {
   "cell_type": "code",
   "execution_count": 27,
   "metadata": {
    "execution": {
     "iopub.execute_input": "2024-05-31T16:42:14.893726Z",
     "iopub.status.busy": "2024-05-31T16:42:14.893301Z",
     "iopub.status.idle": "2024-05-31T16:42:14.909378Z",
     "shell.execute_reply": "2024-05-31T16:42:14.908189Z",
     "shell.execute_reply.started": "2024-05-31T16:42:14.893690Z"
    },
    "id": "aqLw7RJVlCXT"
   },
   "outputs": [],
   "source": [
    "columns = ['patient_race','bmi','metastatic_first_novel_treatment','metastatic_first_novel_treatment_type']\n",
    "train.drop(columns = columns,inplace = True)\n",
    "test.drop(columns = columns,inplace = True)"
   ]
  },
  {
   "cell_type": "code",
   "execution_count": 28,
   "metadata": {
    "colab": {
     "base_uri": "https://localhost:8080/"
    },
    "execution": {
     "iopub.execute_input": "2024-05-31T16:42:14.911217Z",
     "iopub.status.busy": "2024-05-31T16:42:14.910685Z",
     "iopub.status.idle": "2024-05-31T16:42:14.917448Z",
     "shell.execute_reply": "2024-05-31T16:42:14.916494Z",
     "shell.execute_reply.started": "2024-05-31T16:42:14.911184Z"
    },
    "id": "ykTiUIzkrq1Y",
    "outputId": "ddc743ac-6deb-4bdc-d999-415fd6fa1189"
   },
   "outputs": [
    {
     "data": {
      "text/plain": [
       "(13173, 148)"
      ]
     },
     "execution_count": 28,
     "metadata": {},
     "output_type": "execute_result"
    }
   ],
   "source": [
    "train.shape"
   ]
  },
  {
   "cell_type": "code",
   "execution_count": 29,
   "metadata": {
    "colab": {
     "base_uri": "https://localhost:8080/"
    },
    "execution": {
     "iopub.execute_input": "2024-05-31T16:42:14.919311Z",
     "iopub.status.busy": "2024-05-31T16:42:14.918924Z",
     "iopub.status.idle": "2024-05-31T16:42:14.929199Z",
     "shell.execute_reply": "2024-05-31T16:42:14.928064Z",
     "shell.execute_reply.started": "2024-05-31T16:42:14.919283Z"
    },
    "id": "eaMuO0ysPYX8",
    "outputId": "8c9e8878-d408-488d-f1a1-124fc6bb7e2f"
   },
   "outputs": [
    {
     "data": {
      "text/plain": [
       "(5646, 147)"
      ]
     },
     "execution_count": 29,
     "metadata": {},
     "output_type": "execute_result"
    }
   ],
   "source": [
    "test.shape"
   ]
  },
  {
   "cell_type": "code",
   "execution_count": 30,
   "metadata": {
    "colab": {
     "base_uri": "https://localhost:8080/"
    },
    "execution": {
     "iopub.execute_input": "2024-05-31T16:42:14.931125Z",
     "iopub.status.busy": "2024-05-31T16:42:14.930728Z",
     "iopub.status.idle": "2024-05-31T16:42:14.951947Z",
     "shell.execute_reply": "2024-05-31T16:42:14.950166Z",
     "shell.execute_reply.started": "2024-05-31T16:42:14.931087Z"
    },
    "id": "2JkdNZvDTPsw",
    "outputId": "37a2127e-2862-4ae3-a42f-1faf3ffbc32b"
   },
   "outputs": [
    {
     "data": {
      "text/plain": [
       "dtype('O')"
      ]
     },
     "execution_count": 30,
     "metadata": {},
     "output_type": "execute_result"
    }
   ],
   "source": [
    "train['payer_type'].dtype"
   ]
  },
  {
   "cell_type": "code",
   "execution_count": 31,
   "metadata": {
    "colab": {
     "base_uri": "https://localhost:8080/"
    },
    "execution": {
     "iopub.execute_input": "2024-05-31T16:42:14.955151Z",
     "iopub.status.busy": "2024-05-31T16:42:14.954785Z",
     "iopub.status.idle": "2024-05-31T16:42:14.964748Z",
     "shell.execute_reply": "2024-05-31T16:42:14.963532Z",
     "shell.execute_reply.started": "2024-05-31T16:42:14.955123Z"
    },
    "id": "TXHzZhnnUWKp",
    "outputId": "6964413e-a421-4b9a-c8e3-3d22e75f3ec5"
   },
   "outputs": [
    {
     "data": {
      "text/plain": [
       "array(['COMMERCIAL', nan, 'MEDICAID', 'MEDICARE ADVANTAGE'], dtype=object)"
      ]
     },
     "execution_count": 31,
     "metadata": {},
     "output_type": "execute_result"
    }
   ],
   "source": [
    "train['payer_type'].unique()"
   ]
  },
  {
   "cell_type": "code",
   "execution_count": 32,
   "metadata": {
    "colab": {
     "base_uri": "https://localhost:8080/"
    },
    "execution": {
     "iopub.execute_input": "2024-05-31T16:42:14.966266Z",
     "iopub.status.busy": "2024-05-31T16:42:14.965974Z",
     "iopub.status.idle": "2024-05-31T16:42:14.974618Z",
     "shell.execute_reply": "2024-05-31T16:42:14.973627Z",
     "shell.execute_reply.started": "2024-05-31T16:42:14.966240Z"
    },
    "id": "9Fo_V9fGPnEX",
    "outputId": "7f801264-a112-4e05-d7d3-9f47347fc174"
   },
   "outputs": [
    {
     "data": {
      "text/plain": [
       "785"
      ]
     },
     "execution_count": 32,
     "metadata": {},
     "output_type": "execute_result"
    }
   ],
   "source": [
    "test['payer_type'].isnull().sum()"
   ]
  },
  {
   "cell_type": "code",
   "execution_count": 33,
   "metadata": {
    "colab": {
     "base_uri": "https://localhost:8080/",
     "height": 564
    },
    "execution": {
     "iopub.execute_input": "2024-05-31T16:42:14.976223Z",
     "iopub.status.busy": "2024-05-31T16:42:14.975817Z",
     "iopub.status.idle": "2024-05-31T16:42:15.221423Z",
     "shell.execute_reply": "2024-05-31T16:42:15.220397Z",
     "shell.execute_reply.started": "2024-05-31T16:42:14.976195Z"
    },
    "id": "bBU5B1vfVHXu",
    "outputId": "5cd34a3f-a18b-455f-c47c-03cdeb339618"
   },
   "outputs": [
    {
     "data": {
      "image/png": "[encoded data removed]",
      "text/plain": [
       "<Figure size 1000x600 with 1 Axes>"
      ]
     },
     "metadata": {},
     "output_type": "display_data"
    }
   ],
   "source": [
    "# Draw the counter plot for payer_type\n",
    "plt.figure(figsize=(10, 6))\n",
    "sns.countplot(data=train, x='payer_type')\n",
    "plt.title(\"Bar plot for payer_type\")\n",
    "plt.xlabel('Payer Type')\n",
    "plt.ylabel('Frequency')\n",
    "plt.show()"
   ]
  },
  {
   "cell_type": "markdown",
   "metadata": {
    "id": "iOfzfh7Nk2yt"
   },
   "source": [
    "## Imutation"
   ]
  },
  {
   "cell_type": "code",
   "execution_count": 34,
   "metadata": {
    "execution": {
     "iopub.execute_input": "2024-05-31T16:42:15.222917Z",
     "iopub.status.busy": "2024-05-31T16:42:15.222636Z",
     "iopub.status.idle": "2024-05-31T16:42:15.233407Z",
     "shell.execute_reply": "2024-05-31T16:42:15.232251Z",
     "shell.execute_reply.started": "2024-05-31T16:42:15.222893Z"
    },
    "id": "hijmVdxPYMft"
   },
   "outputs": [
    {
     "name": "stderr",
     "output_type": "stream",
     "text": [
      "/tmp/ipykernel_33/2568602795.py:3: FutureWarning: A value is trying to be set on a copy of a DataFrame or Series through chained assignment using an inplace method.\n",
      "The behavior will change in pandas 3.0. This inplace method will never work because the intermediate object on which we are setting values always behaves as a copy.\n",
      "\n",
      "For example, when doing 'df[col].method(value, inplace=True)', try using 'df.method({col: value}, inplace=True)' or df[col] = df[col].method(value) instead, to perform the operation inplace on the original object.\n",
      "\n",
      "\n",
      "  train['payer_type'].fillna(payer_mode, inplace=True)\n"
     ]
    }
   ],
   "source": [
    "# Replace missing payer_type values with the mode_train\n",
    "payer_mode = train['payer_type'].mode()[0]\n",
    "train['payer_type'].fillna(payer_mode, inplace=True)\n"
   ]
  },
  {
   "cell_type": "code",
   "execution_count": 35,
   "metadata": {
    "execution": {
     "iopub.execute_input": "2024-05-31T16:42:15.234916Z",
     "iopub.status.busy": "2024-05-31T16:42:15.234622Z",
     "iopub.status.idle": "2024-05-31T16:42:15.243709Z",
     "shell.execute_reply": "2024-05-31T16:42:15.242604Z",
     "shell.execute_reply.started": "2024-05-31T16:42:15.234882Z"
    },
    "id": "kIFafp6UPfa8"
   },
   "outputs": [
    {
     "name": "stderr",
     "output_type": "stream",
     "text": [
      "/tmp/ipykernel_33/2519844321.py:1: FutureWarning: A value is trying to be set on a copy of a DataFrame or Series through chained assignment using an inplace method.\n",
      "The behavior will change in pandas 3.0. This inplace method will never work because the intermediate object on which we are setting values always behaves as a copy.\n",
      "\n",
      "For example, when doing 'df[col].method(value, inplace=True)', try using 'df.method({col: value}, inplace=True)' or df[col] = df[col].method(value) instead, to perform the operation inplace on the original object.\n",
      "\n",
      "\n",
      "  test['payer_type'].fillna(payer_mode,inplace = True)\n"
     ]
    }
   ],
   "source": [
    "test['payer_type'].fillna(payer_mode,inplace = True)"
   ]
  },
  {
   "cell_type": "code",
   "execution_count": 36,
   "metadata": {
    "colab": {
     "base_uri": "https://localhost:8080/"
    },
    "execution": {
     "iopub.execute_input": "2024-05-31T16:42:15.245243Z",
     "iopub.status.busy": "2024-05-31T16:42:15.244914Z",
     "iopub.status.idle": "2024-05-31T16:42:15.258342Z",
     "shell.execute_reply": "2024-05-31T16:42:15.257384Z",
     "shell.execute_reply.started": "2024-05-31T16:42:15.245210Z"
    },
    "id": "Re3X5a5klkxu",
    "outputId": "28e000c7-3e8c-47c9-8a1f-daf91d44ba43"
   },
   "outputs": [
    {
     "data": {
      "text/plain": [
       "0"
      ]
     },
     "execution_count": 36,
     "metadata": {},
     "output_type": "execute_result"
    }
   ],
   "source": [
    "train['payer_type'].isnull().sum()"
   ]
  },
  {
   "cell_type": "code",
   "execution_count": 37,
   "metadata": {
    "colab": {
     "base_uri": "https://localhost:8080/"
    },
    "execution": {
     "iopub.execute_input": "2024-05-31T16:42:15.260107Z",
     "iopub.status.busy": "2024-05-31T16:42:15.259769Z",
     "iopub.status.idle": "2024-05-31T16:42:15.269397Z",
     "shell.execute_reply": "2024-05-31T16:42:15.268416Z",
     "shell.execute_reply.started": "2024-05-31T16:42:15.260076Z"
    },
    "id": "xtvZH9tOQYKp",
    "outputId": "5d2fd19e-6f72-4896-d9c7-262791991354"
   },
   "outputs": [
    {
     "data": {
      "text/plain": [
       "0"
      ]
     },
     "execution_count": 37,
     "metadata": {},
     "output_type": "execute_result"
    }
   ],
   "source": [
    "test['payer_type'].isnull().sum()"
   ]
  },
  {
   "cell_type": "code",
   "execution_count": 38,
   "metadata": {
    "colab": {
     "base_uri": "https://localhost:8080/"
    },
    "execution": {
     "iopub.execute_input": "2024-05-31T16:42:15.271150Z",
     "iopub.status.busy": "2024-05-31T16:42:15.270767Z",
     "iopub.status.idle": "2024-05-31T16:42:15.280196Z",
     "shell.execute_reply": "2024-05-31T16:42:15.279139Z",
     "shell.execute_reply.started": "2024-05-31T16:42:15.271115Z"
    },
    "id": "M7PTYmTslt6X",
    "outputId": "24e22d9e-4f4a-4cc4-bbfb-a74c09541b8b"
   },
   "outputs": [
    {
     "name": "stdout",
     "output_type": "stream",
     "text": [
      "shape of train: (13173, 148) \n",
      " shape of test: (5646, 147)\n"
     ]
    }
   ],
   "source": [
    "print(f\"shape of train: {train.shape} \\n shape of test: {test.shape}\")"
   ]
  },
  {
   "cell_type": "code",
   "execution_count": null,
   "metadata": {
    "colab": {
     "base_uri": "https://localhost:8080/",
     "height": 909
    },
    "execution": {
     "iopub.execute_input": "2024-05-31T16:42:15.282432Z",
     "iopub.status.busy": "2024-05-31T16:42:15.281794Z"
    },
    "id": "l2vnLDQ3GEsH",
    "outputId": "9ee488e2-c816-4142-a601-3149c6e4f4a6"
   },
   "outputs": [
    {
     "data": {
      "text/plain": [
       "<Axes: >"
      ]
     },
     "execution_count": 39,
     "metadata": {},
     "output_type": "execute_result"
    }
   ],
   "source": [
    "plt.figure(figsize = (16,9))\n",
    "sns.heatmap(train.isnull())"
   ]
  },
  {
   "cell_type": "code",
   "execution_count": null,
   "metadata": {
    "colab": {
     "base_uri": "https://localhost:8080/"
    },
    "id": "tfDK5P39Hb98",
    "outputId": "71b13e32-a038-4dc2-b8dc-64ce4192c9f5"
   },
   "outputs": [],
   "source": [
    "train[['Average of Apr-14', 'Average of Jun-14']].isnull().sum()"
   ]
  },
  {
   "cell_type": "code",
   "execution_count": null,
   "metadata": {
    "colab": {
     "base_uri": "https://localhost:8080/"
    },
    "id": "XJ-tvkijQuu3",
    "outputId": "26493e69-56c4-4fb7-d007-93f7046ea08e"
   },
   "outputs": [],
   "source": [
    "test[['Average of Apr-14','Average of Jun-14' ]].isnull().sum()"
   ]
  },
  {
   "cell_type": "markdown",
   "metadata": {
    "id": "z21yTB0oKFaB"
   },
   "source": [
    "# Average_of_Apr_14"
   ]
  },
  {
   "cell_type": "code",
   "execution_count": 42,
   "metadata": {
    "colab": {
     "base_uri": "https://localhost:8080/",
     "height": 570
    },
    "execution": {
     "iopub.status.idle": "2024-05-31T16:42:19.655606Z",
     "shell.execute_reply": "2024-05-31T16:42:19.654607Z",
     "shell.execute_reply.started": "2024-05-31T16:42:19.252947Z"
    },
    "id": "RsOYey2dICKf",
    "outputId": "ff4db9f6-691d-46f0-8279-20e6cf652dad"
   },
   "outputs": [
    {
     "data": {
      "image/png": "[encoded data removed]",
      "text/plain": [
       "<Figure size 640x480 with 1 Axes>"
      ]
     },
     "metadata": {},
     "output_type": "display_data"
    }
   ],
   "source": [
    "# Draw the density plot for Average of Apr_14\n",
    "sns.kdeplot(train['Average of Apr-14'], shade=True)"
   ]
  },
  {
   "cell_type": "code",
   "execution_count": 43,
   "metadata": {
    "colab": {
     "base_uri": "https://localhost:8080/"
    },
    "execution": {
     "iopub.execute_input": "2024-05-31T16:42:19.657107Z",
     "iopub.status.busy": "2024-05-31T16:42:19.656809Z",
     "iopub.status.idle": "2024-05-31T16:42:19.665942Z",
     "shell.execute_reply": "2024-05-31T16:42:19.665009Z",
     "shell.execute_reply.started": "2024-05-31T16:42:19.657081Z"
    },
    "id": "dp15QJObJMd3",
    "outputId": "443f2d65-081c-4578-cbaa-df0b22a7e3a2"
   },
   "outputs": [
    {
     "name": "stdout",
     "output_type": "stream",
     "text": [
      "Mean value is  55.89005695374433\n",
      "Median value is  55.35\n",
      "Mode Value is  49.99\n"
     ]
    }
   ],
   "source": [
    "print(\"Mean value is \",train['Average of Apr-14'].mean())\n",
    "print(\"Median value is \",train['Average of Apr-14'].median())\n",
    "print(\"Mode Value is \",train['Average of Apr-14'].mode()[0])"
   ]
  },
  {
   "cell_type": "code",
   "execution_count": 44,
   "metadata": {
    "execution": {
     "iopub.execute_input": "2024-05-31T16:42:19.667809Z",
     "iopub.status.busy": "2024-05-31T16:42:19.667297Z",
     "iopub.status.idle": "2024-05-31T16:42:19.674609Z",
     "shell.execute_reply": "2024-05-31T16:42:19.673740Z",
     "shell.execute_reply.started": "2024-05-31T16:42:19.667782Z"
    },
    "id": "_oiIUJY6JSIe"
   },
   "outputs": [
    {
     "name": "stderr",
     "output_type": "stream",
     "text": [
      "/tmp/ipykernel_33/3824929721.py:3: FutureWarning: A value is trying to be set on a copy of a DataFrame or Series through chained assignment using an inplace method.\n",
      "The behavior will change in pandas 3.0. This inplace method will never work because the intermediate object on which we are setting values always behaves as a copy.\n",
      "\n",
      "For example, when doing 'df[col].method(value, inplace=True)', try using 'df.method({col: value}, inplace=True)' or df[col] = df[col].method(value) instead, to perform the operation inplace on the original object.\n",
      "\n",
      "\n",
      "  train['Average of Apr-14'].fillna(median_apr, inplace=True)\n"
     ]
    }
   ],
   "source": [
    "# Replace missing Average of Apr-14 values with the median\n",
    "median_apr =train['Average of Apr-14'].median()\n",
    "train['Average of Apr-14'].fillna(median_apr, inplace=True)"
   ]
  },
  {
   "cell_type": "code",
   "execution_count": 45,
   "metadata": {
    "colab": {
     "base_uri": "https://localhost:8080/"
    },
    "execution": {
     "iopub.execute_input": "2024-05-31T16:42:19.676168Z",
     "iopub.status.busy": "2024-05-31T16:42:19.675814Z",
     "iopub.status.idle": "2024-05-31T16:42:19.684340Z",
     "shell.execute_reply": "2024-05-31T16:42:19.683566Z",
     "shell.execute_reply.started": "2024-05-31T16:42:19.676134Z"
    },
    "id": "TxgzEc0MJ5af",
    "outputId": "bb77916d-209e-4d5f-ce47-bb85e298f0b1"
   },
   "outputs": [
    {
     "data": {
      "text/plain": [
       "0"
      ]
     },
     "execution_count": 45,
     "metadata": {},
     "output_type": "execute_result"
    }
   ],
   "source": [
    "train['Average of Apr-14'].isnull().sum()"
   ]
  },
  {
   "cell_type": "markdown",
   "metadata": {
    "id": "km_VOw6XRQ7m"
   },
   "source": [
    "###### test_data\n"
   ]
  },
  {
   "cell_type": "code",
   "execution_count": 46,
   "metadata": {
    "execution": {
     "iopub.execute_input": "2024-05-31T16:42:19.685647Z",
     "iopub.status.busy": "2024-05-31T16:42:19.685345Z",
     "iopub.status.idle": "2024-05-31T16:42:19.694455Z",
     "shell.execute_reply": "2024-05-31T16:42:19.693515Z",
     "shell.execute_reply.started": "2024-05-31T16:42:19.685616Z"
    },
    "id": "INxPU7cTRW8w"
   },
   "outputs": [
    {
     "name": "stderr",
     "output_type": "stream",
     "text": [
      "/tmp/ipykernel_33/2523701501.py:1: FutureWarning: A value is trying to be set on a copy of a DataFrame or Series through chained assignment using an inplace method.\n",
      "The behavior will change in pandas 3.0. This inplace method will never work because the intermediate object on which we are setting values always behaves as a copy.\n",
      "\n",
      "For example, when doing 'df[col].method(value, inplace=True)', try using 'df.method({col: value}, inplace=True)' or df[col] = df[col].method(value) instead, to perform the operation inplace on the original object.\n",
      "\n",
      "\n",
      "  test['Average of Apr-14'].fillna(median_apr, inplace=True)\n"
     ]
    }
   ],
   "source": [
    "test['Average of Apr-14'].fillna(median_apr, inplace=True)"
   ]
  },
  {
   "cell_type": "code",
   "execution_count": 47,
   "metadata": {
    "colab": {
     "base_uri": "https://localhost:8080/"
    },
    "execution": {
     "iopub.execute_input": "2024-05-31T16:42:19.695885Z",
     "iopub.status.busy": "2024-05-31T16:42:19.695594Z",
     "iopub.status.idle": "2024-05-31T16:42:19.710022Z",
     "shell.execute_reply": "2024-05-31T16:42:19.709028Z",
     "shell.execute_reply.started": "2024-05-31T16:42:19.695860Z"
    },
    "id": "SaekBclORbQh",
    "outputId": "a991eb0a-4bcd-4bbc-e317-ed796d3adafd"
   },
   "outputs": [
    {
     "data": {
      "text/plain": [
       "0"
      ]
     },
     "execution_count": 47,
     "metadata": {},
     "output_type": "execute_result"
    }
   ],
   "source": [
    "test['Average of Apr-14'].isnull().sum()"
   ]
  },
  {
   "cell_type": "markdown",
   "metadata": {
    "id": "ooW_2G33KUhP"
   },
   "source": [
    "# Average of Jun-14"
   ]
  },
  {
   "cell_type": "code",
   "execution_count": 48,
   "metadata": {
    "colab": {
     "base_uri": "https://localhost:8080/"
    },
    "execution": {
     "iopub.execute_input": "2024-05-31T16:42:19.711814Z",
     "iopub.status.busy": "2024-05-31T16:42:19.711403Z",
     "iopub.status.idle": "2024-05-31T16:42:19.723958Z",
     "shell.execute_reply": "2024-05-31T16:42:19.723070Z",
     "shell.execute_reply.started": "2024-05-31T16:42:19.711779Z"
    },
    "id": "i_sl01s4K88b",
    "outputId": "e9d4d795-b738-4581-ce64-a6ebc1ca0846"
   },
   "outputs": [
    {
     "name": "stdout",
     "output_type": "stream",
     "text": [
      "Mean value is  72.39756316719145\n",
      "Median value is  71.41\n",
      "Mode Value is  70.54\n"
     ]
    }
   ],
   "source": [
    "print(\"Mean value is \",train['Average of Jun-14'].mean())\n",
    "print(\"Median value is \",train['Average of Jun-14'].median())\n",
    "print(\"Mode Value is \",train['Average of Jun-14'].mode()[0])"
   ]
  },
  {
   "cell_type": "code",
   "execution_count": 49,
   "metadata": {
    "execution": {
     "iopub.execute_input": "2024-05-31T16:42:19.725460Z",
     "iopub.status.busy": "2024-05-31T16:42:19.725145Z",
     "iopub.status.idle": "2024-05-31T16:42:19.732835Z",
     "shell.execute_reply": "2024-05-31T16:42:19.731906Z",
     "shell.execute_reply.started": "2024-05-31T16:42:19.725434Z"
    },
    "id": "d5UiUa5lL4W2"
   },
   "outputs": [
    {
     "name": "stderr",
     "output_type": "stream",
     "text": [
      "/tmp/ipykernel_33/56571893.py:3: FutureWarning: A value is trying to be set on a copy of a DataFrame or Series through chained assignment using an inplace method.\n",
      "The behavior will change in pandas 3.0. This inplace method will never work because the intermediate object on which we are setting values always behaves as a copy.\n",
      "\n",
      "For example, when doing 'df[col].method(value, inplace=True)', try using 'df.method({col: value}, inplace=True)' or df[col] = df[col].method(value) instead, to perform the operation inplace on the original object.\n",
      "\n",
      "\n",
      "  train['Average of Jun-14'].fillna(median_jun, inplace=True)\n"
     ]
    }
   ],
   "source": [
    "# Replace missing Average of Jun-14 values with the median\n",
    "median_jun =train['Average of Jun-14'].median()\n",
    "train['Average of Jun-14'].fillna(median_jun, inplace=True)"
   ]
  },
  {
   "cell_type": "code",
   "execution_count": 50,
   "metadata": {
    "colab": {
     "base_uri": "https://localhost:8080/"
    },
    "execution": {
     "iopub.execute_input": "2024-05-31T16:42:19.734268Z",
     "iopub.status.busy": "2024-05-31T16:42:19.733995Z",
     "iopub.status.idle": "2024-05-31T16:42:19.743235Z",
     "shell.execute_reply": "2024-05-31T16:42:19.742303Z",
     "shell.execute_reply.started": "2024-05-31T16:42:19.734245Z"
    },
    "id": "XtduyA8pOch1",
    "outputId": "b002c0cf-37ea-4ba1-e52c-6a23b00bde90"
   },
   "outputs": [
    {
     "data": {
      "text/plain": [
       "0"
      ]
     },
     "execution_count": 50,
     "metadata": {},
     "output_type": "execute_result"
    }
   ],
   "source": [
    "train['Average of Jun-14'].isnull().sum()"
   ]
  },
  {
   "cell_type": "markdown",
   "metadata": {
    "id": "1DhPP48hRv3q"
   },
   "source": [
    "###### Test_data"
   ]
  },
  {
   "cell_type": "code",
   "execution_count": 51,
   "metadata": {
    "colab": {
     "base_uri": "https://localhost:8080/"
    },
    "execution": {
     "iopub.execute_input": "2024-05-31T16:42:19.744631Z",
     "iopub.status.busy": "2024-05-31T16:42:19.744345Z",
     "iopub.status.idle": "2024-05-31T16:42:19.755031Z",
     "shell.execute_reply": "2024-05-31T16:42:19.753762Z",
     "shell.execute_reply.started": "2024-05-31T16:42:19.744602Z"
    },
    "id": "Vq7ZzZH0Rzmd",
    "outputId": "a1d619fa-3376-4c59-dc75-25b19cab4935"
   },
   "outputs": [
    {
     "name": "stderr",
     "output_type": "stream",
     "text": [
      "/tmp/ipykernel_33/426542378.py:1: FutureWarning: A value is trying to be set on a copy of a DataFrame or Series through chained assignment using an inplace method.\n",
      "The behavior will change in pandas 3.0. This inplace method will never work because the intermediate object on which we are setting values always behaves as a copy.\n",
      "\n",
      "For example, when doing 'df[col].method(value, inplace=True)', try using 'df.method({col: value}, inplace=True)' or df[col] = df[col].method(value) instead, to perform the operation inplace on the original object.\n",
      "\n",
      "\n",
      "  test['Average of Jun-14'].fillna(median_jun, inplace=True)\n"
     ]
    },
    {
     "data": {
      "text/plain": [
       "0"
      ]
     },
     "execution_count": 51,
     "metadata": {},
     "output_type": "execute_result"
    }
   ],
   "source": [
    "test['Average of Jun-14'].fillna(median_jun, inplace=True)\n",
    "test['Average of Jun-14'].isnull().sum()"
   ]
  },
  {
   "cell_type": "code",
   "execution_count": null,
   "metadata": {
    "colab": {
     "base_uri": "https://localhost:8080/",
     "height": 909
    },
    "execution": {
     "iopub.execute_input": "2024-05-31T16:42:19.756865Z",
     "iopub.status.busy": "2024-05-31T16:42:19.756446Z",
     "iopub.status.idle": "2024-05-31T16:42:23.456507Z"
    },
    "id": "a-iq3ajsOjIe",
    "outputId": "78e27339-36f3-4812-ba78-590eb574168f"
   },
   "outputs": [
    {
     "data": {
      "text/plain": [
       "<Axes: >"
      ]
     },
     "execution_count": 52,
     "metadata": {},
     "output_type": "execute_result"
    }
   ],
   "source": [
    "plt.figure(figsize = (16,9))\n",
    "sns.heatmap(train.isnull())"
   ]
  },
  {
   "cell_type": "code",
   "execution_count": null,
   "metadata": {
    "colab": {
     "base_uri": "https://localhost:8080/",
     "height": 916
    },
    "execution": {
     "iopub.execute_input": "2024-05-31T16:42:23.458203Z",
     "iopub.status.busy": "2024-05-31T16:42:23.457855Z"
    },
    "id": "nvbueSzLSLbg",
    "outputId": "e13b8b12-99ac-4606-d66b-d898688c84e0"
   },
   "outputs": [
    {
     "data": {
      "text/plain": [
       "<Axes: >"
      ]
     },
     "execution_count": 53,
     "metadata": {},
     "output_type": "execute_result"
    }
   ],
   "source": [
    "plt.figure(figsize = (16,9))\n",
    "sns.heatmap(test.isnull())"
   ]
  },
  {
   "cell_type": "code",
   "execution_count": 54,
   "metadata": {
    "colab": {
     "base_uri": "https://localhost:8080/"
    },
    "execution": {
     "iopub.execute_input": "2024-05-31T16:42:25.623956Z",
     "iopub.status.idle": "2024-05-31T16:42:25.630501Z",
     "shell.execute_reply": "2024-05-31T16:42:25.629624Z",
     "shell.execute_reply.started": "2024-05-31T16:42:25.623932Z"
    },
    "id": "IX2IyX75Oqoa",
    "outputId": "3f03f572-8ec7-4d94-e2f0-2f52e539f3ec"
   },
   "outputs": [
    {
     "data": {
      "text/plain": [
       "(13173, 148)"
      ]
     },
     "execution_count": 54,
     "metadata": {},
     "output_type": "execute_result"
    }
   ],
   "source": [
    "train.shape"
   ]
  },
  {
   "cell_type": "code",
   "execution_count": 55,
   "metadata": {
    "colab": {
     "base_uri": "https://localhost:8080/"
    },
    "execution": {
     "iopub.execute_input": "2024-05-31T16:42:25.632276Z",
     "iopub.status.busy": "2024-05-31T16:42:25.631901Z",
     "iopub.status.idle": "2024-05-31T16:42:25.646670Z",
     "shell.execute_reply": "2024-05-31T16:42:25.645700Z",
     "shell.execute_reply.started": "2024-05-31T16:42:25.632243Z"
    },
    "id": "kXBq5c2jSXzs",
    "outputId": "f1721cd9-7978-4a25-a7b3-fd4a7137964b"
   },
   "outputs": [
    {
     "data": {
      "text/plain": [
       "(5646, 147)"
      ]
     },
     "execution_count": 55,
     "metadata": {},
     "output_type": "execute_result"
    }
   ],
   "source": [
    "test.shape"
   ]
  },
  {
   "cell_type": "code",
   "execution_count": 56,
   "metadata": {
    "execution": {
     "iopub.execute_input": "2024-05-31T16:42:25.648073Z",
     "iopub.status.busy": "2024-05-31T16:42:25.647806Z",
     "iopub.status.idle": "2024-05-31T16:42:25.666398Z",
     "shell.execute_reply": "2024-05-31T16:42:25.664920Z",
     "shell.execute_reply.started": "2024-05-31T16:42:25.648043Z"
    },
    "id": "a0uKE9WbeCEW"
   },
   "outputs": [],
   "source": [
    "nan_train = train.isnull().sum()"
   ]
  },
  {
   "cell_type": "code",
   "execution_count": 57,
   "metadata": {
    "colab": {
     "base_uri": "https://localhost:8080/"
    },
    "execution": {
     "iopub.execute_input": "2024-05-31T16:42:25.668344Z",
     "iopub.status.busy": "2024-05-31T16:42:25.667991Z",
     "iopub.status.idle": "2024-05-31T16:42:25.679821Z",
     "shell.execute_reply": "2024-05-31T16:42:25.678801Z",
     "shell.execute_reply.started": "2024-05-31T16:42:25.668312Z"
    },
    "id": "81qppGXzeIdV",
    "outputId": "288b898b-ca16-4bdd-a0c3-63f3b38fd731"
   },
   "outputs": [
    {
     "data": {
      "text/plain": [
       "family_size                  5\n",
       "family_dual_income           5\n",
       "income_household_median      5\n",
       "income_household_under_5     5\n",
       "income_household_5_to_10     5\n",
       "                            ..\n",
       "Average of Aug-18           16\n",
       "Average of Sep-18            7\n",
       "Average of Oct-18            7\n",
       "Average of Nov-18           12\n",
       "Average of Dec-18           33\n",
       "Length: 65, dtype: int64"
      ]
     },
     "execution_count": 57,
     "metadata": {},
     "output_type": "execute_result"
    }
   ],
   "source": [
    "nan_train[nan_train > 0]"
   ]
  },
  {
   "cell_type": "code",
   "execution_count": 58,
   "metadata": {
    "execution": {
     "iopub.execute_input": "2024-05-31T16:42:25.681508Z",
     "iopub.status.busy": "2024-05-31T16:42:25.681013Z",
     "iopub.status.idle": "2024-05-31T16:42:25.707045Z",
     "shell.execute_reply": "2024-05-31T16:42:25.705652Z",
     "shell.execute_reply.started": "2024-05-31T16:42:25.681480Z"
    },
    "id": "9TztDU8XOz7d"
   },
   "outputs": [],
   "source": [
    "# Remove rows with Null values\n",
    "train.dropna(inplace = True)"
   ]
  },
  {
   "cell_type": "code",
   "execution_count": 59,
   "metadata": {
    "execution": {
     "iopub.execute_input": "2024-05-31T16:42:25.709017Z",
     "iopub.status.busy": "2024-05-31T16:42:25.708450Z",
     "iopub.status.idle": "2024-05-31T16:42:25.717680Z",
     "shell.execute_reply": "2024-05-31T16:42:25.716789Z",
     "shell.execute_reply.started": "2024-05-31T16:42:25.708980Z"
    },
    "id": "6TEIaRBJSep6"
   },
   "outputs": [],
   "source": [
    "test_null = test.isnull().sum()"
   ]
  },
  {
   "cell_type": "code",
   "execution_count": 60,
   "metadata": {
    "colab": {
     "base_uri": "https://localhost:8080/"
    },
    "execution": {
     "iopub.execute_input": "2024-05-31T16:42:25.719632Z",
     "iopub.status.busy": "2024-05-31T16:42:25.719227Z",
     "iopub.status.idle": "2024-05-31T16:42:25.732570Z",
     "shell.execute_reply": "2024-05-31T16:42:25.730665Z",
     "shell.execute_reply.started": "2024-05-31T16:42:25.719589Z"
    },
    "id": "zBmw65xMS-O4",
    "outputId": "fce43fe3-a79e-42a9-99bd-18ff0171ad46"
   },
   "outputs": [
    {
     "data": {
      "text/plain": [
       "Average of Jan-13     9\n",
       "Average of Jun-13     7\n",
       "Average of Aug-13     5\n",
       "Average of Sep-13    14\n",
       "Average of Oct-13    27\n",
       "Average of Jan-14     3\n",
       "Average of Feb-14     6\n",
       "Average of Mar-14    17\n",
       "Average of Nov-14     9\n",
       "Average of Jan-15     3\n",
       "Average of Feb-15     6\n",
       "Average of Mar-15     6\n",
       "Average of Apr-15    10\n",
       "Average of Aug-15    15\n",
       "Average of Oct-15     4\n",
       "Average of Nov-15     4\n",
       "Average of Dec-15     5\n",
       "Average of Jan-16     4\n",
       "Average of Feb-16     4\n",
       "Average of May-16     4\n",
       "Average of Jul-16     4\n",
       "Average of Dec-16     2\n",
       "Average of Jan-17     3\n",
       "Average of Jun-17     1\n",
       "Average of Jul-17    13\n",
       "Average of Sep-17     2\n",
       "Average of Oct-17    15\n",
       "Average of Nov-17     6\n",
       "Average of Feb-18     6\n",
       "Average of Mar-18     7\n",
       "Average of Jun-18     5\n",
       "Average of Jul-18    16\n",
       "Average of Aug-18     7\n",
       "Average of Sep-18     2\n",
       "Average of Oct-18     2\n",
       "Average of Nov-18     8\n",
       "Average of Dec-18    23\n",
       "dtype: int64"
      ]
     },
     "execution_count": 60,
     "metadata": {},
     "output_type": "execute_result"
    }
   ],
   "source": [
    "test_null[test_null > 0]"
   ]
  },
  {
   "cell_type": "code",
   "execution_count": 61,
   "metadata": {
    "execution": {
     "iopub.execute_input": "2024-05-31T16:42:25.735066Z",
     "iopub.status.busy": "2024-05-31T16:42:25.734135Z",
     "iopub.status.idle": "2024-05-31T16:42:25.747808Z",
     "shell.execute_reply": "2024-05-31T16:42:25.746821Z",
     "shell.execute_reply.started": "2024-05-31T16:42:25.735028Z"
    },
    "id": "75l-lYS3TWeZ"
   },
   "outputs": [],
   "source": [
    "# Fill the null values\n",
    "test = test.fillna(0)"
   ]
  },
  {
   "cell_type": "code",
   "execution_count": 62,
   "metadata": {
    "execution": {
     "iopub.execute_input": "2024-05-31T16:42:25.749748Z",
     "iopub.status.busy": "2024-05-31T16:42:25.749212Z",
     "iopub.status.idle": "2024-05-31T16:42:25.757813Z",
     "shell.execute_reply": "2024-05-31T16:42:25.757001Z",
     "shell.execute_reply.started": "2024-05-31T16:42:25.749713Z"
    },
    "id": "ur15rQoJV2Ih"
   },
   "outputs": [],
   "source": [
    "test_null_1 = test.isnull().sum()"
   ]
  },
  {
   "cell_type": "code",
   "execution_count": 63,
   "metadata": {
    "colab": {
     "base_uri": "https://localhost:8080/"
    },
    "execution": {
     "iopub.execute_input": "2024-05-31T16:42:25.759288Z",
     "iopub.status.busy": "2024-05-31T16:42:25.759003Z",
     "iopub.status.idle": "2024-05-31T16:42:25.769363Z",
     "shell.execute_reply": "2024-05-31T16:42:25.768506Z",
     "shell.execute_reply.started": "2024-05-31T16:42:25.759264Z"
    },
    "id": "4VZLuydkV-iO",
    "outputId": "f4f7e12f-5203-4563-b6cd-cd1aa63056b7"
   },
   "outputs": [
    {
     "data": {
      "text/plain": [
       "Series([], dtype: int64)"
      ]
     },
     "execution_count": 63,
     "metadata": {},
     "output_type": "execute_result"
    }
   ],
   "source": [
    "test_null_1[test_null_1 > 0]"
   ]
  },
  {
   "cell_type": "code",
   "execution_count": 64,
   "metadata": {
    "colab": {
     "base_uri": "https://localhost:8080/"
    },
    "execution": {
     "iopub.execute_input": "2024-05-31T16:42:25.770816Z",
     "iopub.status.busy": "2024-05-31T16:42:25.770476Z",
     "iopub.status.idle": "2024-05-31T16:42:25.780102Z",
     "shell.execute_reply": "2024-05-31T16:42:25.779304Z",
     "shell.execute_reply.started": "2024-05-31T16:42:25.770784Z"
    },
    "id": "azJS7jM8PLfu",
    "outputId": "dfa026d2-a623-4185-da74-991eb4feb173"
   },
   "outputs": [
    {
     "data": {
      "text/plain": [
       "(12914, 148)"
      ]
     },
     "execution_count": 64,
     "metadata": {},
     "output_type": "execute_result"
    }
   ],
   "source": [
    "train.shape"
   ]
  },
  {
   "cell_type": "code",
   "execution_count": 65,
   "metadata": {
    "colab": {
     "base_uri": "https://localhost:8080/"
    },
    "execution": {
     "iopub.execute_input": "2024-05-31T16:42:25.781648Z",
     "iopub.status.busy": "2024-05-31T16:42:25.781361Z",
     "iopub.status.idle": "2024-05-31T16:42:25.791154Z",
     "shell.execute_reply": "2024-05-31T16:42:25.790349Z",
     "shell.execute_reply.started": "2024-05-31T16:42:25.781624Z"
    },
    "id": "4uPUPqq3WFfu",
    "outputId": "3a385127-5fbd-44e3-8b7a-3c4d6a3494a6"
   },
   "outputs": [
    {
     "data": {
      "text/plain": [
       "(5646, 147)"
      ]
     },
     "execution_count": 65,
     "metadata": {},
     "output_type": "execute_result"
    }
   ],
   "source": [
    "test.shape"
   ]
  },
  {
   "cell_type": "code",
   "execution_count": 66,
   "metadata": {
    "colab": {
     "base_uri": "https://localhost:8080/"
    },
    "execution": {
     "iopub.execute_input": "2024-05-31T16:42:25.793127Z",
     "iopub.status.busy": "2024-05-31T16:42:25.792372Z",
     "iopub.status.idle": "2024-05-31T16:42:25.802886Z",
     "shell.execute_reply": "2024-05-31T16:42:25.801975Z",
     "shell.execute_reply.started": "2024-05-31T16:42:25.793096Z"
    },
    "id": "GIEkGkwhUn1w",
    "outputId": "578dc29d-4bf2-450d-ba69-053c1e46d38c"
   },
   "outputs": [
    {
     "data": {
      "text/plain": [
       "array(['AR', 'IL', 'CA', 'IN', 'OH', 'DE', 'LA', 'PA', 'MN', 'MI', 'NY',\n",
       "       'FL', 'CO', 'KY', 'GA', 'TX', 'VA', 'NC', 'HI', 'NM', 'NV', 'MD',\n",
       "       'MO', 'SC', 'AZ', 'UT', 'WA', 'NE', 'OR', 'IA', 'ID', 'WI', 'TN',\n",
       "       'OK', 'AL', 'MT', 'KS', 'AK', 'WY', 'MS', 'SD', 'DC', 'WV', 'ND'],\n",
       "      dtype=object)"
      ]
     },
     "execution_count": 66,
     "metadata": {},
     "output_type": "execute_result"
    }
   ],
   "source": [
    "# Find the uniques values for patient_state\n",
    "train['patient_state'].unique()"
   ]
  },
  {
   "cell_type": "code",
   "execution_count": 67,
   "metadata": {
    "colab": {
     "base_uri": "https://localhost:8080/"
    },
    "execution": {
     "iopub.execute_input": "2024-05-31T16:42:25.804137Z",
     "iopub.status.busy": "2024-05-31T16:42:25.803868Z",
     "iopub.status.idle": "2024-05-31T16:42:25.814634Z",
     "shell.execute_reply": "2024-05-31T16:42:25.813818Z",
     "shell.execute_reply.started": "2024-05-31T16:42:25.804113Z"
    },
    "id": "lPFM5U-9Xq0X",
    "outputId": "40583ab3-2493-4476-cbc9-b1943fefcde3"
   },
   "outputs": [
    {
     "data": {
      "text/plain": [
       "array(['F'], dtype=object)"
      ]
     },
     "execution_count": 67,
     "metadata": {},
     "output_type": "execute_result"
    }
   ],
   "source": [
    "train['patient_gender'].unique()"
   ]
  },
  {
   "cell_type": "code",
   "execution_count": 68,
   "metadata": {
    "colab": {
     "base_uri": "https://localhost:8080/",
     "height": 576
    },
    "execution": {
     "iopub.execute_input": "2024-05-31T16:42:25.816317Z",
     "iopub.status.busy": "2024-05-31T16:42:25.815866Z",
     "iopub.status.idle": "2024-05-31T16:42:26.249785Z",
     "shell.execute_reply": "2024-05-31T16:42:26.248803Z",
     "shell.execute_reply.started": "2024-05-31T16:42:25.816281Z"
    },
    "id": "z12kjoYyXY3X",
    "outputId": "6e170911-bf56-4779-d7b3-bf58f291ee78"
   },
   "outputs": [
    {
     "data": {
      "image/png": "[encoded data removed]",
      "text/plain": [
       "<Figure size 1000x600 with 1 Axes>"
      ]
     },
     "metadata": {},
     "output_type": "display_data"
    }
   ],
   "source": [
    "# Draw the Bar chart for patient State\n",
    "plt.figure(figsize=(10, 6))\n",
    "plt.title('Bar Chart For Patient State')\n",
    "sns.countplot(data=train, x='patient_state')\n",
    "plt.xlabel('State')\n",
    "plt.ylabel('Count')\n",
    "plt.xticks(rotation=45)\n",
    "plt.show()"
   ]
  },
  {
   "cell_type": "markdown",
   "metadata": {
    "id": "AxLukyZrZ2Px"
   },
   "source": [
    "In California, most people are affected by cancer, while in Delaware, Alaska, and Wyoming, fewer people are affected by cancer"
   ]
  },
  {
   "cell_type": "code",
   "execution_count": 69,
   "metadata": {
    "colab": {
     "base_uri": "https://localhost:8080/",
     "height": 564
    },
    "execution": {
     "iopub.execute_input": "2024-05-31T16:42:26.251292Z",
     "iopub.status.busy": "2024-05-31T16:42:26.250987Z",
     "iopub.status.idle": "2024-05-31T16:42:26.625034Z",
     "shell.execute_reply": "2024-05-31T16:42:26.624051Z",
     "shell.execute_reply.started": "2024-05-31T16:42:26.251267Z"
    },
    "id": "sYETp0McYflB",
    "outputId": "d23ba572-f445-4fe6-d272-8b458711d36e"
   },
   "outputs": [
    {
     "name": "stderr",
     "output_type": "stream",
     "text": [
      "/opt/conda/lib/python3.10/site-packages/seaborn/_oldcore.py:1119: FutureWarning: use_inf_as_na option is deprecated and will be removed in a future version. Convert inf values to NaN before operating instead.\n",
      "  with pd.option_context('mode.use_inf_as_na', True):\n"
     ]
    },
    {
     "data": {
      "image/png": "[encoded data removed]",
      "text/plain": [
       "<Figure size 800x600 with 1 Axes>"
      ]
     },
     "metadata": {},
     "output_type": "display_data"
    }
   ],
   "source": [
    "# Draw the Histogram For Patien Age\n",
    "plt.figure(figsize=(8, 6))\n",
    "plt.title('Histogram')\n",
    "sns.histplot(train['patient_age'], bins=10, kde=True, color='green')\n",
    "plt.xlabel('Age')\n",
    "plt.ylabel('Frequency')\n",
    "plt.show()"
   ]
  },
  {
   "cell_type": "markdown",
   "metadata": {
    "id": "v-s_Tyc6ae2F"
   },
   "source": [
    "Between the ages of 55 and 70, most females are affected by cancer.The primary peak occurs around age 60, indicating a significant concentration of cases within this demographic. Additionally, a secondary peak is observed around age 80, suggesting another notable increase in cancer incidence among individuals in their eighties."
   ]
  },
  {
   "cell_type": "markdown",
   "metadata": {
    "id": "aOQWgI38da5K"
   },
   "source": [
    "### Dealing with categorical and Numerical values"
   ]
  },
  {
   "cell_type": "code",
   "execution_count": 70,
   "metadata": {
    "execution": {
     "iopub.execute_input": "2024-05-31T16:42:26.627529Z",
     "iopub.status.busy": "2024-05-31T16:42:26.626468Z",
     "iopub.status.idle": "2024-05-31T16:42:26.634224Z",
     "shell.execute_reply": "2024-05-31T16:42:26.633280Z",
     "shell.execute_reply.started": "2024-05-31T16:42:26.627498Z"
    },
    "id": "7CwLFCgGdq2j"
   },
   "outputs": [],
   "source": [
    "def colnames(df):\n",
    "    # Get the Categorical variables\n",
    "    cat_col = [col for col in df.columns if df[col].dtype not in [\"int64\", \"float64\"]]\n",
    "\n",
    "    # Get the Numeric variables\n",
    "    num_col = [col for col in df.columns if df[col].dtype in [\"int64\", \"float64\"]]\n",
    "\n",
    "    # Get the Numerical but Categorical\n",
    "    num_but_cat = [col for col in df.columns if df[col].nunique() < 10 and df[col].dtype in [\"int64\", \"float64\"]]\n",
    "\n",
    "    # Adding num_but_cat to cat_cols\n",
    "    cat_cols = num_but_cat + cat_col\n",
    "\n",
    "    # num_but_cat remove from num_col\n",
    "    num_col = [col for col in num_col if col not in num_but_cat]\n",
    "\n",
    "    # Categorical but Ordinal Variable\n",
    "    cat_but_ordinal = [col for col in cat_col if df[col].nunique() > 10]\n",
    "\n",
    "    print(f\"Numerical cols: {num_col} \\nCategorical cols: {cat_col} \\nNumerical but Categorical: {num_but_cat} \\nCategorical but Ordinal: {cat_but_ordinal}\")\n",
    "\n",
    "    return num_col, cat_cols,cat_but_ordinal\n"
   ]
  },
  {
   "cell_type": "code",
   "execution_count": 71,
   "metadata": {
    "colab": {
     "base_uri": "https://localhost:8080/"
    },
    "execution": {
     "iopub.execute_input": "2024-05-31T16:42:26.635635Z",
     "iopub.status.busy": "2024-05-31T16:42:26.635316Z",
     "iopub.status.idle": "2024-05-31T16:42:26.704324Z",
     "shell.execute_reply": "2024-05-31T16:42:26.703317Z",
     "shell.execute_reply.started": "2024-05-31T16:42:26.635602Z"
    },
    "id": "gwfE4bGjj6gW",
    "outputId": "e79888f9-a6fb-4d06-d878-101bf789906a"
   },
   "outputs": [
    {
     "name": "stdout",
     "output_type": "stream",
     "text": [
      "Numerical cols: ['patient_id', 'patient_zip3', 'patient_age', 'population', 'density', 'age_median', 'age_under_10', 'age_10_to_19', 'age_20s', 'age_30s', 'age_40s', 'age_50s', 'age_60s', 'age_70s', 'age_over_80', 'male', 'female', 'married', 'divorced', 'never_married', 'widowed', 'family_size', 'family_dual_income', 'income_household_median', 'income_household_under_5', 'income_household_5_to_10', 'income_household_10_to_15', 'income_household_15_to_20', 'income_household_20_to_25', 'income_household_25_to_35', 'income_household_35_to_50', 'income_household_50_to_75', 'income_household_75_to_100', 'income_household_100_to_150', 'income_household_150_over', 'income_household_six_figure', 'income_individual_median', 'home_ownership', 'housing_units', 'home_value', 'rent_median', 'rent_burden', 'education_less_highschool', 'education_highschool', 'education_some_college', 'education_bachelors', 'education_graduate', 'education_college_or_above', 'education_stem_degree', 'labor_force_participation', 'unemployment_rate', 'self_employed', 'farmer', 'race_white', 'race_black', 'race_asian', 'race_native', 'race_pacific', 'race_other', 'race_multiple', 'hispanic', 'disabled', 'poverty', 'limited_english', 'commute_time', 'health_uninsured', 'veteran', 'Average of Jan-13', 'Average of Feb-13', 'Average of Mar-13', 'Average of Apr-13', 'Average of May-13', 'Average of Jun-13', 'Average of Jul-13', 'Average of Aug-13', 'Average of Sep-13', 'Average of Oct-13', 'Average of Nov-13', 'Average of Dec-13', 'Average of Jan-14', 'Average of Feb-14', 'Average of Mar-14', 'Average of Apr-14', 'Average of May-14', 'Average of Jun-14', 'Average of Jul-14', 'Average of Aug-14', 'Average of Sep-14', 'Average of Oct-14', 'Average of Nov-14', 'Average of Dec-14', 'Average of Jan-15', 'Average of Feb-15', 'Average of Mar-15', 'Average of Apr-15', 'Average of May-15', 'Average of Jun-15', 'Average of Jul-15', 'Average of Aug-15', 'Average of Sep-15', 'Average of Oct-15', 'Average of Nov-15', 'Average of Dec-15', 'Average of Jan-16', 'Average of Feb-16', 'Average of Mar-16', 'Average of Apr-16', 'Average of May-16', 'Average of Jun-16', 'Average of Jul-16', 'Average of Aug-16', 'Average of Sep-16', 'Average of Oct-16', 'Average of Nov-16', 'Average of Dec-16', 'Average of Jan-17', 'Average of Feb-17', 'Average of Mar-17', 'Average of Apr-17', 'Average of May-17', 'Average of Jun-17', 'Average of Jul-17', 'Average of Aug-17', 'Average of Sep-17', 'Average of Oct-17', 'Average of Nov-17', 'Average of Dec-17', 'Average of Jan-18', 'Average of Feb-18', 'Average of Mar-18', 'Average of Apr-18', 'Average of May-18', 'Average of Jun-18', 'Average of Jul-18', 'Average of Aug-18', 'Average of Sep-18', 'Average of Oct-18', 'Average of Nov-18', 'Average of Dec-18', 'metastatic_diagnosis_period'] \n",
      "Categorical cols: ['payer_type', 'patient_state', 'Region', 'Division', 'patient_gender', 'breast_cancer_diagnosis_code', 'breast_cancer_diagnosis_desc', 'metastatic_cancer_diagnosis_code'] \n",
      "Numerical but Categorical: [] \n",
      "Categorical but Ordinal: ['patient_state', 'breast_cancer_diagnosis_code', 'breast_cancer_diagnosis_desc', 'metastatic_cancer_diagnosis_code']\n"
     ]
    }
   ],
   "source": [
    "numerical_cols,categorical_cols,categorical_ordinal = colnames(train)"
   ]
  },
  {
   "cell_type": "code",
   "execution_count": 72,
   "metadata": {
    "colab": {
     "base_uri": "https://localhost:8080/"
    },
    "execution": {
     "iopub.execute_input": "2024-05-31T16:42:26.705862Z",
     "iopub.status.busy": "2024-05-31T16:42:26.705539Z",
     "iopub.status.idle": "2024-05-31T16:42:26.711079Z",
     "shell.execute_reply": "2024-05-31T16:42:26.710048Z",
     "shell.execute_reply.started": "2024-05-31T16:42:26.705835Z"
    },
    "id": "ohHoPBBVuAjg",
    "outputId": "1214dcdf-fd0b-4da5-f269-9afe455547dc"
   },
   "outputs": [
    {
     "name": "stdout",
     "output_type": "stream",
     "text": [
      "Numerial: 140 \n",
      " Categorical : 8\n"
     ]
    }
   ],
   "source": [
    "print(f\"Numerial: {len(numerical_cols)} \\n Categorical : {len(categorical_cols)}\")"
   ]
  },
  {
   "cell_type": "code",
   "execution_count": 73,
   "metadata": {
    "colab": {
     "base_uri": "https://localhost:8080/",
     "height": 423
    },
    "execution": {
     "iopub.execute_input": "2024-05-31T16:42:26.712498Z",
     "iopub.status.busy": "2024-05-31T16:42:26.712184Z",
     "iopub.status.idle": "2024-05-31T16:42:27.131601Z",
     "shell.execute_reply": "2024-05-31T16:42:27.130608Z",
     "shell.execute_reply.started": "2024-05-31T16:42:26.712473Z"
    },
    "id": "nqBc3sbAbU1E",
    "outputId": "7fde1a61-3d9b-4f2f-d794-90583ebce028"
   },
   "outputs": [
    {
     "data": {
      "text/html": [
       "<div>\n",
       "<style scoped>\n",
       "    .dataframe tbody tr th:only-of-type {\n",
       "        vertical-align: middle;\n",
       "    }\n",
       "\n",
       "    .dataframe tbody tr th {\n",
       "        vertical-align: top;\n",
       "    }\n",
       "\n",
       "    .dataframe thead th {\n",
       "        text-align: right;\n",
       "    }\n",
       "</style>\n",
       "<table border=\"1\" class=\"dataframe\">\n",
       "  <thead>\n",
       "    <tr style=\"text-align: right;\">\n",
       "      <th></th>\n",
       "      <th>count</th>\n",
       "      <th>mean</th>\n",
       "      <th>std</th>\n",
       "      <th>min</th>\n",
       "      <th>25%</th>\n",
       "      <th>50%</th>\n",
       "      <th>75%</th>\n",
       "      <th>max</th>\n",
       "    </tr>\n",
       "  </thead>\n",
       "  <tbody>\n",
       "    <tr>\n",
       "      <th>patient_id</th>\n",
       "      <td>12914.0</td>\n",
       "      <td>555737.426824</td>\n",
       "      <td>259401.529690</td>\n",
       "      <td>100043.00</td>\n",
       "      <td>335513.00</td>\n",
       "      <td>556682.00</td>\n",
       "      <td>781222.75</td>\n",
       "      <td>999982.00</td>\n",
       "    </tr>\n",
       "    <tr>\n",
       "      <th>patient_zip3</th>\n",
       "      <td>12914.0</td>\n",
       "      <td>569.212715</td>\n",
       "      <td>275.913075</td>\n",
       "      <td>100.00</td>\n",
       "      <td>330.00</td>\n",
       "      <td>559.00</td>\n",
       "      <td>826.25</td>\n",
       "      <td>995.00</td>\n",
       "    </tr>\n",
       "    <tr>\n",
       "      <th>patient_age</th>\n",
       "      <td>12914.0</td>\n",
       "      <td>59.271024</td>\n",
       "      <td>13.216763</td>\n",
       "      <td>18.00</td>\n",
       "      <td>50.00</td>\n",
       "      <td>59.00</td>\n",
       "      <td>67.00</td>\n",
       "      <td>91.00</td>\n",
       "    </tr>\n",
       "    <tr>\n",
       "      <th>population</th>\n",
       "      <td>12914.0</td>\n",
       "      <td>20662.175383</td>\n",
       "      <td>13931.827344</td>\n",
       "      <td>635.55</td>\n",
       "      <td>9079.98</td>\n",
       "      <td>18744.07</td>\n",
       "      <td>30021.28</td>\n",
       "      <td>71374.13</td>\n",
       "    </tr>\n",
       "    <tr>\n",
       "      <th>density</th>\n",
       "      <td>12914.0</td>\n",
       "      <td>1793.964704</td>\n",
       "      <td>3911.545576</td>\n",
       "      <td>0.92</td>\n",
       "      <td>161.93</td>\n",
       "      <td>700.34</td>\n",
       "      <td>1666.52</td>\n",
       "      <td>29851.69</td>\n",
       "    </tr>\n",
       "    <tr>\n",
       "      <th>...</th>\n",
       "      <td>...</td>\n",
       "      <td>...</td>\n",
       "      <td>...</td>\n",
       "      <td>...</td>\n",
       "      <td>...</td>\n",
       "      <td>...</td>\n",
       "      <td>...</td>\n",
       "      <td>...</td>\n",
       "    </tr>\n",
       "    <tr>\n",
       "      <th>Average of Sep-18</th>\n",
       "      <td>12914.0</td>\n",
       "      <td>71.399490</td>\n",
       "      <td>6.480832</td>\n",
       "      <td>51.83</td>\n",
       "      <td>67.02</td>\n",
       "      <td>70.88</td>\n",
       "      <td>75.59</td>\n",
       "      <td>89.19</td>\n",
       "    </tr>\n",
       "    <tr>\n",
       "      <th>Average of Oct-18</th>\n",
       "      <td>12914.0</td>\n",
       "      <td>59.315989</td>\n",
       "      <td>9.264887</td>\n",
       "      <td>37.54</td>\n",
       "      <td>51.97</td>\n",
       "      <td>57.61</td>\n",
       "      <td>67.24</td>\n",
       "      <td>81.46</td>\n",
       "    </tr>\n",
       "    <tr>\n",
       "      <th>Average of Nov-18</th>\n",
       "      <td>12914.0</td>\n",
       "      <td>46.117112</td>\n",
       "      <td>12.279662</td>\n",
       "      <td>19.15</td>\n",
       "      <td>35.52</td>\n",
       "      <td>42.43</td>\n",
       "      <td>55.80</td>\n",
       "      <td>76.30</td>\n",
       "    </tr>\n",
       "    <tr>\n",
       "      <th>Average of Dec-18</th>\n",
       "      <td>12914.0</td>\n",
       "      <td>42.125713</td>\n",
       "      <td>11.227638</td>\n",
       "      <td>15.38</td>\n",
       "      <td>33.37</td>\n",
       "      <td>38.52</td>\n",
       "      <td>50.52</td>\n",
       "      <td>73.54</td>\n",
       "    </tr>\n",
       "    <tr>\n",
       "      <th>metastatic_diagnosis_period</th>\n",
       "      <td>12914.0</td>\n",
       "      <td>96.635434</td>\n",
       "      <td>109.075433</td>\n",
       "      <td>0.00</td>\n",
       "      <td>3.00</td>\n",
       "      <td>44.00</td>\n",
       "      <td>181.00</td>\n",
       "      <td>365.00</td>\n",
       "    </tr>\n",
       "  </tbody>\n",
       "</table>\n",
       "<p>140 rows × 8 columns</p>\n",
       "</div>"
      ],
      "text/plain": [
       "                               count           mean            std        min  \\\n",
       "patient_id                   12914.0  555737.426824  259401.529690  100043.00   \n",
       "patient_zip3                 12914.0     569.212715     275.913075     100.00   \n",
       "patient_age                  12914.0      59.271024      13.216763      18.00   \n",
       "population                   12914.0   20662.175383   13931.827344     635.55   \n",
       "density                      12914.0    1793.964704    3911.545576       0.92   \n",
       "...                              ...            ...            ...        ...   \n",
       "Average of Sep-18            12914.0      71.399490       6.480832      51.83   \n",
       "Average of Oct-18            12914.0      59.315989       9.264887      37.54   \n",
       "Average of Nov-18            12914.0      46.117112      12.279662      19.15   \n",
       "Average of Dec-18            12914.0      42.125713      11.227638      15.38   \n",
       "metastatic_diagnosis_period  12914.0      96.635434     109.075433       0.00   \n",
       "\n",
       "                                   25%        50%        75%        max  \n",
       "patient_id                   335513.00  556682.00  781222.75  999982.00  \n",
       "patient_zip3                    330.00     559.00     826.25     995.00  \n",
       "patient_age                      50.00      59.00      67.00      91.00  \n",
       "population                     9079.98   18744.07   30021.28   71374.13  \n",
       "density                         161.93     700.34    1666.52   29851.69  \n",
       "...                                ...        ...        ...        ...  \n",
       "Average of Sep-18                67.02      70.88      75.59      89.19  \n",
       "Average of Oct-18                51.97      57.61      67.24      81.46  \n",
       "Average of Nov-18                35.52      42.43      55.80      76.30  \n",
       "Average of Dec-18                33.37      38.52      50.52      73.54  \n",
       "metastatic_diagnosis_period       3.00      44.00     181.00     365.00  \n",
       "\n",
       "[140 rows x 8 columns]"
      ]
     },
     "execution_count": 73,
     "metadata": {},
     "output_type": "execute_result"
    }
   ],
   "source": [
    "train[numerical_cols].describe().T"
   ]
  },
  {
   "cell_type": "code",
   "execution_count": 74,
   "metadata": {
    "colab": {
     "base_uri": "https://localhost:8080/",
     "height": 265
    },
    "execution": {
     "iopub.execute_input": "2024-05-31T16:42:27.133365Z",
     "iopub.status.busy": "2024-05-31T16:42:27.132967Z",
     "iopub.status.idle": "2024-05-31T16:42:27.154304Z",
     "shell.execute_reply": "2024-05-31T16:42:27.153212Z",
     "shell.execute_reply.started": "2024-05-31T16:42:27.133329Z"
    },
    "id": "HOXo4A6dfLNe",
    "outputId": "2d201109-6328-4e74-e45d-bd33e28a2cef"
   },
   "outputs": [
    {
     "data": {
      "text/html": [
       "<div>\n",
       "<style scoped>\n",
       "    .dataframe tbody tr th:only-of-type {\n",
       "        vertical-align: middle;\n",
       "    }\n",
       "\n",
       "    .dataframe tbody tr th {\n",
       "        vertical-align: top;\n",
       "    }\n",
       "\n",
       "    .dataframe thead th {\n",
       "        text-align: right;\n",
       "    }\n",
       "</style>\n",
       "<table border=\"1\" class=\"dataframe\">\n",
       "  <thead>\n",
       "    <tr style=\"text-align: right;\">\n",
       "      <th></th>\n",
       "      <th>patient_id</th>\n",
       "      <th>payer_type</th>\n",
       "      <th>patient_state</th>\n",
       "      <th>patient_zip3</th>\n",
       "      <th>Region</th>\n",
       "      <th>Division</th>\n",
       "      <th>patient_age</th>\n",
       "      <th>patient_gender</th>\n",
       "      <th>breast_cancer_diagnosis_code</th>\n",
       "      <th>breast_cancer_diagnosis_desc</th>\n",
       "      <th>...</th>\n",
       "      <th>Average of Apr-18</th>\n",
       "      <th>Average of May-18</th>\n",
       "      <th>Average of Jun-18</th>\n",
       "      <th>Average of Jul-18</th>\n",
       "      <th>Average of Aug-18</th>\n",
       "      <th>Average of Sep-18</th>\n",
       "      <th>Average of Oct-18</th>\n",
       "      <th>Average of Nov-18</th>\n",
       "      <th>Average of Dec-18</th>\n",
       "      <th>metastatic_diagnosis_period</th>\n",
       "    </tr>\n",
       "  </thead>\n",
       "  <tbody>\n",
       "    <tr>\n",
       "      <th>0</th>\n",
       "      <td>268700</td>\n",
       "      <td>COMMERCIAL</td>\n",
       "      <td>AR</td>\n",
       "      <td>724</td>\n",
       "      <td>South</td>\n",
       "      <td>West South Central</td>\n",
       "      <td>39</td>\n",
       "      <td>F</td>\n",
       "      <td>C50912</td>\n",
       "      <td>Malignant neoplasm of unspecified site of left...</td>\n",
       "      <td>...</td>\n",
       "      <td>52.55</td>\n",
       "      <td>74.77</td>\n",
       "      <td>79.96</td>\n",
       "      <td>81.69</td>\n",
       "      <td>78.30</td>\n",
       "      <td>74.56</td>\n",
       "      <td>59.98</td>\n",
       "      <td>42.98</td>\n",
       "      <td>41.18</td>\n",
       "      <td>191</td>\n",
       "    </tr>\n",
       "    <tr>\n",
       "      <th>1</th>\n",
       "      <td>484983</td>\n",
       "      <td>COMMERCIAL</td>\n",
       "      <td>IL</td>\n",
       "      <td>629</td>\n",
       "      <td>Midwest</td>\n",
       "      <td>East North Central</td>\n",
       "      <td>55</td>\n",
       "      <td>F</td>\n",
       "      <td>C50412</td>\n",
       "      <td>Malig neoplasm of upper-outer quadrant of left...</td>\n",
       "      <td>...</td>\n",
       "      <td>49.30</td>\n",
       "      <td>72.87</td>\n",
       "      <td>77.40</td>\n",
       "      <td>77.43</td>\n",
       "      <td>75.83</td>\n",
       "      <td>72.64</td>\n",
       "      <td>58.36</td>\n",
       "      <td>39.68</td>\n",
       "      <td>39.71</td>\n",
       "      <td>33</td>\n",
       "    </tr>\n",
       "  </tbody>\n",
       "</table>\n",
       "<p>2 rows × 148 columns</p>\n",
       "</div>"
      ],
      "text/plain": [
       "   patient_id  payer_type patient_state  patient_zip3   Region  \\\n",
       "0      268700  COMMERCIAL            AR           724    South   \n",
       "1      484983  COMMERCIAL            IL           629  Midwest   \n",
       "\n",
       "             Division  patient_age patient_gender  \\\n",
       "0  West South Central           39              F   \n",
       "1  East North Central           55              F   \n",
       "\n",
       "  breast_cancer_diagnosis_code  \\\n",
       "0                       C50912   \n",
       "1                       C50412   \n",
       "\n",
       "                        breast_cancer_diagnosis_desc  ... Average of Apr-18  \\\n",
       "0  Malignant neoplasm of unspecified site of left...  ...             52.55   \n",
       "1  Malig neoplasm of upper-outer quadrant of left...  ...             49.30   \n",
       "\n",
       "   Average of May-18  Average of Jun-18  Average of Jul-18  Average of Aug-18  \\\n",
       "0              74.77              79.96              81.69              78.30   \n",
       "1              72.87              77.40              77.43              75.83   \n",
       "\n",
       "   Average of Sep-18  Average of Oct-18  Average of Nov-18  Average of Dec-18  \\\n",
       "0              74.56              59.98              42.98              41.18   \n",
       "1              72.64              58.36              39.68              39.71   \n",
       "\n",
       "   metastatic_diagnosis_period  \n",
       "0                          191  \n",
       "1                           33  \n",
       "\n",
       "[2 rows x 148 columns]"
      ]
     },
     "execution_count": 74,
     "metadata": {},
     "output_type": "execute_result"
    }
   ],
   "source": [
    "train.head(2)"
   ]
  },
  {
   "cell_type": "code",
   "execution_count": null,
   "metadata": {
    "colab": {
     "base_uri": "https://localhost:8080/",
     "height": 638
    },
    "execution": {
     "iopub.execute_input": "2024-05-31T16:42:27.156068Z",
     "iopub.status.busy": "2024-05-31T16:42:27.155677Z"
    },
    "id": "1--BGFdhfck8",
    "outputId": "65f5a2f2-1d52-47b1-e773-5526b329afde"
   },
   "outputs": [
    {
     "data": {
      "text/plain": [
       "<Axes: >"
      ]
     },
     "execution_count": 75,
     "metadata": {},
     "output_type": "execute_result"
    }
   ],
   "source": [
    "# Check the correlation between numerical columns\n",
    "sns.heatmap(train[numerical_cols].corr(),annot = True, linewidth = 0.5)"
   ]
  },
  {
   "cell_type": "code",
   "execution_count": null,
   "metadata": {
    "execution": {
     "iopub.status.idle": "2024-05-31T16:43:12.002618Z"
    },
    "id": "9PBZMK6dg0_u"
   },
   "outputs": [],
   "source": [
    "selected_columns = ['Average of Jan-13', 'Average of Feb-13', 'Average of Mar-13', 'Average of Apr-13', 'Average of May-13', 'Average of Jun-13', 'Average of Jul-13', 'Average of Aug-13', 'Average of Sep-13', 'Average of Oct-13', 'Average of Nov-13', 'Average of Dec-13', 'Average of Jan-14', 'Average of Feb-14', 'Average of Mar-14', 'Average of Apr-14', 'Average of May-14', 'Average of Jul-14', 'Average of Aug-14', 'Average of Sep-14', 'Average of Oct-14', 'Average of Nov-14', 'Average of Dec-14', 'Average of Jan-15', 'Average of Feb-15', 'Average of Mar-15', 'Average of Apr-15', 'Average of May-15', 'Average of Jun-15', 'Average of Jul-15', 'Average of Aug-15', 'Average of Sep-15', 'Average of Oct-15', 'Average of Nov-15', 'Average of Dec-15', 'Average of Jan-16', 'Average of Feb-16', 'Average of Mar-16', 'Average of Apr-16', 'Average of May-16', 'Average of Jun-16', 'Average of Jul-16', 'Average of Aug-16', 'Average of Sep-16', 'Average of Oct-16', 'Average of Nov-16', 'Average of Dec-16', 'Average of Jan-17', 'Average of Feb-17', 'Average of Mar-17', 'Average of Apr-17', 'Average of May-17', 'Average of Jun-17', 'Average of Jul-17', 'Average of Aug-17', 'Average of Sep-17', 'Average of Oct-17', 'Average of Nov-17', 'Average of Dec-17', 'Average of Jan-18', 'Average of Feb-18', 'Average of Mar-18', 'Average of Apr-18', 'Average of May-18', 'Average of Jun-18', 'Average of Jul-18', 'Average of Aug-18', 'Average of Sep-18', 'Average of Oct-18', 'Average of Nov-18', 'Average of Dec-18', 'metastatic_diagnosis_period']"
   ]
  },
  {
   "cell_type": "code",
   "execution_count": null,
   "metadata": {
    "colab": {
     "base_uri": "https://localhost:8080/",
     "height": 569
    },
    "execution": {
     "iopub.execute_input": "2024-05-31T16:43:12.004346Z",
     "iopub.status.busy": "2024-05-31T16:43:12.004028Z"
    },
    "id": "TJruNk6bmuq3",
    "outputId": "48e59fa6-d5c9-49b1-9ead-73e41e9c2cfe"
   },
   "outputs": [
    {
     "data": {
      "text/plain": [
       "<Axes: >"
      ]
     },
     "execution_count": 77,
     "metadata": {},
     "output_type": "execute_result"
    }
   ],
   "source": [
    "sns.heatmap(train[selected_columns].corr(),annot = True, linewidth = 0.5)"
   ]
  },
  {
   "cell_type": "code",
   "execution_count": null,
   "metadata": {
    "execution": {
     "iopub.execute_input": "2024-05-31T16:43:24.284114Z",
     "iopub.status.idle": "2024-05-31T16:43:24.476891Z"
    },
    "id": "Kv6IGqLRm4J6"
   },
   "outputs": [],
   "source": [
    "corr_matrix = train[selected_columns].corr()"
   ]
  },
  {
   "cell_type": "code",
   "execution_count": null,
   "metadata": {
    "colab": {
     "base_uri": "https://localhost:8080/",
     "height": 478
    },
    "execution": {
     "iopub.execute_input": "2024-05-31T16:43:24.478517Z",
     "iopub.status.busy": "2024-05-31T16:43:24.478196Z",
     "iopub.status.idle": "2024-05-31T16:43:24.505034Z"
    },
    "id": "fcQX4_I7nkxE",
    "outputId": "002b43da-68f4-4c9b-e512-0bf13c087003"
   },
   "outputs": [
    {
     "data": {
      "text/html": [
       "<div>\n",
       "<style scoped>\n",
       "    .dataframe tbody tr th:only-of-type {\n",
       "        vertical-align: middle;\n",
       "    }\n",
       "\n",
       "    .dataframe tbody tr th {\n",
       "        vertical-align: top;\n",
       "    }\n",
       "\n",
       "    .dataframe thead th {\n",
       "        text-align: right;\n",
       "    }\n",
       "</style>\n",
       "<table border=\"1\" class=\"dataframe\">\n",
       "  <thead>\n",
       "    <tr style=\"text-align: right;\">\n",
       "      <th></th>\n",
       "      <th>Average of Jan-13</th>\n",
       "      <th>Average of Feb-13</th>\n",
       "      <th>Average of Mar-13</th>\n",
       "      <th>Average of Apr-13</th>\n",
       "      <th>Average of May-13</th>\n",
       "      <th>Average of Jun-13</th>\n",
       "      <th>Average of Jul-13</th>\n",
       "      <th>Average of Aug-13</th>\n",
       "      <th>Average of Sep-13</th>\n",
       "      <th>Average of Oct-13</th>\n",
       "      <th>...</th>\n",
       "      <th>Average of Apr-18</th>\n",
       "      <th>Average of May-18</th>\n",
       "      <th>Average of Jun-18</th>\n",
       "      <th>Average of Jul-18</th>\n",
       "      <th>Average of Aug-18</th>\n",
       "      <th>Average of Sep-18</th>\n",
       "      <th>Average of Oct-18</th>\n",
       "      <th>Average of Nov-18</th>\n",
       "      <th>Average of Dec-18</th>\n",
       "      <th>metastatic_diagnosis_period</th>\n",
       "    </tr>\n",
       "  </thead>\n",
       "  <tbody>\n",
       "    <tr>\n",
       "      <th>Average of Jan-13</th>\n",
       "      <td>1.000000</td>\n",
       "      <td>0.978516</td>\n",
       "      <td>0.932736</td>\n",
       "      <td>0.948837</td>\n",
       "      <td>0.826647</td>\n",
       "      <td>0.617633</td>\n",
       "      <td>0.474101</td>\n",
       "      <td>0.624946</td>\n",
       "      <td>0.819851</td>\n",
       "      <td>0.947657</td>\n",
       "      <td>...</td>\n",
       "      <td>0.944258</td>\n",
       "      <td>0.523280</td>\n",
       "      <td>0.518465</td>\n",
       "      <td>0.640446</td>\n",
       "      <td>0.652516</td>\n",
       "      <td>0.771047</td>\n",
       "      <td>0.974163</td>\n",
       "      <td>0.976020</td>\n",
       "      <td>0.988915</td>\n",
       "      <td>-0.010277</td>\n",
       "    </tr>\n",
       "    <tr>\n",
       "      <th>Average of Feb-13</th>\n",
       "      <td>0.978516</td>\n",
       "      <td>1.000000</td>\n",
       "      <td>0.973929</td>\n",
       "      <td>0.949843</td>\n",
       "      <td>0.828987</td>\n",
       "      <td>0.627959</td>\n",
       "      <td>0.495301</td>\n",
       "      <td>0.663637</td>\n",
       "      <td>0.843623</td>\n",
       "      <td>0.928252</td>\n",
       "      <td>...</td>\n",
       "      <td>0.969119</td>\n",
       "      <td>0.516356</td>\n",
       "      <td>0.525459</td>\n",
       "      <td>0.667789</td>\n",
       "      <td>0.651916</td>\n",
       "      <td>0.739197</td>\n",
       "      <td>0.960608</td>\n",
       "      <td>0.976980</td>\n",
       "      <td>0.979415</td>\n",
       "      <td>-0.010097</td>\n",
       "    </tr>\n",
       "    <tr>\n",
       "      <th>Average of Mar-13</th>\n",
       "      <td>0.932736</td>\n",
       "      <td>0.973929</td>\n",
       "      <td>1.000000</td>\n",
       "      <td>0.928471</td>\n",
       "      <td>0.818825</td>\n",
       "      <td>0.637262</td>\n",
       "      <td>0.537821</td>\n",
       "      <td>0.672754</td>\n",
       "      <td>0.829002</td>\n",
       "      <td>0.887092</td>\n",
       "      <td>...</td>\n",
       "      <td>0.969495</td>\n",
       "      <td>0.460224</td>\n",
       "      <td>0.507354</td>\n",
       "      <td>0.706616</td>\n",
       "      <td>0.667352</td>\n",
       "      <td>0.710588</td>\n",
       "      <td>0.920174</td>\n",
       "      <td>0.958905</td>\n",
       "      <td>0.943563</td>\n",
       "      <td>-0.005924</td>\n",
       "    </tr>\n",
       "    <tr>\n",
       "      <th>Average of Apr-13</th>\n",
       "      <td>0.948837</td>\n",
       "      <td>0.949843</td>\n",
       "      <td>0.928471</td>\n",
       "      <td>1.000000</td>\n",
       "      <td>0.916769</td>\n",
       "      <td>0.767867</td>\n",
       "      <td>0.653059</td>\n",
       "      <td>0.751261</td>\n",
       "      <td>0.881477</td>\n",
       "      <td>0.960448</td>\n",
       "      <td>...</td>\n",
       "      <td>0.967177</td>\n",
       "      <td>0.664739</td>\n",
       "      <td>0.667858</td>\n",
       "      <td>0.774037</td>\n",
       "      <td>0.782274</td>\n",
       "      <td>0.870273</td>\n",
       "      <td>0.981364</td>\n",
       "      <td>0.928666</td>\n",
       "      <td>0.943248</td>\n",
       "      <td>0.005737</td>\n",
       "    </tr>\n",
       "    <tr>\n",
       "      <th>Average of May-13</th>\n",
       "      <td>0.826647</td>\n",
       "      <td>0.828987</td>\n",
       "      <td>0.818825</td>\n",
       "      <td>0.916769</td>\n",
       "      <td>1.000000</td>\n",
       "      <td>0.879506</td>\n",
       "      <td>0.759351</td>\n",
       "      <td>0.877744</td>\n",
       "      <td>0.943053</td>\n",
       "      <td>0.923759</td>\n",
       "      <td>...</td>\n",
       "      <td>0.869318</td>\n",
       "      <td>0.814854</td>\n",
       "      <td>0.823255</td>\n",
       "      <td>0.870890</td>\n",
       "      <td>0.890520</td>\n",
       "      <td>0.919442</td>\n",
       "      <td>0.895034</td>\n",
       "      <td>0.783361</td>\n",
       "      <td>0.824280</td>\n",
       "      <td>0.006814</td>\n",
       "    </tr>\n",
       "    <tr>\n",
       "      <th>...</th>\n",
       "      <td>...</td>\n",
       "      <td>...</td>\n",
       "      <td>...</td>\n",
       "      <td>...</td>\n",
       "      <td>...</td>\n",
       "      <td>...</td>\n",
       "      <td>...</td>\n",
       "      <td>...</td>\n",
       "      <td>...</td>\n",
       "      <td>...</td>\n",
       "      <td>...</td>\n",
       "      <td>...</td>\n",
       "      <td>...</td>\n",
       "      <td>...</td>\n",
       "      <td>...</td>\n",
       "      <td>...</td>\n",
       "      <td>...</td>\n",
       "      <td>...</td>\n",
       "      <td>...</td>\n",
       "      <td>...</td>\n",
       "      <td>...</td>\n",
       "    </tr>\n",
       "    <tr>\n",
       "      <th>Average of Sep-18</th>\n",
       "      <td>0.771047</td>\n",
       "      <td>0.739197</td>\n",
       "      <td>0.710588</td>\n",
       "      <td>0.870273</td>\n",
       "      <td>0.919442</td>\n",
       "      <td>0.917541</td>\n",
       "      <td>0.813168</td>\n",
       "      <td>0.865186</td>\n",
       "      <td>0.891537</td>\n",
       "      <td>0.867965</td>\n",
       "      <td>...</td>\n",
       "      <td>0.820523</td>\n",
       "      <td>0.857164</td>\n",
       "      <td>0.883477</td>\n",
       "      <td>0.886944</td>\n",
       "      <td>0.923269</td>\n",
       "      <td>1.000000</td>\n",
       "      <td>0.861122</td>\n",
       "      <td>0.698666</td>\n",
       "      <td>0.742312</td>\n",
       "      <td>0.012183</td>\n",
       "    </tr>\n",
       "    <tr>\n",
       "      <th>Average of Oct-18</th>\n",
       "      <td>0.974163</td>\n",
       "      <td>0.960608</td>\n",
       "      <td>0.920174</td>\n",
       "      <td>0.981364</td>\n",
       "      <td>0.895034</td>\n",
       "      <td>0.721124</td>\n",
       "      <td>0.588106</td>\n",
       "      <td>0.710751</td>\n",
       "      <td>0.876699</td>\n",
       "      <td>0.975908</td>\n",
       "      <td>...</td>\n",
       "      <td>0.956272</td>\n",
       "      <td>0.634236</td>\n",
       "      <td>0.632809</td>\n",
       "      <td>0.736019</td>\n",
       "      <td>0.754145</td>\n",
       "      <td>0.861122</td>\n",
       "      <td>1.000000</td>\n",
       "      <td>0.950246</td>\n",
       "      <td>0.970025</td>\n",
       "      <td>0.001375</td>\n",
       "    </tr>\n",
       "    <tr>\n",
       "      <th>Average of Nov-18</th>\n",
       "      <td>0.976020</td>\n",
       "      <td>0.976980</td>\n",
       "      <td>0.958905</td>\n",
       "      <td>0.928666</td>\n",
       "      <td>0.783361</td>\n",
       "      <td>0.547647</td>\n",
       "      <td>0.438689</td>\n",
       "      <td>0.569822</td>\n",
       "      <td>0.774669</td>\n",
       "      <td>0.913393</td>\n",
       "      <td>...</td>\n",
       "      <td>0.947261</td>\n",
       "      <td>0.404415</td>\n",
       "      <td>0.422213</td>\n",
       "      <td>0.606482</td>\n",
       "      <td>0.605605</td>\n",
       "      <td>0.698666</td>\n",
       "      <td>0.950246</td>\n",
       "      <td>1.000000</td>\n",
       "      <td>0.989039</td>\n",
       "      <td>-0.008629</td>\n",
       "    </tr>\n",
       "    <tr>\n",
       "      <th>Average of Dec-18</th>\n",
       "      <td>0.988915</td>\n",
       "      <td>0.979415</td>\n",
       "      <td>0.943563</td>\n",
       "      <td>0.943248</td>\n",
       "      <td>0.824280</td>\n",
       "      <td>0.583374</td>\n",
       "      <td>0.448242</td>\n",
       "      <td>0.601841</td>\n",
       "      <td>0.810967</td>\n",
       "      <td>0.943768</td>\n",
       "      <td>...</td>\n",
       "      <td>0.942446</td>\n",
       "      <td>0.483057</td>\n",
       "      <td>0.478719</td>\n",
       "      <td>0.624685</td>\n",
       "      <td>0.638539</td>\n",
       "      <td>0.742312</td>\n",
       "      <td>0.970025</td>\n",
       "      <td>0.989039</td>\n",
       "      <td>1.000000</td>\n",
       "      <td>-0.007536</td>\n",
       "    </tr>\n",
       "    <tr>\n",
       "      <th>metastatic_diagnosis_period</th>\n",
       "      <td>-0.010277</td>\n",
       "      <td>-0.010097</td>\n",
       "      <td>-0.005924</td>\n",
       "      <td>0.005737</td>\n",
       "      <td>0.006814</td>\n",
       "      <td>0.012323</td>\n",
       "      <td>0.022526</td>\n",
       "      <td>0.002972</td>\n",
       "      <td>-0.003386</td>\n",
       "      <td>0.003425</td>\n",
       "      <td>...</td>\n",
       "      <td>-0.002625</td>\n",
       "      <td>0.013947</td>\n",
       "      <td>0.007433</td>\n",
       "      <td>0.009974</td>\n",
       "      <td>0.018996</td>\n",
       "      <td>0.012183</td>\n",
       "      <td>0.001375</td>\n",
       "      <td>-0.008629</td>\n",
       "      <td>-0.007536</td>\n",
       "      <td>1.000000</td>\n",
       "    </tr>\n",
       "  </tbody>\n",
       "</table>\n",
       "<p>72 rows × 72 columns</p>\n",
       "</div>"
      ],
      "text/plain": [
       "                             Average of Jan-13  Average of Feb-13  \\\n",
       "Average of Jan-13                     1.000000           0.978516   \n",
       "Average of Feb-13                     0.978516           1.000000   \n",
       "Average of Mar-13                     0.932736           0.973929   \n",
       "Average of Apr-13                     0.948837           0.949843   \n",
       "Average of May-13                     0.826647           0.828987   \n",
       "...                                        ...                ...   \n",
       "Average of Sep-18                     0.771047           0.739197   \n",
       "Average of Oct-18                     0.974163           0.960608   \n",
       "Average of Nov-18                     0.976020           0.976980   \n",
       "Average of Dec-18                     0.988915           0.979415   \n",
       "metastatic_diagnosis_period          -0.010277          -0.010097   \n",
       "\n",
       "                             Average of Mar-13  Average of Apr-13  \\\n",
       "Average of Jan-13                     0.932736           0.948837   \n",
       "Average of Feb-13                     0.973929           0.949843   \n",
       "Average of Mar-13                     1.000000           0.928471   \n",
       "Average of Apr-13                     0.928471           1.000000   \n",
       "Average of May-13                     0.818825           0.916769   \n",
       "...                                        ...                ...   \n",
       "Average of Sep-18                     0.710588           0.870273   \n",
       "Average of Oct-18                     0.920174           0.981364   \n",
       "Average of Nov-18                     0.958905           0.928666   \n",
       "Average of Dec-18                     0.943563           0.943248   \n",
       "metastatic_diagnosis_period          -0.005924           0.005737   \n",
       "\n",
       "                             Average of May-13  Average of Jun-13  \\\n",
       "Average of Jan-13                     0.826647           0.617633   \n",
       "Average of Feb-13                     0.828987           0.627959   \n",
       "Average of Mar-13                     0.818825           0.637262   \n",
       "Average of Apr-13                     0.916769           0.767867   \n",
       "Average of May-13                     1.000000           0.879506   \n",
       "...                                        ...                ...   \n",
       "Average of Sep-18                     0.919442           0.917541   \n",
       "Average of Oct-18                     0.895034           0.721124   \n",
       "Average of Nov-18                     0.783361           0.547647   \n",
       "Average of Dec-18                     0.824280           0.583374   \n",
       "metastatic_diagnosis_period           0.006814           0.012323   \n",
       "\n",
       "                             Average of Jul-13  Average of Aug-13  \\\n",
       "Average of Jan-13                     0.474101           0.624946   \n",
       "Average of Feb-13                     0.495301           0.663637   \n",
       "Average of Mar-13                     0.537821           0.672754   \n",
       "Average of Apr-13                     0.653059           0.751261   \n",
       "Average of May-13                     0.759351           0.877744   \n",
       "...                                        ...                ...   \n",
       "Average of Sep-18                     0.813168           0.865186   \n",
       "Average of Oct-18                     0.588106           0.710751   \n",
       "Average of Nov-18                     0.438689           0.569822   \n",
       "Average of Dec-18                     0.448242           0.601841   \n",
       "metastatic_diagnosis_period           0.022526           0.002972   \n",
       "\n",
       "                             Average of Sep-13  Average of Oct-13  ...  \\\n",
       "Average of Jan-13                     0.819851           0.947657  ...   \n",
       "Average of Feb-13                     0.843623           0.928252  ...   \n",
       "Average of Mar-13                     0.829002           0.887092  ...   \n",
       "Average of Apr-13                     0.881477           0.960448  ...   \n",
       "Average of May-13                     0.943053           0.923759  ...   \n",
       "...                                        ...                ...  ...   \n",
       "Average of Sep-18                     0.891537           0.867965  ...   \n",
       "Average of Oct-18                     0.876699           0.975908  ...   \n",
       "Average of Nov-18                     0.774669           0.913393  ...   \n",
       "Average of Dec-18                     0.810967           0.943768  ...   \n",
       "metastatic_diagnosis_period          -0.003386           0.003425  ...   \n",
       "\n",
       "                             Average of Apr-18  Average of May-18  \\\n",
       "Average of Jan-13                     0.944258           0.523280   \n",
       "Average of Feb-13                     0.969119           0.516356   \n",
       "Average of Mar-13                     0.969495           0.460224   \n",
       "Average of Apr-13                     0.967177           0.664739   \n",
       "Average of May-13                     0.869318           0.814854   \n",
       "...                                        ...                ...   \n",
       "Average of Sep-18                     0.820523           0.857164   \n",
       "Average of Oct-18                     0.956272           0.634236   \n",
       "Average of Nov-18                     0.947261           0.404415   \n",
       "Average of Dec-18                     0.942446           0.483057   \n",
       "metastatic_diagnosis_period          -0.002625           0.013947   \n",
       "\n",
       "                             Average of Jun-18  Average of Jul-18  \\\n",
       "Average of Jan-13                     0.518465           0.640446   \n",
       "Average of Feb-13                     0.525459           0.667789   \n",
       "Average of Mar-13                     0.507354           0.706616   \n",
       "Average of Apr-13                     0.667858           0.774037   \n",
       "Average of May-13                     0.823255           0.870890   \n",
       "...                                        ...                ...   \n",
       "Average of Sep-18                     0.883477           0.886944   \n",
       "Average of Oct-18                     0.632809           0.736019   \n",
       "Average of Nov-18                     0.422213           0.606482   \n",
       "Average of Dec-18                     0.478719           0.624685   \n",
       "metastatic_diagnosis_period           0.007433           0.009974   \n",
       "\n",
       "                             Average of Aug-18  Average of Sep-18  \\\n",
       "Average of Jan-13                     0.652516           0.771047   \n",
       "Average of Feb-13                     0.651916           0.739197   \n",
       "Average of Mar-13                     0.667352           0.710588   \n",
       "Average of Apr-13                     0.782274           0.870273   \n",
       "Average of May-13                     0.890520           0.919442   \n",
       "...                                        ...                ...   \n",
       "Average of Sep-18                     0.923269           1.000000   \n",
       "Average of Oct-18                     0.754145           0.861122   \n",
       "Average of Nov-18                     0.605605           0.698666   \n",
       "Average of Dec-18                     0.638539           0.742312   \n",
       "metastatic_diagnosis_period           0.018996           0.012183   \n",
       "\n",
       "                             Average of Oct-18  Average of Nov-18  \\\n",
       "Average of Jan-13                     0.974163           0.976020   \n",
       "Average of Feb-13                     0.960608           0.976980   \n",
       "Average of Mar-13                     0.920174           0.958905   \n",
       "Average of Apr-13                     0.981364           0.928666   \n",
       "Average of May-13                     0.895034           0.783361   \n",
       "...                                        ...                ...   \n",
       "Average of Sep-18                     0.861122           0.698666   \n",
       "Average of Oct-18                     1.000000           0.950246   \n",
       "Average of Nov-18                     0.950246           1.000000   \n",
       "Average of Dec-18                     0.970025           0.989039   \n",
       "metastatic_diagnosis_period           0.001375          -0.008629   \n",
       "\n",
       "                             Average of Dec-18  metastatic_diagnosis_period  \n",
       "Average of Jan-13                     0.988915                    -0.010277  \n",
       "Average of Feb-13                     0.979415                    -0.010097  \n",
       "Average of Mar-13                     0.943563                    -0.005924  \n",
       "Average of Apr-13                     0.943248                     0.005737  \n",
       "Average of May-13                     0.824280                     0.006814  \n",
       "...                                        ...                          ...  \n",
       "Average of Sep-18                     0.742312                     0.012183  \n",
       "Average of Oct-18                     0.970025                     0.001375  \n",
       "Average of Nov-18                     0.989039                    -0.008629  \n",
       "Average of Dec-18                     1.000000                    -0.007536  \n",
       "metastatic_diagnosis_period          -0.007536                     1.000000  \n",
       "\n",
       "[72 rows x 72 columns]"
      ]
     },
     "execution_count": 79,
     "metadata": {},
     "output_type": "execute_result"
    }
   ],
   "source": [
    "corr_matrix"
   ]
  },
  {
   "cell_type": "code",
   "execution_count": null,
   "metadata": {
    "colab": {
     "base_uri": "https://localhost:8080/",
     "height": 478
    },
    "execution": {
     "iopub.execute_input": "2024-05-31T16:43:24.507308Z",
     "iopub.status.busy": "2024-05-31T16:43:24.506460Z",
     "iopub.status.idle": "2024-05-31T16:43:24.539274Z"
    },
    "id": "TSXeAny2n4en",
    "outputId": "45007944-a5cf-4467-c34d-de9275c6aed8"
   },
   "outputs": [
    {
     "data": {
      "text/html": [
       "<div>\n",
       "<style scoped>\n",
       "    .dataframe tbody tr th:only-of-type {\n",
       "        vertical-align: middle;\n",
       "    }\n",
       "\n",
       "    .dataframe tbody tr th {\n",
       "        vertical-align: top;\n",
       "    }\n",
       "\n",
       "    .dataframe thead th {\n",
       "        text-align: right;\n",
       "    }\n",
       "</style>\n",
       "<table border=\"1\" class=\"dataframe\">\n",
       "  <thead>\n",
       "    <tr style=\"text-align: right;\">\n",
       "      <th></th>\n",
       "      <th>Average of Jan-13</th>\n",
       "      <th>Average of Feb-13</th>\n",
       "      <th>Average of Mar-13</th>\n",
       "      <th>Average of Apr-13</th>\n",
       "      <th>Average of May-13</th>\n",
       "      <th>Average of Jun-13</th>\n",
       "      <th>Average of Jul-13</th>\n",
       "      <th>Average of Aug-13</th>\n",
       "      <th>Average of Sep-13</th>\n",
       "      <th>Average of Oct-13</th>\n",
       "      <th>...</th>\n",
       "      <th>Average of Apr-18</th>\n",
       "      <th>Average of May-18</th>\n",
       "      <th>Average of Jun-18</th>\n",
       "      <th>Average of Jul-18</th>\n",
       "      <th>Average of Aug-18</th>\n",
       "      <th>Average of Sep-18</th>\n",
       "      <th>Average of Oct-18</th>\n",
       "      <th>Average of Nov-18</th>\n",
       "      <th>Average of Dec-18</th>\n",
       "      <th>metastatic_diagnosis_period</th>\n",
       "    </tr>\n",
       "  </thead>\n",
       "  <tbody>\n",
       "    <tr>\n",
       "      <th>Average of Jan-13</th>\n",
       "      <td>1.000000</td>\n",
       "      <td>0.978516</td>\n",
       "      <td>0.932736</td>\n",
       "      <td>0.948837</td>\n",
       "      <td>0.826647</td>\n",
       "      <td>0.617633</td>\n",
       "      <td>NaN</td>\n",
       "      <td>0.624946</td>\n",
       "      <td>0.819851</td>\n",
       "      <td>0.947657</td>\n",
       "      <td>...</td>\n",
       "      <td>0.944258</td>\n",
       "      <td>0.523280</td>\n",
       "      <td>0.518465</td>\n",
       "      <td>0.640446</td>\n",
       "      <td>0.652516</td>\n",
       "      <td>0.771047</td>\n",
       "      <td>0.974163</td>\n",
       "      <td>0.976020</td>\n",
       "      <td>0.988915</td>\n",
       "      <td>NaN</td>\n",
       "    </tr>\n",
       "    <tr>\n",
       "      <th>Average of Feb-13</th>\n",
       "      <td>0.978516</td>\n",
       "      <td>1.000000</td>\n",
       "      <td>0.973929</td>\n",
       "      <td>0.949843</td>\n",
       "      <td>0.828987</td>\n",
       "      <td>0.627959</td>\n",
       "      <td>NaN</td>\n",
       "      <td>0.663637</td>\n",
       "      <td>0.843623</td>\n",
       "      <td>0.928252</td>\n",
       "      <td>...</td>\n",
       "      <td>0.969119</td>\n",
       "      <td>0.516356</td>\n",
       "      <td>0.525459</td>\n",
       "      <td>0.667789</td>\n",
       "      <td>0.651916</td>\n",
       "      <td>0.739197</td>\n",
       "      <td>0.960608</td>\n",
       "      <td>0.976980</td>\n",
       "      <td>0.979415</td>\n",
       "      <td>NaN</td>\n",
       "    </tr>\n",
       "    <tr>\n",
       "      <th>Average of Mar-13</th>\n",
       "      <td>0.932736</td>\n",
       "      <td>0.973929</td>\n",
       "      <td>1.000000</td>\n",
       "      <td>0.928471</td>\n",
       "      <td>0.818825</td>\n",
       "      <td>0.637262</td>\n",
       "      <td>0.537821</td>\n",
       "      <td>0.672754</td>\n",
       "      <td>0.829002</td>\n",
       "      <td>0.887092</td>\n",
       "      <td>...</td>\n",
       "      <td>0.969495</td>\n",
       "      <td>NaN</td>\n",
       "      <td>0.507354</td>\n",
       "      <td>0.706616</td>\n",
       "      <td>0.667352</td>\n",
       "      <td>0.710588</td>\n",
       "      <td>0.920174</td>\n",
       "      <td>0.958905</td>\n",
       "      <td>0.943563</td>\n",
       "      <td>NaN</td>\n",
       "    </tr>\n",
       "    <tr>\n",
       "      <th>Average of Apr-13</th>\n",
       "      <td>0.948837</td>\n",
       "      <td>0.949843</td>\n",
       "      <td>0.928471</td>\n",
       "      <td>1.000000</td>\n",
       "      <td>0.916769</td>\n",
       "      <td>0.767867</td>\n",
       "      <td>0.653059</td>\n",
       "      <td>0.751261</td>\n",
       "      <td>0.881477</td>\n",
       "      <td>0.960448</td>\n",
       "      <td>...</td>\n",
       "      <td>0.967177</td>\n",
       "      <td>0.664739</td>\n",
       "      <td>0.667858</td>\n",
       "      <td>0.774037</td>\n",
       "      <td>0.782274</td>\n",
       "      <td>0.870273</td>\n",
       "      <td>0.981364</td>\n",
       "      <td>0.928666</td>\n",
       "      <td>0.943248</td>\n",
       "      <td>NaN</td>\n",
       "    </tr>\n",
       "    <tr>\n",
       "      <th>Average of May-13</th>\n",
       "      <td>0.826647</td>\n",
       "      <td>0.828987</td>\n",
       "      <td>0.818825</td>\n",
       "      <td>0.916769</td>\n",
       "      <td>1.000000</td>\n",
       "      <td>0.879506</td>\n",
       "      <td>0.759351</td>\n",
       "      <td>0.877744</td>\n",
       "      <td>0.943053</td>\n",
       "      <td>0.923759</td>\n",
       "      <td>...</td>\n",
       "      <td>0.869318</td>\n",
       "      <td>0.814854</td>\n",
       "      <td>0.823255</td>\n",
       "      <td>0.870890</td>\n",
       "      <td>0.890520</td>\n",
       "      <td>0.919442</td>\n",
       "      <td>0.895034</td>\n",
       "      <td>0.783361</td>\n",
       "      <td>0.824280</td>\n",
       "      <td>NaN</td>\n",
       "    </tr>\n",
       "    <tr>\n",
       "      <th>...</th>\n",
       "      <td>...</td>\n",
       "      <td>...</td>\n",
       "      <td>...</td>\n",
       "      <td>...</td>\n",
       "      <td>...</td>\n",
       "      <td>...</td>\n",
       "      <td>...</td>\n",
       "      <td>...</td>\n",
       "      <td>...</td>\n",
       "      <td>...</td>\n",
       "      <td>...</td>\n",
       "      <td>...</td>\n",
       "      <td>...</td>\n",
       "      <td>...</td>\n",
       "      <td>...</td>\n",
       "      <td>...</td>\n",
       "      <td>...</td>\n",
       "      <td>...</td>\n",
       "      <td>...</td>\n",
       "      <td>...</td>\n",
       "      <td>...</td>\n",
       "    </tr>\n",
       "    <tr>\n",
       "      <th>Average of Sep-18</th>\n",
       "      <td>0.771047</td>\n",
       "      <td>0.739197</td>\n",
       "      <td>0.710588</td>\n",
       "      <td>0.870273</td>\n",
       "      <td>0.919442</td>\n",
       "      <td>0.917541</td>\n",
       "      <td>0.813168</td>\n",
       "      <td>0.865186</td>\n",
       "      <td>0.891537</td>\n",
       "      <td>0.867965</td>\n",
       "      <td>...</td>\n",
       "      <td>0.820523</td>\n",
       "      <td>0.857164</td>\n",
       "      <td>0.883477</td>\n",
       "      <td>0.886944</td>\n",
       "      <td>0.923269</td>\n",
       "      <td>1.000000</td>\n",
       "      <td>0.861122</td>\n",
       "      <td>0.698666</td>\n",
       "      <td>0.742312</td>\n",
       "      <td>NaN</td>\n",
       "    </tr>\n",
       "    <tr>\n",
       "      <th>Average of Oct-18</th>\n",
       "      <td>0.974163</td>\n",
       "      <td>0.960608</td>\n",
       "      <td>0.920174</td>\n",
       "      <td>0.981364</td>\n",
       "      <td>0.895034</td>\n",
       "      <td>0.721124</td>\n",
       "      <td>0.588106</td>\n",
       "      <td>0.710751</td>\n",
       "      <td>0.876699</td>\n",
       "      <td>0.975908</td>\n",
       "      <td>...</td>\n",
       "      <td>0.956272</td>\n",
       "      <td>0.634236</td>\n",
       "      <td>0.632809</td>\n",
       "      <td>0.736019</td>\n",
       "      <td>0.754145</td>\n",
       "      <td>0.861122</td>\n",
       "      <td>1.000000</td>\n",
       "      <td>0.950246</td>\n",
       "      <td>0.970025</td>\n",
       "      <td>NaN</td>\n",
       "    </tr>\n",
       "    <tr>\n",
       "      <th>Average of Nov-18</th>\n",
       "      <td>0.976020</td>\n",
       "      <td>0.976980</td>\n",
       "      <td>0.958905</td>\n",
       "      <td>0.928666</td>\n",
       "      <td>0.783361</td>\n",
       "      <td>0.547647</td>\n",
       "      <td>NaN</td>\n",
       "      <td>0.569822</td>\n",
       "      <td>0.774669</td>\n",
       "      <td>0.913393</td>\n",
       "      <td>...</td>\n",
       "      <td>0.947261</td>\n",
       "      <td>NaN</td>\n",
       "      <td>NaN</td>\n",
       "      <td>0.606482</td>\n",
       "      <td>0.605605</td>\n",
       "      <td>0.698666</td>\n",
       "      <td>0.950246</td>\n",
       "      <td>1.000000</td>\n",
       "      <td>0.989039</td>\n",
       "      <td>NaN</td>\n",
       "    </tr>\n",
       "    <tr>\n",
       "      <th>Average of Dec-18</th>\n",
       "      <td>0.988915</td>\n",
       "      <td>0.979415</td>\n",
       "      <td>0.943563</td>\n",
       "      <td>0.943248</td>\n",
       "      <td>0.824280</td>\n",
       "      <td>0.583374</td>\n",
       "      <td>NaN</td>\n",
       "      <td>0.601841</td>\n",
       "      <td>0.810967</td>\n",
       "      <td>0.943768</td>\n",
       "      <td>...</td>\n",
       "      <td>0.942446</td>\n",
       "      <td>NaN</td>\n",
       "      <td>NaN</td>\n",
       "      <td>0.624685</td>\n",
       "      <td>0.638539</td>\n",
       "      <td>0.742312</td>\n",
       "      <td>0.970025</td>\n",
       "      <td>0.989039</td>\n",
       "      <td>1.000000</td>\n",
       "      <td>NaN</td>\n",
       "    </tr>\n",
       "    <tr>\n",
       "      <th>metastatic_diagnosis_period</th>\n",
       "      <td>NaN</td>\n",
       "      <td>NaN</td>\n",
       "      <td>NaN</td>\n",
       "      <td>NaN</td>\n",
       "      <td>NaN</td>\n",
       "      <td>NaN</td>\n",
       "      <td>NaN</td>\n",
       "      <td>NaN</td>\n",
       "      <td>NaN</td>\n",
       "      <td>NaN</td>\n",
       "      <td>...</td>\n",
       "      <td>NaN</td>\n",
       "      <td>NaN</td>\n",
       "      <td>NaN</td>\n",
       "      <td>NaN</td>\n",
       "      <td>NaN</td>\n",
       "      <td>NaN</td>\n",
       "      <td>NaN</td>\n",
       "      <td>NaN</td>\n",
       "      <td>NaN</td>\n",
       "      <td>1.0</td>\n",
       "    </tr>\n",
       "  </tbody>\n",
       "</table>\n",
       "<p>72 rows × 72 columns</p>\n",
       "</div>"
      ],
      "text/plain": [
       "                             Average of Jan-13  Average of Feb-13  \\\n",
       "Average of Jan-13                     1.000000           0.978516   \n",
       "Average of Feb-13                     0.978516           1.000000   \n",
       "Average of Mar-13                     0.932736           0.973929   \n",
       "Average of Apr-13                     0.948837           0.949843   \n",
       "Average of May-13                     0.826647           0.828987   \n",
       "...                                        ...                ...   \n",
       "Average of Sep-18                     0.771047           0.739197   \n",
       "Average of Oct-18                     0.974163           0.960608   \n",
       "Average of Nov-18                     0.976020           0.976980   \n",
       "Average of Dec-18                     0.988915           0.979415   \n",
       "metastatic_diagnosis_period                NaN                NaN   \n",
       "\n",
       "                             Average of Mar-13  Average of Apr-13  \\\n",
       "Average of Jan-13                     0.932736           0.948837   \n",
       "Average of Feb-13                     0.973929           0.949843   \n",
       "Average of Mar-13                     1.000000           0.928471   \n",
       "Average of Apr-13                     0.928471           1.000000   \n",
       "Average of May-13                     0.818825           0.916769   \n",
       "...                                        ...                ...   \n",
       "Average of Sep-18                     0.710588           0.870273   \n",
       "Average of Oct-18                     0.920174           0.981364   \n",
       "Average of Nov-18                     0.958905           0.928666   \n",
       "Average of Dec-18                     0.943563           0.943248   \n",
       "metastatic_diagnosis_period                NaN                NaN   \n",
       "\n",
       "                             Average of May-13  Average of Jun-13  \\\n",
       "Average of Jan-13                     0.826647           0.617633   \n",
       "Average of Feb-13                     0.828987           0.627959   \n",
       "Average of Mar-13                     0.818825           0.637262   \n",
       "Average of Apr-13                     0.916769           0.767867   \n",
       "Average of May-13                     1.000000           0.879506   \n",
       "...                                        ...                ...   \n",
       "Average of Sep-18                     0.919442           0.917541   \n",
       "Average of Oct-18                     0.895034           0.721124   \n",
       "Average of Nov-18                     0.783361           0.547647   \n",
       "Average of Dec-18                     0.824280           0.583374   \n",
       "metastatic_diagnosis_period                NaN                NaN   \n",
       "\n",
       "                             Average of Jul-13  Average of Aug-13  \\\n",
       "Average of Jan-13                          NaN           0.624946   \n",
       "Average of Feb-13                          NaN           0.663637   \n",
       "Average of Mar-13                     0.537821           0.672754   \n",
       "Average of Apr-13                     0.653059           0.751261   \n",
       "Average of May-13                     0.759351           0.877744   \n",
       "...                                        ...                ...   \n",
       "Average of Sep-18                     0.813168           0.865186   \n",
       "Average of Oct-18                     0.588106           0.710751   \n",
       "Average of Nov-18                          NaN           0.569822   \n",
       "Average of Dec-18                          NaN           0.601841   \n",
       "metastatic_diagnosis_period                NaN                NaN   \n",
       "\n",
       "                             Average of Sep-13  Average of Oct-13  ...  \\\n",
       "Average of Jan-13                     0.819851           0.947657  ...   \n",
       "Average of Feb-13                     0.843623           0.928252  ...   \n",
       "Average of Mar-13                     0.829002           0.887092  ...   \n",
       "Average of Apr-13                     0.881477           0.960448  ...   \n",
       "Average of May-13                     0.943053           0.923759  ...   \n",
       "...                                        ...                ...  ...   \n",
       "Average of Sep-18                     0.891537           0.867965  ...   \n",
       "Average of Oct-18                     0.876699           0.975908  ...   \n",
       "Average of Nov-18                     0.774669           0.913393  ...   \n",
       "Average of Dec-18                     0.810967           0.943768  ...   \n",
       "metastatic_diagnosis_period                NaN                NaN  ...   \n",
       "\n",
       "                             Average of Apr-18  Average of May-18  \\\n",
       "Average of Jan-13                     0.944258           0.523280   \n",
       "Average of Feb-13                     0.969119           0.516356   \n",
       "Average of Mar-13                     0.969495                NaN   \n",
       "Average of Apr-13                     0.967177           0.664739   \n",
       "Average of May-13                     0.869318           0.814854   \n",
       "...                                        ...                ...   \n",
       "Average of Sep-18                     0.820523           0.857164   \n",
       "Average of Oct-18                     0.956272           0.634236   \n",
       "Average of Nov-18                     0.947261                NaN   \n",
       "Average of Dec-18                     0.942446                NaN   \n",
       "metastatic_diagnosis_period                NaN                NaN   \n",
       "\n",
       "                             Average of Jun-18  Average of Jul-18  \\\n",
       "Average of Jan-13                     0.518465           0.640446   \n",
       "Average of Feb-13                     0.525459           0.667789   \n",
       "Average of Mar-13                     0.507354           0.706616   \n",
       "Average of Apr-13                     0.667858           0.774037   \n",
       "Average of May-13                     0.823255           0.870890   \n",
       "...                                        ...                ...   \n",
       "Average of Sep-18                     0.883477           0.886944   \n",
       "Average of Oct-18                     0.632809           0.736019   \n",
       "Average of Nov-18                          NaN           0.606482   \n",
       "Average of Dec-18                          NaN           0.624685   \n",
       "metastatic_diagnosis_period                NaN                NaN   \n",
       "\n",
       "                             Average of Aug-18  Average of Sep-18  \\\n",
       "Average of Jan-13                     0.652516           0.771047   \n",
       "Average of Feb-13                     0.651916           0.739197   \n",
       "Average of Mar-13                     0.667352           0.710588   \n",
       "Average of Apr-13                     0.782274           0.870273   \n",
       "Average of May-13                     0.890520           0.919442   \n",
       "...                                        ...                ...   \n",
       "Average of Sep-18                     0.923269           1.000000   \n",
       "Average of Oct-18                     0.754145           0.861122   \n",
       "Average of Nov-18                     0.605605           0.698666   \n",
       "Average of Dec-18                     0.638539           0.742312   \n",
       "metastatic_diagnosis_period                NaN                NaN   \n",
       "\n",
       "                             Average of Oct-18  Average of Nov-18  \\\n",
       "Average of Jan-13                     0.974163           0.976020   \n",
       "Average of Feb-13                     0.960608           0.976980   \n",
       "Average of Mar-13                     0.920174           0.958905   \n",
       "Average of Apr-13                     0.981364           0.928666   \n",
       "Average of May-13                     0.895034           0.783361   \n",
       "...                                        ...                ...   \n",
       "Average of Sep-18                     0.861122           0.698666   \n",
       "Average of Oct-18                     1.000000           0.950246   \n",
       "Average of Nov-18                     0.950246           1.000000   \n",
       "Average of Dec-18                     0.970025           0.989039   \n",
       "metastatic_diagnosis_period                NaN                NaN   \n",
       "\n",
       "                             Average of Dec-18  metastatic_diagnosis_period  \n",
       "Average of Jan-13                     0.988915                          NaN  \n",
       "Average of Feb-13                     0.979415                          NaN  \n",
       "Average of Mar-13                     0.943563                          NaN  \n",
       "Average of Apr-13                     0.943248                          NaN  \n",
       "Average of May-13                     0.824280                          NaN  \n",
       "...                                        ...                          ...  \n",
       "Average of Sep-18                     0.742312                          NaN  \n",
       "Average of Oct-18                     0.970025                          NaN  \n",
       "Average of Nov-18                     0.989039                          NaN  \n",
       "Average of Dec-18                     1.000000                          NaN  \n",
       "metastatic_diagnosis_period                NaN                          1.0  \n",
       "\n",
       "[72 rows x 72 columns]"
      ]
     },
     "execution_count": 80,
     "metadata": {},
     "output_type": "execute_result"
    }
   ],
   "source": [
    "corr_matrix[(corr_matrix > 0.5) | (corr_matrix < -0.5)]"
   ]
  },
  {
   "cell_type": "code",
   "execution_count": null,
   "metadata": {
    "colab": {
     "base_uri": "https://localhost:8080/"
    },
    "execution": {
     "iopub.execute_input": "2024-05-31T16:43:24.540602Z",
     "iopub.status.busy": "2024-05-31T16:43:24.540299Z",
     "iopub.status.idle": "2024-05-31T16:43:24.546306Z"
    },
    "id": "vPh_Dz8AoT81",
    "outputId": "d9c8354e-08a3-499a-d3cd-67205e4296f5"
   },
   "outputs": [
    {
     "data": {
      "text/plain": [
       "(12914, 148)"
      ]
     },
     "execution_count": 81,
     "metadata": {},
     "output_type": "execute_result"
    }
   ],
   "source": [
    "train.shape"
   ]
  },
  {
   "cell_type": "code",
   "execution_count": null,
   "metadata": {
    "colab": {
     "base_uri": "https://localhost:8080/"
    },
    "execution": {
     "iopub.execute_input": "2024-05-31T16:43:24.547648Z",
     "iopub.status.busy": "2024-05-31T16:43:24.547333Z",
     "iopub.status.idle": "2024-05-31T16:43:24.565643Z"
    },
    "id": "hJXHExjO7YTg",
    "outputId": "cb60d34b-d1ea-46d8-c4ba-4b131888b8cb"
   },
   "outputs": [
    {
     "data": {
      "text/plain": [
       "patient_state                       44\n",
       "breast_cancer_diagnosis_code        47\n",
       "breast_cancer_diagnosis_desc        47\n",
       "metastatic_cancer_diagnosis_code    43\n",
       "dtype: int64"
      ]
     },
     "execution_count": 82,
     "metadata": {},
     "output_type": "execute_result"
    }
   ],
   "source": [
    "train[categorical_ordinal].nunique()"
   ]
  },
  {
   "cell_type": "code",
   "execution_count": null,
   "metadata": {
    "colab": {
     "base_uri": "https://localhost:8080/"
    },
    "execution": {
     "iopub.execute_input": "2024-05-31T16:43:24.567612Z",
     "iopub.status.busy": "2024-05-31T16:43:24.566924Z",
     "iopub.status.idle": "2024-05-31T16:43:24.573046Z"
    },
    "id": "KpTm7flU9_f7",
    "outputId": "26eb5699-c759-488f-a92d-be0cb83f5570"
   },
   "outputs": [
    {
     "data": {
      "text/plain": [
       "['payer_type',\n",
       " 'patient_state',\n",
       " 'Region',\n",
       " 'Division',\n",
       " 'patient_gender',\n",
       " 'breast_cancer_diagnosis_code',\n",
       " 'breast_cancer_diagnosis_desc',\n",
       " 'metastatic_cancer_diagnosis_code']"
      ]
     },
     "execution_count": 83,
     "metadata": {},
     "output_type": "execute_result"
    }
   ],
   "source": [
    "categorical_cols"
   ]
  },
  {
   "cell_type": "code",
   "execution_count": null,
   "metadata": {
    "colab": {
     "base_uri": "https://localhost:8080/"
    },
    "execution": {
     "iopub.execute_input": "2024-05-31T16:43:24.574301Z",
     "iopub.status.busy": "2024-05-31T16:43:24.574047Z",
     "iopub.status.idle": "2024-05-31T16:43:24.608909Z"
    },
    "id": "v_QlpeVj7YO8",
    "outputId": "e706c797-2e40-4fde-f586-67ad2eb683e4"
   },
   "outputs": [
    {
     "name": "stdout",
     "output_type": "stream",
     "text": [
      "                    target mean \n",
      "payer_type                      \n",
      "COMMERCIAL             96.955858\n",
      "MEDICAID               93.362846\n",
      "MEDICARE ADVANTAGE     98.973116\n",
      "\n",
      "               target mean \n",
      "patient_state              \n",
      "AK                94.142857\n",
      "AL               106.103448\n",
      "AR                99.296296\n",
      "AZ               104.601732\n",
      "CA                93.507216\n",
      "CO                60.304225\n",
      "DC               115.066667\n",
      "DE                71.842105\n",
      "FL                89.889655\n",
      "GA               104.332689\n",
      "HI               116.333333\n",
      "IA                94.272727\n",
      "ID               133.831461\n",
      "IL               100.509759\n",
      "IN               101.825095\n",
      "KS                68.876923\n",
      "KY               116.882979\n",
      "LA                78.337838\n",
      "MD               100.750000\n",
      "MI                95.518735\n",
      "MN               104.303030\n",
      "MO                91.530120\n",
      "MS                87.660714\n",
      "MT                74.539683\n",
      "NC                97.594059\n",
      "ND                47.250000\n",
      "NE                65.519231\n",
      "NM               113.366906\n",
      "NV               112.214286\n",
      "NY               110.813793\n",
      "OH                95.180575\n",
      "OK                84.230769\n",
      "OR                91.451613\n",
      "PA                91.477444\n",
      "SC               101.621849\n",
      "SD                65.454545\n",
      "TN                90.382609\n",
      "TX                98.290780\n",
      "UT                88.709677\n",
      "VA                97.724324\n",
      "WA                87.801075\n",
      "WI                88.540909\n",
      "WV                59.133333\n",
      "WY                71.400000\n",
      "\n",
      "           target mean \n",
      "Region                 \n",
      "Midwest       96.284707\n",
      "Northeast    104.734043\n",
      "South         97.336937\n",
      "West          92.487805\n",
      "\n",
      "                    target mean \n",
      "Division                        \n",
      "East North Central     96.955767\n",
      "East South Central    106.516598\n",
      "Middle Atlantic       104.734043\n",
      "Mountain               90.449187\n",
      "Pacific                93.240525\n",
      "South Atlantic         96.740084\n",
      "West North Central     93.651535\n",
      "West South Central     95.130464\n",
      "\n",
      "                target mean \n",
      "patient_gender              \n",
      "F                  96.635434\n",
      "\n",
      "                              target mean \n",
      "breast_cancer_diagnosis_code              \n",
      "1741                            223.494118\n",
      "1742                            211.745283\n",
      "1743                            207.731707\n",
      "1744                            225.715385\n",
      "1745                            217.935897\n",
      "1746                            267.888889\n",
      "1748                            225.081081\n",
      "1749                            227.288411\n",
      "19881                           200.166667\n",
      "C5001                            42.000000\n",
      "C50011                           53.505747\n",
      "C50012                           75.760000\n",
      "C50019                           98.000000\n",
      "C5011                            30.333333\n",
      "C50111                           62.188482\n",
      "C50112                           57.687805\n",
      "C50119                           58.750000\n",
      "C50122                          256.000000\n",
      "C50211                           66.808943\n",
      "C50212                           62.052632\n",
      "C50219                          107.916667\n",
      "C50221                           93.000000\n",
      "C5031                            44.000000\n",
      "C50311                           43.645570\n",
      "C50312                           55.448529\n",
      "C50319                           51.888889\n",
      "C5041                            56.800000\n",
      "C50411                           54.885965\n",
      "C50412                           61.021445\n",
      "C50419                           69.088889\n",
      "C50421                            7.000000\n",
      "C50511                           67.863208\n",
      "C50512                           51.453704\n",
      "C50519                           47.857143\n",
      "C50611                           59.837838\n",
      "C50612                           75.176471\n",
      "C50619                            0.000000\n",
      "C5081                            31.000000\n",
      "C50811                           58.675847\n",
      "C50812                           52.753398\n",
      "C50819                           57.547170\n",
      "C509                            148.500000\n",
      "C5091                            79.310345\n",
      "C50911                           59.180947\n",
      "C50912                           57.388827\n",
      "C50919                           56.471141\n",
      "C50922                           58.000000\n",
      "\n",
      "                                                    target mean \n",
      "breast_cancer_diagnosis_desc                                    \n",
      "Malig neoplasm of lower-inner quadrant of left ...     55.448529\n",
      "Malig neoplasm of lower-inner quadrant of unsp ...     51.888889\n",
      "Malig neoplasm of lower-outer quadrant of left ...     51.453704\n",
      "Malig neoplasm of lower-outer quadrant of unsp ...     47.857143\n",
      "Malig neoplasm of upper-inner quadrant of left ...     62.052632\n",
      "Malig neoplasm of upper-inner quadrant of right...     93.000000\n",
      "Malig neoplasm of upper-inner quadrant of unsp ...    107.916667\n",
      "Malig neoplasm of upper-outer quadrant of left ...     61.021445\n",
      "Malig neoplasm of upper-outer quadrant of right...      7.000000\n",
      "Malig neoplasm of upper-outer quadrant of unsp ...     69.088889\n",
      "Malig neoplm of lower-inner quadrant of right f...     43.645570\n",
      "Malig neoplm of lower-outer quadrant of right f...     67.863208\n",
      "Malig neoplm of upper-inner quadrant of right f...     66.808943\n",
      "Malig neoplm of upper-outer quadrant of right f...     54.885965\n",
      "Malignant neoplasm of axillary tail of female b...    267.888889\n",
      "Malignant neoplasm of axillary tail of left fem...     75.176471\n",
      "Malignant neoplasm of axillary tail of right fe...     59.837838\n",
      "Malignant neoplasm of axillary tail of unsp fem...      0.000000\n",
      "Malignant neoplasm of breast (female), unspecified    227.288411\n",
      "Malignant neoplasm of breast of unspecified site      148.500000\n",
      "Malignant neoplasm of breast of unspecified sit...     79.310345\n",
      "Malignant neoplasm of central portion of breast...     30.333333\n",
      "Malignant neoplasm of central portion of female...    223.494118\n",
      "Malignant neoplasm of central portion of left f...     57.687805\n",
      "Malignant neoplasm of central portion of left m...    256.000000\n",
      "Malignant neoplasm of central portion of right ...     62.188482\n",
      "Malignant neoplasm of central portion of unsp f...     58.750000\n",
      "Malignant neoplasm of lower-inner quadrant of b...     44.000000\n",
      "Malignant neoplasm of lower-inner quadrant of f...    207.731707\n",
      "Malignant neoplasm of lower-outer quadrant of f...    217.935897\n",
      "Malignant neoplasm of nipple and areola, female        42.000000\n",
      "Malignant neoplasm of nipple and areola, left f...     75.760000\n",
      "Malignant neoplasm of nipple and areola, right ...     53.505747\n",
      "Malignant neoplasm of nipple and areola, unsp f...     98.000000\n",
      "Malignant neoplasm of other specified sites of ...    225.081081\n",
      "Malignant neoplasm of overlapping sites of brea...     31.000000\n",
      "Malignant neoplasm of ovrlp sites of left femal...     52.753398\n",
      "Malignant neoplasm of ovrlp sites of right fema...     58.675847\n",
      "Malignant neoplasm of ovrlp sites of unsp femal...     57.547170\n",
      "Malignant neoplasm of unsp site of right female...     59.180947\n",
      "Malignant neoplasm of unsp site of unspecified ...     56.471141\n",
      "Malignant neoplasm of unspecified site of left ...     57.388827\n",
      "Malignant neoplasm of unspecified site of left ...     58.000000\n",
      "Malignant neoplasm of upper-inner quadrant of f...    211.745283\n",
      "Malignant neoplasm of upper-outer quadrant of b...     56.800000\n",
      "Malignant neoplasm of upper-outer quadrant of f...    225.715385\n",
      "Secondary malignant neoplasm of breast                200.166667\n",
      "\n",
      "                                  target mean \n",
      "metastatic_cancer_diagnosis_code              \n",
      "C770                                116.582734\n",
      "C771                                 95.007042\n",
      "C772                                 68.965517\n",
      "C773                                 88.929481\n",
      "C774                                102.000000\n",
      "C775                                 56.833333\n",
      "C778                                 95.625000\n",
      "C779                                128.209302\n",
      "C7800                                83.523923\n",
      "C7801                                80.642857\n",
      "C7802                               102.040541\n",
      "C781                                100.840000\n",
      "C782                                 97.807692\n",
      "C7839                                27.000000\n",
      "C784                                152.000000\n",
      "C785                                 56.000000\n",
      "C786                                 62.142857\n",
      "C787                                 94.171196\n",
      "C7880                                 0.000000\n",
      "C7889                                85.809524\n",
      "C7900                                 0.000000\n",
      "C7901                               199.500000\n",
      "C7910                                 0.000000\n",
      "C7911                               151.000000\n",
      "C792                                110.408840\n",
      "C7931                               103.516484\n",
      "C7932                               181.000000\n",
      "C7940                               106.333333\n",
      "C7949                               108.750000\n",
      "C795                                150.000000\n",
      "C7951                               108.262487\n",
      "C7952                                91.600000\n",
      "C7960                                58.421053\n",
      "C7961                                27.166667\n",
      "C7962                               165.000000\n",
      "C7970                               105.000000\n",
      "C7971                                39.600000\n",
      "C7972                                34.666667\n",
      "C798                                 64.500000\n",
      "C7981                               123.570787\n",
      "C7982                               135.250000\n",
      "C7989                               102.886154\n",
      "C799                                104.580392\n",
      "\n"
     ]
    }
   ],
   "source": [
    "# Find the target mean for each categorical variables\n",
    "for col in categorical_cols:\n",
    "   print(pd.DataFrame({\"target mean \": train.groupby(col)[\"metastatic_diagnosis_period\"].mean()}),end = \"\\n\\n\")"
   ]
  },
  {
   "cell_type": "markdown",
   "metadata": {
    "id": "AunAe2k_BAXS"
   },
   "source": [
    "## Target Encoding\n"
   ]
  },
  {
   "cell_type": "code",
   "execution_count": null,
   "metadata": {
    "execution": {
     "iopub.execute_input": "2024-05-31T16:43:24.610791Z",
     "iopub.status.busy": "2024-05-31T16:43:24.610127Z",
     "iopub.status.idle": "2024-05-31T16:43:24.653362Z"
    },
    "id": "bFNHIrSb7YEW"
   },
   "outputs": [],
   "source": [
    "for col in categorical_cols:\n",
    "  target = train.groupby(col)['metastatic_diagnosis_period'].mean()\n",
    "  train[col + '_encoded'] = train[col].map(target)\n",
    "  test[col + '_encoded'] = train[col].map(target) # Because keep the consistency"
   ]
  },
  {
   "cell_type": "code",
   "execution_count": null,
   "metadata": {
    "execution": {
     "iopub.execute_input": "2024-05-31T16:43:24.654858Z",
     "iopub.status.busy": "2024-05-31T16:43:24.654550Z",
     "iopub.status.idle": "2024-05-31T16:43:24.663496Z"
    },
    "id": "EWTIETHN7X-0"
   },
   "outputs": [],
   "source": [
    "# Remove the Categprical Variables\n",
    "train.drop(columns= categorical_cols, inplace=True)\n"
   ]
  },
  {
   "cell_type": "code",
   "execution_count": null,
   "metadata": {
    "colab": {
     "base_uri": "https://localhost:8080/",
     "height": 447
    },
    "execution": {
     "iopub.execute_input": "2024-05-31T16:43:24.665149Z",
     "iopub.status.busy": "2024-05-31T16:43:24.664805Z",
     "iopub.status.idle": "2024-05-31T16:43:24.695310Z"
    },
    "id": "7LDImKRN7X0U",
    "outputId": "79ecc60b-0dac-40cf-fa82-fd1bf65f9160"
   },
   "outputs": [
    {
     "data": {
      "text/html": [
       "<div>\n",
       "<style scoped>\n",
       "    .dataframe tbody tr th:only-of-type {\n",
       "        vertical-align: middle;\n",
       "    }\n",
       "\n",
       "    .dataframe tbody tr th {\n",
       "        vertical-align: top;\n",
       "    }\n",
       "\n",
       "    .dataframe thead th {\n",
       "        text-align: right;\n",
       "    }\n",
       "</style>\n",
       "<table border=\"1\" class=\"dataframe\">\n",
       "  <thead>\n",
       "    <tr style=\"text-align: right;\">\n",
       "      <th></th>\n",
       "      <th>patient_id</th>\n",
       "      <th>patient_zip3</th>\n",
       "      <th>patient_age</th>\n",
       "      <th>population</th>\n",
       "      <th>density</th>\n",
       "      <th>age_median</th>\n",
       "      <th>age_under_10</th>\n",
       "      <th>age_10_to_19</th>\n",
       "      <th>age_20s</th>\n",
       "      <th>age_30s</th>\n",
       "      <th>...</th>\n",
       "      <th>Average of Dec-18</th>\n",
       "      <th>metastatic_diagnosis_period</th>\n",
       "      <th>payer_type_encoded</th>\n",
       "      <th>patient_state_encoded</th>\n",
       "      <th>Region_encoded</th>\n",
       "      <th>Division_encoded</th>\n",
       "      <th>patient_gender_encoded</th>\n",
       "      <th>breast_cancer_diagnosis_code_encoded</th>\n",
       "      <th>breast_cancer_diagnosis_desc_encoded</th>\n",
       "      <th>metastatic_cancer_diagnosis_code_encoded</th>\n",
       "    </tr>\n",
       "  </thead>\n",
       "  <tbody>\n",
       "    <tr>\n",
       "      <th>0</th>\n",
       "      <td>268700</td>\n",
       "      <td>724</td>\n",
       "      <td>39</td>\n",
       "      <td>3924.87</td>\n",
       "      <td>82.63</td>\n",
       "      <td>42.58</td>\n",
       "      <td>11.61</td>\n",
       "      <td>13.03</td>\n",
       "      <td>10.87</td>\n",
       "      <td>11.80</td>\n",
       "      <td>...</td>\n",
       "      <td>41.18</td>\n",
       "      <td>191</td>\n",
       "      <td>96.955858</td>\n",
       "      <td>99.296296</td>\n",
       "      <td>97.336937</td>\n",
       "      <td>95.130464</td>\n",
       "      <td>96.635434</td>\n",
       "      <td>57.388827</td>\n",
       "      <td>57.388827</td>\n",
       "      <td>88.929481</td>\n",
       "    </tr>\n",
       "    <tr>\n",
       "      <th>1</th>\n",
       "      <td>484983</td>\n",
       "      <td>629</td>\n",
       "      <td>55</td>\n",
       "      <td>2745.39</td>\n",
       "      <td>51.79</td>\n",
       "      <td>43.54</td>\n",
       "      <td>11.22</td>\n",
       "      <td>12.19</td>\n",
       "      <td>11.45</td>\n",
       "      <td>11.01</td>\n",
       "      <td>...</td>\n",
       "      <td>39.71</td>\n",
       "      <td>33</td>\n",
       "      <td>96.955858</td>\n",
       "      <td>100.509759</td>\n",
       "      <td>96.284707</td>\n",
       "      <td>96.955767</td>\n",
       "      <td>96.635434</td>\n",
       "      <td>61.021445</td>\n",
       "      <td>61.021445</td>\n",
       "      <td>88.929481</td>\n",
       "    </tr>\n",
       "    <tr>\n",
       "      <th>2</th>\n",
       "      <td>277055</td>\n",
       "      <td>925</td>\n",
       "      <td>59</td>\n",
       "      <td>38343.18</td>\n",
       "      <td>700.34</td>\n",
       "      <td>36.28</td>\n",
       "      <td>13.27</td>\n",
       "      <td>15.66</td>\n",
       "      <td>13.49</td>\n",
       "      <td>13.45</td>\n",
       "      <td>...</td>\n",
       "      <td>55.58</td>\n",
       "      <td>157</td>\n",
       "      <td>96.955858</td>\n",
       "      <td>93.507216</td>\n",
       "      <td>92.487805</td>\n",
       "      <td>93.240525</td>\n",
       "      <td>96.635434</td>\n",
       "      <td>227.288411</td>\n",
       "      <td>227.288411</td>\n",
       "      <td>88.929481</td>\n",
       "    </tr>\n",
       "    <tr>\n",
       "      <th>3</th>\n",
       "      <td>320055</td>\n",
       "      <td>900</td>\n",
       "      <td>59</td>\n",
       "      <td>36054.12</td>\n",
       "      <td>5294.33</td>\n",
       "      <td>36.65</td>\n",
       "      <td>9.76</td>\n",
       "      <td>11.27</td>\n",
       "      <td>17.23</td>\n",
       "      <td>17.44</td>\n",
       "      <td>...</td>\n",
       "      <td>59.46</td>\n",
       "      <td>146</td>\n",
       "      <td>93.362846</td>\n",
       "      <td>93.507216</td>\n",
       "      <td>92.487805</td>\n",
       "      <td>93.240525</td>\n",
       "      <td>96.635434</td>\n",
       "      <td>59.180947</td>\n",
       "      <td>59.180947</td>\n",
       "      <td>88.929481</td>\n",
       "    </tr>\n",
       "    <tr>\n",
       "      <th>4</th>\n",
       "      <td>190386</td>\n",
       "      <td>934</td>\n",
       "      <td>71</td>\n",
       "      <td>13700.37</td>\n",
       "      <td>400.48</td>\n",
       "      <td>41.78</td>\n",
       "      <td>10.03</td>\n",
       "      <td>16.43</td>\n",
       "      <td>12.97</td>\n",
       "      <td>11.29</td>\n",
       "      <td>...</td>\n",
       "      <td>54.08</td>\n",
       "      <td>286</td>\n",
       "      <td>96.955858</td>\n",
       "      <td>93.507216</td>\n",
       "      <td>92.487805</td>\n",
       "      <td>93.240525</td>\n",
       "      <td>96.635434</td>\n",
       "      <td>225.081081</td>\n",
       "      <td>225.081081</td>\n",
       "      <td>108.262487</td>\n",
       "    </tr>\n",
       "    <tr>\n",
       "      <th>5</th>\n",
       "      <td>559027</td>\n",
       "      <td>461</td>\n",
       "      <td>63</td>\n",
       "      <td>9322.89</td>\n",
       "      <td>274.74</td>\n",
       "      <td>40.12</td>\n",
       "      <td>12.23</td>\n",
       "      <td>13.88</td>\n",
       "      <td>11.53</td>\n",
       "      <td>11.94</td>\n",
       "      <td>...</td>\n",
       "      <td>35.43</td>\n",
       "      <td>73</td>\n",
       "      <td>96.955858</td>\n",
       "      <td>101.825095</td>\n",
       "      <td>96.284707</td>\n",
       "      <td>96.955767</td>\n",
       "      <td>96.635434</td>\n",
       "      <td>227.288411</td>\n",
       "      <td>227.288411</td>\n",
       "      <td>62.142857</td>\n",
       "    </tr>\n",
       "    <tr>\n",
       "      <th>6</th>\n",
       "      <td>293747</td>\n",
       "      <td>448</td>\n",
       "      <td>57</td>\n",
       "      <td>5890.57</td>\n",
       "      <td>122.39</td>\n",
       "      <td>42.45</td>\n",
       "      <td>12.43</td>\n",
       "      <td>13.19</td>\n",
       "      <td>10.81</td>\n",
       "      <td>10.73</td>\n",
       "      <td>...</td>\n",
       "      <td>34.10</td>\n",
       "      <td>59</td>\n",
       "      <td>98.973116</td>\n",
       "      <td>95.180575</td>\n",
       "      <td>96.284707</td>\n",
       "      <td>96.955767</td>\n",
       "      <td>96.635434</td>\n",
       "      <td>61.021445</td>\n",
       "      <td>61.021445</td>\n",
       "      <td>104.580392</td>\n",
       "    </tr>\n",
       "    <tr>\n",
       "      <th>7</th>\n",
       "      <td>517596</td>\n",
       "      <td>198</td>\n",
       "      <td>56</td>\n",
       "      <td>22036.40</td>\n",
       "      <td>1450.51</td>\n",
       "      <td>41.63</td>\n",
       "      <td>11.03</td>\n",
       "      <td>11.98</td>\n",
       "      <td>12.11</td>\n",
       "      <td>13.69</td>\n",
       "      <td>...</td>\n",
       "      <td>37.68</td>\n",
       "      <td>316</td>\n",
       "      <td>96.955858</td>\n",
       "      <td>71.842105</td>\n",
       "      <td>97.336937</td>\n",
       "      <td>96.740084</td>\n",
       "      <td>96.635434</td>\n",
       "      <td>54.885965</td>\n",
       "      <td>54.885965</td>\n",
       "      <td>110.408840</td>\n",
       "    </tr>\n",
       "    <tr>\n",
       "      <th>8</th>\n",
       "      <td>533188</td>\n",
       "      <td>706</td>\n",
       "      <td>65</td>\n",
       "      <td>7219.77</td>\n",
       "      <td>531.06</td>\n",
       "      <td>39.54</td>\n",
       "      <td>12.45</td>\n",
       "      <td>14.79</td>\n",
       "      <td>11.00</td>\n",
       "      <td>12.54</td>\n",
       "      <td>...</td>\n",
       "      <td>53.39</td>\n",
       "      <td>86</td>\n",
       "      <td>96.955858</td>\n",
       "      <td>78.337838</td>\n",
       "      <td>97.336937</td>\n",
       "      <td>95.130464</td>\n",
       "      <td>96.635434</td>\n",
       "      <td>62.052632</td>\n",
       "      <td>62.052632</td>\n",
       "      <td>88.929481</td>\n",
       "    </tr>\n",
       "    <tr>\n",
       "      <th>9</th>\n",
       "      <td>639484</td>\n",
       "      <td>922</td>\n",
       "      <td>60</td>\n",
       "      <td>16549.83</td>\n",
       "      <td>245.10</td>\n",
       "      <td>44.23</td>\n",
       "      <td>9.89</td>\n",
       "      <td>10.41</td>\n",
       "      <td>13.67</td>\n",
       "      <td>11.39</td>\n",
       "      <td>...</td>\n",
       "      <td>53.04</td>\n",
       "      <td>184</td>\n",
       "      <td>96.955858</td>\n",
       "      <td>93.507216</td>\n",
       "      <td>92.487805</td>\n",
       "      <td>93.240525</td>\n",
       "      <td>96.635434</td>\n",
       "      <td>57.388827</td>\n",
       "      <td>57.388827</td>\n",
       "      <td>88.929481</td>\n",
       "    </tr>\n",
       "  </tbody>\n",
       "</table>\n",
       "<p>10 rows × 148 columns</p>\n",
       "</div>"
      ],
      "text/plain": [
       "   patient_id  patient_zip3  patient_age  population  density  age_median  \\\n",
       "0      268700           724           39     3924.87    82.63       42.58   \n",
       "1      484983           629           55     2745.39    51.79       43.54   \n",
       "2      277055           925           59    38343.18   700.34       36.28   \n",
       "3      320055           900           59    36054.12  5294.33       36.65   \n",
       "4      190386           934           71    13700.37   400.48       41.78   \n",
       "5      559027           461           63     9322.89   274.74       40.12   \n",
       "6      293747           448           57     5890.57   122.39       42.45   \n",
       "7      517596           198           56    22036.40  1450.51       41.63   \n",
       "8      533188           706           65     7219.77   531.06       39.54   \n",
       "9      639484           922           60    16549.83   245.10       44.23   \n",
       "\n",
       "   age_under_10  age_10_to_19  age_20s  age_30s  ...  Average of Dec-18  \\\n",
       "0         11.61         13.03    10.87    11.80  ...              41.18   \n",
       "1         11.22         12.19    11.45    11.01  ...              39.71   \n",
       "2         13.27         15.66    13.49    13.45  ...              55.58   \n",
       "3          9.76         11.27    17.23    17.44  ...              59.46   \n",
       "4         10.03         16.43    12.97    11.29  ...              54.08   \n",
       "5         12.23         13.88    11.53    11.94  ...              35.43   \n",
       "6         12.43         13.19    10.81    10.73  ...              34.10   \n",
       "7         11.03         11.98    12.11    13.69  ...              37.68   \n",
       "8         12.45         14.79    11.00    12.54  ...              53.39   \n",
       "9          9.89         10.41    13.67    11.39  ...              53.04   \n",
       "\n",
       "   metastatic_diagnosis_period  payer_type_encoded  patient_state_encoded  \\\n",
       "0                          191           96.955858              99.296296   \n",
       "1                           33           96.955858             100.509759   \n",
       "2                          157           96.955858              93.507216   \n",
       "3                          146           93.362846              93.507216   \n",
       "4                          286           96.955858              93.507216   \n",
       "5                           73           96.955858             101.825095   \n",
       "6                           59           98.973116              95.180575   \n",
       "7                          316           96.955858              71.842105   \n",
       "8                           86           96.955858              78.337838   \n",
       "9                          184           96.955858              93.507216   \n",
       "\n",
       "   Region_encoded  Division_encoded  patient_gender_encoded  \\\n",
       "0       97.336937         95.130464               96.635434   \n",
       "1       96.284707         96.955767               96.635434   \n",
       "2       92.487805         93.240525               96.635434   \n",
       "3       92.487805         93.240525               96.635434   \n",
       "4       92.487805         93.240525               96.635434   \n",
       "5       96.284707         96.955767               96.635434   \n",
       "6       96.284707         96.955767               96.635434   \n",
       "7       97.336937         96.740084               96.635434   \n",
       "8       97.336937         95.130464               96.635434   \n",
       "9       92.487805         93.240525               96.635434   \n",
       "\n",
       "   breast_cancer_diagnosis_code_encoded  breast_cancer_diagnosis_desc_encoded  \\\n",
       "0                             57.388827                             57.388827   \n",
       "1                             61.021445                             61.021445   \n",
       "2                            227.288411                            227.288411   \n",
       "3                             59.180947                             59.180947   \n",
       "4                            225.081081                            225.081081   \n",
       "5                            227.288411                            227.288411   \n",
       "6                             61.021445                             61.021445   \n",
       "7                             54.885965                             54.885965   \n",
       "8                             62.052632                             62.052632   \n",
       "9                             57.388827                             57.388827   \n",
       "\n",
       "   metastatic_cancer_diagnosis_code_encoded  \n",
       "0                                 88.929481  \n",
       "1                                 88.929481  \n",
       "2                                 88.929481  \n",
       "3                                 88.929481  \n",
       "4                                108.262487  \n",
       "5                                 62.142857  \n",
       "6                                104.580392  \n",
       "7                                110.408840  \n",
       "8                                 88.929481  \n",
       "9                                 88.929481  \n",
       "\n",
       "[10 rows x 148 columns]"
      ]
     },
     "execution_count": 87,
     "metadata": {},
     "output_type": "execute_result"
    }
   ],
   "source": [
    "train.head(10)"
   ]
  },
  {
   "cell_type": "code",
   "execution_count": null,
   "metadata": {
    "execution": {
     "iopub.execute_input": "2024-05-31T16:43:24.696739Z",
     "iopub.status.busy": "2024-05-31T16:43:24.696419Z",
     "iopub.status.idle": "2024-05-31T16:43:24.709202Z"
    },
    "id": "JoqPGQtQ7Xje"
   },
   "outputs": [],
   "source": [
    "# Remove breast_cancer_diagnosis_desc_encode code\n",
    "train.drop(columns= 'breast_cancer_diagnosis_desc_encoded', inplace=True)\n"
   ]
  },
  {
   "cell_type": "code",
   "execution_count": null,
   "metadata": {
    "colab": {
     "base_uri": "https://localhost:8080/",
     "height": 290
    },
    "execution": {
     "iopub.execute_input": "2024-05-31T16:43:24.710632Z",
     "iopub.status.busy": "2024-05-31T16:43:24.710313Z",
     "iopub.status.idle": "2024-05-31T16:43:24.736660Z"
    },
    "id": "r1OxhOkOC00C",
    "outputId": "1c6c3038-eceb-4df7-8a02-8017e0689355"
   },
   "outputs": [
    {
     "data": {
      "text/html": [
       "<div>\n",
       "<style scoped>\n",
       "    .dataframe tbody tr th:only-of-type {\n",
       "        vertical-align: middle;\n",
       "    }\n",
       "\n",
       "    .dataframe tbody tr th {\n",
       "        vertical-align: top;\n",
       "    }\n",
       "\n",
       "    .dataframe thead th {\n",
       "        text-align: right;\n",
       "    }\n",
       "</style>\n",
       "<table border=\"1\" class=\"dataframe\">\n",
       "  <thead>\n",
       "    <tr style=\"text-align: right;\">\n",
       "      <th></th>\n",
       "      <th>patient_id</th>\n",
       "      <th>patient_zip3</th>\n",
       "      <th>patient_age</th>\n",
       "      <th>population</th>\n",
       "      <th>density</th>\n",
       "      <th>age_median</th>\n",
       "      <th>age_under_10</th>\n",
       "      <th>age_10_to_19</th>\n",
       "      <th>age_20s</th>\n",
       "      <th>age_30s</th>\n",
       "      <th>...</th>\n",
       "      <th>Average of Nov-18</th>\n",
       "      <th>Average of Dec-18</th>\n",
       "      <th>metastatic_diagnosis_period</th>\n",
       "      <th>payer_type_encoded</th>\n",
       "      <th>patient_state_encoded</th>\n",
       "      <th>Region_encoded</th>\n",
       "      <th>Division_encoded</th>\n",
       "      <th>patient_gender_encoded</th>\n",
       "      <th>breast_cancer_diagnosis_code_encoded</th>\n",
       "      <th>metastatic_cancer_diagnosis_code_encoded</th>\n",
       "    </tr>\n",
       "  </thead>\n",
       "  <tbody>\n",
       "    <tr>\n",
       "      <th>0</th>\n",
       "      <td>268700</td>\n",
       "      <td>724</td>\n",
       "      <td>39</td>\n",
       "      <td>3924.87</td>\n",
       "      <td>82.63</td>\n",
       "      <td>42.58</td>\n",
       "      <td>11.61</td>\n",
       "      <td>13.03</td>\n",
       "      <td>10.87</td>\n",
       "      <td>11.80</td>\n",
       "      <td>...</td>\n",
       "      <td>42.98</td>\n",
       "      <td>41.18</td>\n",
       "      <td>191</td>\n",
       "      <td>96.955858</td>\n",
       "      <td>99.296296</td>\n",
       "      <td>97.336937</td>\n",
       "      <td>95.130464</td>\n",
       "      <td>96.635434</td>\n",
       "      <td>57.388827</td>\n",
       "      <td>88.929481</td>\n",
       "    </tr>\n",
       "    <tr>\n",
       "      <th>1</th>\n",
       "      <td>484983</td>\n",
       "      <td>629</td>\n",
       "      <td>55</td>\n",
       "      <td>2745.39</td>\n",
       "      <td>51.79</td>\n",
       "      <td>43.54</td>\n",
       "      <td>11.22</td>\n",
       "      <td>12.19</td>\n",
       "      <td>11.45</td>\n",
       "      <td>11.01</td>\n",
       "      <td>...</td>\n",
       "      <td>39.68</td>\n",
       "      <td>39.71</td>\n",
       "      <td>33</td>\n",
       "      <td>96.955858</td>\n",
       "      <td>100.509759</td>\n",
       "      <td>96.284707</td>\n",
       "      <td>96.955767</td>\n",
       "      <td>96.635434</td>\n",
       "      <td>61.021445</td>\n",
       "      <td>88.929481</td>\n",
       "    </tr>\n",
       "    <tr>\n",
       "      <th>2</th>\n",
       "      <td>277055</td>\n",
       "      <td>925</td>\n",
       "      <td>59</td>\n",
       "      <td>38343.18</td>\n",
       "      <td>700.34</td>\n",
       "      <td>36.28</td>\n",
       "      <td>13.27</td>\n",
       "      <td>15.66</td>\n",
       "      <td>13.49</td>\n",
       "      <td>13.45</td>\n",
       "      <td>...</td>\n",
       "      <td>62.67</td>\n",
       "      <td>55.58</td>\n",
       "      <td>157</td>\n",
       "      <td>96.955858</td>\n",
       "      <td>93.507216</td>\n",
       "      <td>92.487805</td>\n",
       "      <td>93.240525</td>\n",
       "      <td>96.635434</td>\n",
       "      <td>227.288411</td>\n",
       "      <td>88.929481</td>\n",
       "    </tr>\n",
       "    <tr>\n",
       "      <th>3</th>\n",
       "      <td>320055</td>\n",
       "      <td>900</td>\n",
       "      <td>59</td>\n",
       "      <td>36054.12</td>\n",
       "      <td>5294.33</td>\n",
       "      <td>36.65</td>\n",
       "      <td>9.76</td>\n",
       "      <td>11.27</td>\n",
       "      <td>17.23</td>\n",
       "      <td>17.44</td>\n",
       "      <td>...</td>\n",
       "      <td>65.46</td>\n",
       "      <td>59.46</td>\n",
       "      <td>146</td>\n",
       "      <td>93.362846</td>\n",
       "      <td>93.507216</td>\n",
       "      <td>92.487805</td>\n",
       "      <td>93.240525</td>\n",
       "      <td>96.635434</td>\n",
       "      <td>59.180947</td>\n",
       "      <td>88.929481</td>\n",
       "    </tr>\n",
       "    <tr>\n",
       "      <th>4</th>\n",
       "      <td>190386</td>\n",
       "      <td>934</td>\n",
       "      <td>71</td>\n",
       "      <td>13700.37</td>\n",
       "      <td>400.48</td>\n",
       "      <td>41.78</td>\n",
       "      <td>10.03</td>\n",
       "      <td>16.43</td>\n",
       "      <td>12.97</td>\n",
       "      <td>11.29</td>\n",
       "      <td>...</td>\n",
       "      <td>60.72</td>\n",
       "      <td>54.08</td>\n",
       "      <td>286</td>\n",
       "      <td>96.955858</td>\n",
       "      <td>93.507216</td>\n",
       "      <td>92.487805</td>\n",
       "      <td>93.240525</td>\n",
       "      <td>96.635434</td>\n",
       "      <td>225.081081</td>\n",
       "      <td>108.262487</td>\n",
       "    </tr>\n",
       "  </tbody>\n",
       "</table>\n",
       "<p>5 rows × 147 columns</p>\n",
       "</div>"
      ],
      "text/plain": [
       "   patient_id  patient_zip3  patient_age  population  density  age_median  \\\n",
       "0      268700           724           39     3924.87    82.63       42.58   \n",
       "1      484983           629           55     2745.39    51.79       43.54   \n",
       "2      277055           925           59    38343.18   700.34       36.28   \n",
       "3      320055           900           59    36054.12  5294.33       36.65   \n",
       "4      190386           934           71    13700.37   400.48       41.78   \n",
       "\n",
       "   age_under_10  age_10_to_19  age_20s  age_30s  ...  Average of Nov-18  \\\n",
       "0         11.61         13.03    10.87    11.80  ...              42.98   \n",
       "1         11.22         12.19    11.45    11.01  ...              39.68   \n",
       "2         13.27         15.66    13.49    13.45  ...              62.67   \n",
       "3          9.76         11.27    17.23    17.44  ...              65.46   \n",
       "4         10.03         16.43    12.97    11.29  ...              60.72   \n",
       "\n",
       "   Average of Dec-18  metastatic_diagnosis_period  payer_type_encoded  \\\n",
       "0              41.18                          191           96.955858   \n",
       "1              39.71                           33           96.955858   \n",
       "2              55.58                          157           96.955858   \n",
       "3              59.46                          146           93.362846   \n",
       "4              54.08                          286           96.955858   \n",
       "\n",
       "   patient_state_encoded  Region_encoded  Division_encoded  \\\n",
       "0              99.296296       97.336937         95.130464   \n",
       "1             100.509759       96.284707         96.955767   \n",
       "2              93.507216       92.487805         93.240525   \n",
       "3              93.507216       92.487805         93.240525   \n",
       "4              93.507216       92.487805         93.240525   \n",
       "\n",
       "   patient_gender_encoded  breast_cancer_diagnosis_code_encoded  \\\n",
       "0               96.635434                             57.388827   \n",
       "1               96.635434                             61.021445   \n",
       "2               96.635434                            227.288411   \n",
       "3               96.635434                             59.180947   \n",
       "4               96.635434                            225.081081   \n",
       "\n",
       "   metastatic_cancer_diagnosis_code_encoded  \n",
       "0                                 88.929481  \n",
       "1                                 88.929481  \n",
       "2                                 88.929481  \n",
       "3                                 88.929481  \n",
       "4                                108.262487  \n",
       "\n",
       "[5 rows x 147 columns]"
      ]
     },
     "execution_count": 89,
     "metadata": {},
     "output_type": "execute_result"
    }
   ],
   "source": [
    "train.head(5)"
   ]
  },
  {
   "cell_type": "code",
   "execution_count": null,
   "metadata": {
    "colab": {
     "base_uri": "https://localhost:8080/",
     "height": 690
    },
    "execution": {
     "iopub.execute_input": "2024-05-31T16:43:24.738644Z",
     "iopub.status.busy": "2024-05-31T16:43:24.737963Z",
     "iopub.status.idle": "2024-05-31T16:43:24.765544Z"
    },
    "id": "1glIn-EiYXZ7",
    "outputId": "42e4151b-73f8-4a92-d631-7e3b3cbf92ae"
   },
   "outputs": [
    {
     "data": {
      "text/html": [
       "<div>\n",
       "<style scoped>\n",
       "    .dataframe tbody tr th:only-of-type {\n",
       "        vertical-align: middle;\n",
       "    }\n",
       "\n",
       "    .dataframe tbody tr th {\n",
       "        vertical-align: top;\n",
       "    }\n",
       "\n",
       "    .dataframe thead th {\n",
       "        text-align: right;\n",
       "    }\n",
       "</style>\n",
       "<table border=\"1\" class=\"dataframe\">\n",
       "  <thead>\n",
       "    <tr style=\"text-align: right;\">\n",
       "      <th></th>\n",
       "      <th>patient_id</th>\n",
       "      <th>payer_type</th>\n",
       "      <th>patient_state</th>\n",
       "      <th>patient_zip3</th>\n",
       "      <th>Region</th>\n",
       "      <th>Division</th>\n",
       "      <th>patient_age</th>\n",
       "      <th>patient_gender</th>\n",
       "      <th>breast_cancer_diagnosis_code</th>\n",
       "      <th>breast_cancer_diagnosis_desc</th>\n",
       "      <th>...</th>\n",
       "      <th>Average of Nov-18</th>\n",
       "      <th>Average of Dec-18</th>\n",
       "      <th>payer_type_encoded</th>\n",
       "      <th>patient_state_encoded</th>\n",
       "      <th>Region_encoded</th>\n",
       "      <th>Division_encoded</th>\n",
       "      <th>patient_gender_encoded</th>\n",
       "      <th>breast_cancer_diagnosis_code_encoded</th>\n",
       "      <th>breast_cancer_diagnosis_desc_encoded</th>\n",
       "      <th>metastatic_cancer_diagnosis_code_encoded</th>\n",
       "    </tr>\n",
       "  </thead>\n",
       "  <tbody>\n",
       "    <tr>\n",
       "      <th>0</th>\n",
       "      <td>730681</td>\n",
       "      <td>COMMERCIAL</td>\n",
       "      <td>LA</td>\n",
       "      <td>713</td>\n",
       "      <td>South</td>\n",
       "      <td>West South Central</td>\n",
       "      <td>55</td>\n",
       "      <td>F</td>\n",
       "      <td>1746</td>\n",
       "      <td>Malignant neoplasm of axillary tail of female ...</td>\n",
       "      <td>...</td>\n",
       "      <td>53.14</td>\n",
       "      <td>51.34</td>\n",
       "      <td>96.955858</td>\n",
       "      <td>99.296296</td>\n",
       "      <td>97.336937</td>\n",
       "      <td>95.130464</td>\n",
       "      <td>96.635434</td>\n",
       "      <td>57.388827</td>\n",
       "      <td>57.388827</td>\n",
       "      <td>88.929481</td>\n",
       "    </tr>\n",
       "    <tr>\n",
       "      <th>1</th>\n",
       "      <td>334212</td>\n",
       "      <td>COMMERCIAL</td>\n",
       "      <td>NC</td>\n",
       "      <td>283</td>\n",
       "      <td>South</td>\n",
       "      <td>South Atlantic</td>\n",
       "      <td>60</td>\n",
       "      <td>F</td>\n",
       "      <td>C50912</td>\n",
       "      <td>Malignant neoplasm of unspecified site of left...</td>\n",
       "      <td>...</td>\n",
       "      <td>50.57</td>\n",
       "      <td>48.10</td>\n",
       "      <td>96.955858</td>\n",
       "      <td>100.509759</td>\n",
       "      <td>96.284707</td>\n",
       "      <td>96.955767</td>\n",
       "      <td>96.635434</td>\n",
       "      <td>61.021445</td>\n",
       "      <td>61.021445</td>\n",
       "      <td>88.929481</td>\n",
       "    </tr>\n",
       "    <tr>\n",
       "      <th>2</th>\n",
       "      <td>571362</td>\n",
       "      <td>COMMERCIAL</td>\n",
       "      <td>TX</td>\n",
       "      <td>794</td>\n",
       "      <td>South</td>\n",
       "      <td>West South Central</td>\n",
       "      <td>54</td>\n",
       "      <td>F</td>\n",
       "      <td>1742</td>\n",
       "      <td>Malignant neoplasm of upper-inner quadrant of ...</td>\n",
       "      <td>...</td>\n",
       "      <td>48.25</td>\n",
       "      <td>42.13</td>\n",
       "      <td>96.955858</td>\n",
       "      <td>93.507216</td>\n",
       "      <td>92.487805</td>\n",
       "      <td>93.240525</td>\n",
       "      <td>96.635434</td>\n",
       "      <td>227.288411</td>\n",
       "      <td>227.288411</td>\n",
       "      <td>88.929481</td>\n",
       "    </tr>\n",
       "    <tr>\n",
       "      <th>3</th>\n",
       "      <td>907331</td>\n",
       "      <td>COMMERCIAL</td>\n",
       "      <td>TN</td>\n",
       "      <td>373</td>\n",
       "      <td>South</td>\n",
       "      <td>East South Central</td>\n",
       "      <td>63</td>\n",
       "      <td>F</td>\n",
       "      <td>1748</td>\n",
       "      <td>Malignant neoplasm of other specified sites of...</td>\n",
       "      <td>...</td>\n",
       "      <td>44.31</td>\n",
       "      <td>42.83</td>\n",
       "      <td>93.362846</td>\n",
       "      <td>93.507216</td>\n",
       "      <td>92.487805</td>\n",
       "      <td>93.240525</td>\n",
       "      <td>96.635434</td>\n",
       "      <td>59.180947</td>\n",
       "      <td>59.180947</td>\n",
       "      <td>88.929481</td>\n",
       "    </tr>\n",
       "    <tr>\n",
       "      <th>4</th>\n",
       "      <td>208382</td>\n",
       "      <td>COMMERCIAL</td>\n",
       "      <td>WA</td>\n",
       "      <td>980</td>\n",
       "      <td>West</td>\n",
       "      <td>Pacific</td>\n",
       "      <td>62</td>\n",
       "      <td>F</td>\n",
       "      <td>C50411</td>\n",
       "      <td>Malig neoplm of upper-outer quadrant of right ...</td>\n",
       "      <td>...</td>\n",
       "      <td>43.75</td>\n",
       "      <td>38.33</td>\n",
       "      <td>96.955858</td>\n",
       "      <td>93.507216</td>\n",
       "      <td>92.487805</td>\n",
       "      <td>93.240525</td>\n",
       "      <td>96.635434</td>\n",
       "      <td>225.081081</td>\n",
       "      <td>225.081081</td>\n",
       "      <td>108.262487</td>\n",
       "    </tr>\n",
       "    <tr>\n",
       "      <th>5</th>\n",
       "      <td>852863</td>\n",
       "      <td>MEDICARE ADVANTAGE</td>\n",
       "      <td>CA</td>\n",
       "      <td>914</td>\n",
       "      <td>West</td>\n",
       "      <td>Pacific</td>\n",
       "      <td>82</td>\n",
       "      <td>F</td>\n",
       "      <td>1749</td>\n",
       "      <td>Malignant neoplasm of breast (female), unspeci...</td>\n",
       "      <td>...</td>\n",
       "      <td>65.27</td>\n",
       "      <td>59.42</td>\n",
       "      <td>96.955858</td>\n",
       "      <td>101.825095</td>\n",
       "      <td>96.284707</td>\n",
       "      <td>96.955767</td>\n",
       "      <td>96.635434</td>\n",
       "      <td>227.288411</td>\n",
       "      <td>227.288411</td>\n",
       "      <td>62.142857</td>\n",
       "    </tr>\n",
       "    <tr>\n",
       "      <th>6</th>\n",
       "      <td>494644</td>\n",
       "      <td>COMMERCIAL</td>\n",
       "      <td>MI</td>\n",
       "      <td>483</td>\n",
       "      <td>Midwest</td>\n",
       "      <td>East North Central</td>\n",
       "      <td>67</td>\n",
       "      <td>F</td>\n",
       "      <td>C50911</td>\n",
       "      <td>Malignant neoplasm of unsp site of right femal...</td>\n",
       "      <td>...</td>\n",
       "      <td>32.25</td>\n",
       "      <td>30.68</td>\n",
       "      <td>98.973116</td>\n",
       "      <td>95.180575</td>\n",
       "      <td>96.284707</td>\n",
       "      <td>96.955767</td>\n",
       "      <td>96.635434</td>\n",
       "      <td>61.021445</td>\n",
       "      <td>61.021445</td>\n",
       "      <td>104.580392</td>\n",
       "    </tr>\n",
       "    <tr>\n",
       "      <th>7</th>\n",
       "      <td>852015</td>\n",
       "      <td>MEDICAID</td>\n",
       "      <td>FL</td>\n",
       "      <td>336</td>\n",
       "      <td>South</td>\n",
       "      <td>South Atlantic</td>\n",
       "      <td>51</td>\n",
       "      <td>F</td>\n",
       "      <td>C50919</td>\n",
       "      <td>Malignant neoplasm of unsp site of unspecified...</td>\n",
       "      <td>...</td>\n",
       "      <td>70.31</td>\n",
       "      <td>64.83</td>\n",
       "      <td>96.955858</td>\n",
       "      <td>71.842105</td>\n",
       "      <td>97.336937</td>\n",
       "      <td>96.740084</td>\n",
       "      <td>96.635434</td>\n",
       "      <td>54.885965</td>\n",
       "      <td>54.885965</td>\n",
       "      <td>110.408840</td>\n",
       "    </tr>\n",
       "    <tr>\n",
       "      <th>8</th>\n",
       "      <td>521061</td>\n",
       "      <td>MEDICAID</td>\n",
       "      <td>CA</td>\n",
       "      <td>917</td>\n",
       "      <td>West</td>\n",
       "      <td>Pacific</td>\n",
       "      <td>44</td>\n",
       "      <td>F</td>\n",
       "      <td>C50011</td>\n",
       "      <td>Malignant neoplasm of nipple and areola, right...</td>\n",
       "      <td>...</td>\n",
       "      <td>65.23</td>\n",
       "      <td>58.38</td>\n",
       "      <td>96.955858</td>\n",
       "      <td>78.337838</td>\n",
       "      <td>97.336937</td>\n",
       "      <td>95.130464</td>\n",
       "      <td>96.635434</td>\n",
       "      <td>62.052632</td>\n",
       "      <td>62.052632</td>\n",
       "      <td>88.929481</td>\n",
       "    </tr>\n",
       "    <tr>\n",
       "      <th>9</th>\n",
       "      <td>907023</td>\n",
       "      <td>COMMERCIAL</td>\n",
       "      <td>PA</td>\n",
       "      <td>160</td>\n",
       "      <td>Northeast</td>\n",
       "      <td>Middle Atlantic</td>\n",
       "      <td>70</td>\n",
       "      <td>F</td>\n",
       "      <td>C50812</td>\n",
       "      <td>Malignant neoplasm of ovrlp sites of left fema...</td>\n",
       "      <td>...</td>\n",
       "      <td>37.92</td>\n",
       "      <td>34.81</td>\n",
       "      <td>96.955858</td>\n",
       "      <td>93.507216</td>\n",
       "      <td>92.487805</td>\n",
       "      <td>93.240525</td>\n",
       "      <td>96.635434</td>\n",
       "      <td>57.388827</td>\n",
       "      <td>57.388827</td>\n",
       "      <td>88.929481</td>\n",
       "    </tr>\n",
       "  </tbody>\n",
       "</table>\n",
       "<p>10 rows × 155 columns</p>\n",
       "</div>"
      ],
      "text/plain": [
       "   patient_id          payer_type patient_state  patient_zip3     Region  \\\n",
       "0      730681          COMMERCIAL            LA           713      South   \n",
       "1      334212          COMMERCIAL            NC           283      South   \n",
       "2      571362          COMMERCIAL            TX           794      South   \n",
       "3      907331          COMMERCIAL            TN           373      South   \n",
       "4      208382          COMMERCIAL            WA           980       West   \n",
       "5      852863  MEDICARE ADVANTAGE            CA           914       West   \n",
       "6      494644          COMMERCIAL            MI           483    Midwest   \n",
       "7      852015            MEDICAID            FL           336      South   \n",
       "8      521061            MEDICAID            CA           917       West   \n",
       "9      907023          COMMERCIAL            PA           160  Northeast   \n",
       "\n",
       "             Division  patient_age patient_gender  \\\n",
       "0  West South Central           55              F   \n",
       "1      South Atlantic           60              F   \n",
       "2  West South Central           54              F   \n",
       "3  East South Central           63              F   \n",
       "4             Pacific           62              F   \n",
       "5             Pacific           82              F   \n",
       "6  East North Central           67              F   \n",
       "7      South Atlantic           51              F   \n",
       "8             Pacific           44              F   \n",
       "9     Middle Atlantic           70              F   \n",
       "\n",
       "  breast_cancer_diagnosis_code  \\\n",
       "0                         1746   \n",
       "1                       C50912   \n",
       "2                         1742   \n",
       "3                         1748   \n",
       "4                       C50411   \n",
       "5                         1749   \n",
       "6                       C50911   \n",
       "7                       C50919   \n",
       "8                       C50011   \n",
       "9                       C50812   \n",
       "\n",
       "                        breast_cancer_diagnosis_desc  ... Average of Nov-18  \\\n",
       "0  Malignant neoplasm of axillary tail of female ...  ...             53.14   \n",
       "1  Malignant neoplasm of unspecified site of left...  ...             50.57   \n",
       "2  Malignant neoplasm of upper-inner quadrant of ...  ...             48.25   \n",
       "3  Malignant neoplasm of other specified sites of...  ...             44.31   \n",
       "4  Malig neoplm of upper-outer quadrant of right ...  ...             43.75   \n",
       "5  Malignant neoplasm of breast (female), unspeci...  ...             65.27   \n",
       "6  Malignant neoplasm of unsp site of right femal...  ...             32.25   \n",
       "7  Malignant neoplasm of unsp site of unspecified...  ...             70.31   \n",
       "8  Malignant neoplasm of nipple and areola, right...  ...             65.23   \n",
       "9  Malignant neoplasm of ovrlp sites of left fema...  ...             37.92   \n",
       "\n",
       "   Average of Dec-18  payer_type_encoded  patient_state_encoded  \\\n",
       "0              51.34           96.955858              99.296296   \n",
       "1              48.10           96.955858             100.509759   \n",
       "2              42.13           96.955858              93.507216   \n",
       "3              42.83           93.362846              93.507216   \n",
       "4              38.33           96.955858              93.507216   \n",
       "5              59.42           96.955858             101.825095   \n",
       "6              30.68           98.973116              95.180575   \n",
       "7              64.83           96.955858              71.842105   \n",
       "8              58.38           96.955858              78.337838   \n",
       "9              34.81           96.955858              93.507216   \n",
       "\n",
       "   Region_encoded  Division_encoded  patient_gender_encoded  \\\n",
       "0       97.336937         95.130464               96.635434   \n",
       "1       96.284707         96.955767               96.635434   \n",
       "2       92.487805         93.240525               96.635434   \n",
       "3       92.487805         93.240525               96.635434   \n",
       "4       92.487805         93.240525               96.635434   \n",
       "5       96.284707         96.955767               96.635434   \n",
       "6       96.284707         96.955767               96.635434   \n",
       "7       97.336937         96.740084               96.635434   \n",
       "8       97.336937         95.130464               96.635434   \n",
       "9       92.487805         93.240525               96.635434   \n",
       "\n",
       "   breast_cancer_diagnosis_code_encoded  breast_cancer_diagnosis_desc_encoded  \\\n",
       "0                             57.388827                             57.388827   \n",
       "1                             61.021445                             61.021445   \n",
       "2                            227.288411                            227.288411   \n",
       "3                             59.180947                             59.180947   \n",
       "4                            225.081081                            225.081081   \n",
       "5                            227.288411                            227.288411   \n",
       "6                             61.021445                             61.021445   \n",
       "7                             54.885965                             54.885965   \n",
       "8                             62.052632                             62.052632   \n",
       "9                             57.388827                             57.388827   \n",
       "\n",
       "   metastatic_cancer_diagnosis_code_encoded  \n",
       "0                                 88.929481  \n",
       "1                                 88.929481  \n",
       "2                                 88.929481  \n",
       "3                                 88.929481  \n",
       "4                                108.262487  \n",
       "5                                 62.142857  \n",
       "6                                104.580392  \n",
       "7                                110.408840  \n",
       "8                                 88.929481  \n",
       "9                                 88.929481  \n",
       "\n",
       "[10 rows x 155 columns]"
      ]
     },
     "execution_count": 90,
     "metadata": {},
     "output_type": "execute_result"
    }
   ],
   "source": [
    "test.head(10)"
   ]
  },
  {
   "cell_type": "code",
   "execution_count": null,
   "metadata": {
    "colab": {
     "base_uri": "https://localhost:8080/"
    },
    "execution": {
     "iopub.execute_input": "2024-05-31T16:43:24.767091Z",
     "iopub.status.busy": "2024-05-31T16:43:24.766737Z",
     "iopub.status.idle": "2024-05-31T16:43:24.778666Z"
    },
    "id": "TSLnonm1oiTa",
    "outputId": "75aca5f3-6ab7-472a-8545-1076dacfc67e"
   },
   "outputs": [
    {
     "data": {
      "text/plain": [
       "payer_type_encoded                          110\n",
       "patient_state_encoded                       110\n",
       "Region_encoded                              110\n",
       "Division_encoded                            110\n",
       "patient_gender_encoded                      110\n",
       "breast_cancer_diagnosis_code_encoded        110\n",
       "breast_cancer_diagnosis_desc_encoded        110\n",
       "metastatic_cancer_diagnosis_code_encoded    110\n",
       "dtype: int64"
      ]
     },
     "execution_count": 91,
     "metadata": {},
     "output_type": "execute_result"
    }
   ],
   "source": [
    "test_null=test.isnull().sum()\n",
    "test_null[test_null > 0]"
   ]
  },
  {
   "cell_type": "code",
   "execution_count": null,
   "metadata": {
    "execution": {
     "iopub.execute_input": "2024-05-31T16:43:24.780730Z",
     "iopub.status.busy": "2024-05-31T16:43:24.779922Z",
     "iopub.status.idle": "2024-05-31T16:43:24.789405Z"
    },
    "id": "Ss_WlGOSTnOe"
   },
   "outputs": [],
   "source": [
    "data_test=test[test.isnull().any(axis=1)]"
   ]
  },
  {
   "cell_type": "code",
   "execution_count": null,
   "metadata": {
    "colab": {
     "base_uri": "https://localhost:8080/",
     "height": 721
    },
    "execution": {
     "iopub.execute_input": "2024-05-31T16:43:24.791265Z",
     "iopub.status.busy": "2024-05-31T16:43:24.790788Z",
     "iopub.status.idle": "2024-05-31T16:43:24.819790Z"
    },
    "id": "Y9otUyYUYx0o",
    "outputId": "cf551ec7-c324-45af-beb8-117667854551"
   },
   "outputs": [
    {
     "data": {
      "text/html": [
       "<div>\n",
       "<style scoped>\n",
       "    .dataframe tbody tr th:only-of-type {\n",
       "        vertical-align: middle;\n",
       "    }\n",
       "\n",
       "    .dataframe tbody tr th {\n",
       "        vertical-align: top;\n",
       "    }\n",
       "\n",
       "    .dataframe thead th {\n",
       "        text-align: right;\n",
       "    }\n",
       "</style>\n",
       "<table border=\"1\" class=\"dataframe\">\n",
       "  <thead>\n",
       "    <tr style=\"text-align: right;\">\n",
       "      <th></th>\n",
       "      <th>patient_id</th>\n",
       "      <th>payer_type</th>\n",
       "      <th>patient_state</th>\n",
       "      <th>patient_zip3</th>\n",
       "      <th>Region</th>\n",
       "      <th>Division</th>\n",
       "      <th>patient_age</th>\n",
       "      <th>patient_gender</th>\n",
       "      <th>breast_cancer_diagnosis_code</th>\n",
       "      <th>breast_cancer_diagnosis_desc</th>\n",
       "      <th>...</th>\n",
       "      <th>Average of Nov-18</th>\n",
       "      <th>Average of Dec-18</th>\n",
       "      <th>payer_type_encoded</th>\n",
       "      <th>patient_state_encoded</th>\n",
       "      <th>Region_encoded</th>\n",
       "      <th>Division_encoded</th>\n",
       "      <th>patient_gender_encoded</th>\n",
       "      <th>breast_cancer_diagnosis_code_encoded</th>\n",
       "      <th>breast_cancer_diagnosis_desc_encoded</th>\n",
       "      <th>metastatic_cancer_diagnosis_code_encoded</th>\n",
       "    </tr>\n",
       "  </thead>\n",
       "  <tbody>\n",
       "    <tr>\n",
       "      <th>50</th>\n",
       "      <td>806374</td>\n",
       "      <td>MEDICARE ADVANTAGE</td>\n",
       "      <td>OH</td>\n",
       "      <td>454</td>\n",
       "      <td>Midwest</td>\n",
       "      <td>East North Central</td>\n",
       "      <td>75</td>\n",
       "      <td>F</td>\n",
       "      <td>C50211</td>\n",
       "      <td>Malig neoplm of upper-inner quadrant of right ...</td>\n",
       "      <td>...</td>\n",
       "      <td>37.11</td>\n",
       "      <td>34.94</td>\n",
       "      <td>NaN</td>\n",
       "      <td>NaN</td>\n",
       "      <td>NaN</td>\n",
       "      <td>NaN</td>\n",
       "      <td>NaN</td>\n",
       "      <td>NaN</td>\n",
       "      <td>NaN</td>\n",
       "      <td>NaN</td>\n",
       "    </tr>\n",
       "    <tr>\n",
       "      <th>74</th>\n",
       "      <td>649885</td>\n",
       "      <td>COMMERCIAL</td>\n",
       "      <td>VA</td>\n",
       "      <td>232</td>\n",
       "      <td>South</td>\n",
       "      <td>South Atlantic</td>\n",
       "      <td>57</td>\n",
       "      <td>F</td>\n",
       "      <td>C50011</td>\n",
       "      <td>Malignant neoplasm of nipple and areola, right...</td>\n",
       "      <td>...</td>\n",
       "      <td>45.32</td>\n",
       "      <td>39.83</td>\n",
       "      <td>NaN</td>\n",
       "      <td>NaN</td>\n",
       "      <td>NaN</td>\n",
       "      <td>NaN</td>\n",
       "      <td>NaN</td>\n",
       "      <td>NaN</td>\n",
       "      <td>NaN</td>\n",
       "      <td>NaN</td>\n",
       "    </tr>\n",
       "    <tr>\n",
       "      <th>85</th>\n",
       "      <td>239107</td>\n",
       "      <td>MEDICARE ADVANTAGE</td>\n",
       "      <td>CA</td>\n",
       "      <td>914</td>\n",
       "      <td>West</td>\n",
       "      <td>Pacific</td>\n",
       "      <td>60</td>\n",
       "      <td>F</td>\n",
       "      <td>C50919</td>\n",
       "      <td>Malignant neoplasm of unsp site of unspecified...</td>\n",
       "      <td>...</td>\n",
       "      <td>65.27</td>\n",
       "      <td>59.42</td>\n",
       "      <td>NaN</td>\n",
       "      <td>NaN</td>\n",
       "      <td>NaN</td>\n",
       "      <td>NaN</td>\n",
       "      <td>NaN</td>\n",
       "      <td>NaN</td>\n",
       "      <td>NaN</td>\n",
       "      <td>NaN</td>\n",
       "    </tr>\n",
       "    <tr>\n",
       "      <th>200</th>\n",
       "      <td>600758</td>\n",
       "      <td>MEDICARE ADVANTAGE</td>\n",
       "      <td>IN</td>\n",
       "      <td>474</td>\n",
       "      <td>Midwest</td>\n",
       "      <td>East North Central</td>\n",
       "      <td>66</td>\n",
       "      <td>F</td>\n",
       "      <td>C5021</td>\n",
       "      <td>Malignant neoplasm of upper-inner quadrant of ...</td>\n",
       "      <td>...</td>\n",
       "      <td>38.77</td>\n",
       "      <td>37.64</td>\n",
       "      <td>NaN</td>\n",
       "      <td>NaN</td>\n",
       "      <td>NaN</td>\n",
       "      <td>NaN</td>\n",
       "      <td>NaN</td>\n",
       "      <td>NaN</td>\n",
       "      <td>NaN</td>\n",
       "      <td>NaN</td>\n",
       "    </tr>\n",
       "    <tr>\n",
       "      <th>246</th>\n",
       "      <td>233830</td>\n",
       "      <td>MEDICAID</td>\n",
       "      <td>TX</td>\n",
       "      <td>764</td>\n",
       "      <td>South</td>\n",
       "      <td>West South Central</td>\n",
       "      <td>63</td>\n",
       "      <td>F</td>\n",
       "      <td>C50411</td>\n",
       "      <td>Malig neoplm of upper-outer quadrant of right ...</td>\n",
       "      <td>...</td>\n",
       "      <td>50.44</td>\n",
       "      <td>45.44</td>\n",
       "      <td>NaN</td>\n",
       "      <td>NaN</td>\n",
       "      <td>NaN</td>\n",
       "      <td>NaN</td>\n",
       "      <td>NaN</td>\n",
       "      <td>NaN</td>\n",
       "      <td>NaN</td>\n",
       "      <td>NaN</td>\n",
       "    </tr>\n",
       "    <tr>\n",
       "      <th>...</th>\n",
       "      <td>...</td>\n",
       "      <td>...</td>\n",
       "      <td>...</td>\n",
       "      <td>...</td>\n",
       "      <td>...</td>\n",
       "      <td>...</td>\n",
       "      <td>...</td>\n",
       "      <td>...</td>\n",
       "      <td>...</td>\n",
       "      <td>...</td>\n",
       "      <td>...</td>\n",
       "      <td>...</td>\n",
       "      <td>...</td>\n",
       "      <td>...</td>\n",
       "      <td>...</td>\n",
       "      <td>...</td>\n",
       "      <td>...</td>\n",
       "      <td>...</td>\n",
       "      <td>...</td>\n",
       "      <td>...</td>\n",
       "      <td>...</td>\n",
       "    </tr>\n",
       "    <tr>\n",
       "      <th>5545</th>\n",
       "      <td>623270</td>\n",
       "      <td>MEDICAID</td>\n",
       "      <td>NY</td>\n",
       "      <td>103</td>\n",
       "      <td>Northeast</td>\n",
       "      <td>Middle Atlantic</td>\n",
       "      <td>57</td>\n",
       "      <td>F</td>\n",
       "      <td>C50912</td>\n",
       "      <td>Malignant neoplasm of unspecified site of left...</td>\n",
       "      <td>...</td>\n",
       "      <td>42.55</td>\n",
       "      <td>37.49</td>\n",
       "      <td>NaN</td>\n",
       "      <td>NaN</td>\n",
       "      <td>NaN</td>\n",
       "      <td>NaN</td>\n",
       "      <td>NaN</td>\n",
       "      <td>NaN</td>\n",
       "      <td>NaN</td>\n",
       "      <td>NaN</td>\n",
       "    </tr>\n",
       "    <tr>\n",
       "      <th>5601</th>\n",
       "      <td>303358</td>\n",
       "      <td>COMMERCIAL</td>\n",
       "      <td>MO</td>\n",
       "      <td>630</td>\n",
       "      <td>Midwest</td>\n",
       "      <td>West North Central</td>\n",
       "      <td>60</td>\n",
       "      <td>F</td>\n",
       "      <td>C50611</td>\n",
       "      <td>Malignant neoplasm of axillary tail of right f...</td>\n",
       "      <td>...</td>\n",
       "      <td>37.13</td>\n",
       "      <td>36.76</td>\n",
       "      <td>NaN</td>\n",
       "      <td>NaN</td>\n",
       "      <td>NaN</td>\n",
       "      <td>NaN</td>\n",
       "      <td>NaN</td>\n",
       "      <td>NaN</td>\n",
       "      <td>NaN</td>\n",
       "      <td>NaN</td>\n",
       "    </tr>\n",
       "    <tr>\n",
       "      <th>5603</th>\n",
       "      <td>792904</td>\n",
       "      <td>MEDICARE ADVANTAGE</td>\n",
       "      <td>VA</td>\n",
       "      <td>201</td>\n",
       "      <td>South</td>\n",
       "      <td>South Atlantic</td>\n",
       "      <td>70</td>\n",
       "      <td>F</td>\n",
       "      <td>1749</td>\n",
       "      <td>Malignant neoplasm of breast (female), unspeci...</td>\n",
       "      <td>...</td>\n",
       "      <td>42.13</td>\n",
       "      <td>38.05</td>\n",
       "      <td>NaN</td>\n",
       "      <td>NaN</td>\n",
       "      <td>NaN</td>\n",
       "      <td>NaN</td>\n",
       "      <td>NaN</td>\n",
       "      <td>NaN</td>\n",
       "      <td>NaN</td>\n",
       "      <td>NaN</td>\n",
       "    </tr>\n",
       "    <tr>\n",
       "      <th>5614</th>\n",
       "      <td>671028</td>\n",
       "      <td>MEDICAID</td>\n",
       "      <td>GA</td>\n",
       "      <td>300</td>\n",
       "      <td>South</td>\n",
       "      <td>South Atlantic</td>\n",
       "      <td>62</td>\n",
       "      <td>F</td>\n",
       "      <td>1749</td>\n",
       "      <td>Malignant neoplasm of breast (female), unspeci...</td>\n",
       "      <td>...</td>\n",
       "      <td>47.25</td>\n",
       "      <td>44.86</td>\n",
       "      <td>NaN</td>\n",
       "      <td>NaN</td>\n",
       "      <td>NaN</td>\n",
       "      <td>NaN</td>\n",
       "      <td>NaN</td>\n",
       "      <td>NaN</td>\n",
       "      <td>NaN</td>\n",
       "      <td>NaN</td>\n",
       "    </tr>\n",
       "    <tr>\n",
       "      <th>5640</th>\n",
       "      <td>931444</td>\n",
       "      <td>COMMERCIAL</td>\n",
       "      <td>NM</td>\n",
       "      <td>882</td>\n",
       "      <td>West</td>\n",
       "      <td>Mountain</td>\n",
       "      <td>49</td>\n",
       "      <td>F</td>\n",
       "      <td>C50812</td>\n",
       "      <td>Malignant neoplasm of ovrlp sites of left fema...</td>\n",
       "      <td>...</td>\n",
       "      <td>46.10</td>\n",
       "      <td>41.25</td>\n",
       "      <td>NaN</td>\n",
       "      <td>NaN</td>\n",
       "      <td>NaN</td>\n",
       "      <td>NaN</td>\n",
       "      <td>NaN</td>\n",
       "      <td>NaN</td>\n",
       "      <td>NaN</td>\n",
       "      <td>NaN</td>\n",
       "    </tr>\n",
       "  </tbody>\n",
       "</table>\n",
       "<p>110 rows × 155 columns</p>\n",
       "</div>"
      ],
      "text/plain": [
       "      patient_id          payer_type patient_state  patient_zip3     Region  \\\n",
       "50        806374  MEDICARE ADVANTAGE            OH           454    Midwest   \n",
       "74        649885          COMMERCIAL            VA           232      South   \n",
       "85        239107  MEDICARE ADVANTAGE            CA           914       West   \n",
       "200       600758  MEDICARE ADVANTAGE            IN           474    Midwest   \n",
       "246       233830            MEDICAID            TX           764      South   \n",
       "...          ...                 ...           ...           ...        ...   \n",
       "5545      623270            MEDICAID            NY           103  Northeast   \n",
       "5601      303358          COMMERCIAL            MO           630    Midwest   \n",
       "5603      792904  MEDICARE ADVANTAGE            VA           201      South   \n",
       "5614      671028            MEDICAID            GA           300      South   \n",
       "5640      931444          COMMERCIAL            NM           882       West   \n",
       "\n",
       "                Division  patient_age patient_gender  \\\n",
       "50    East North Central           75              F   \n",
       "74        South Atlantic           57              F   \n",
       "85               Pacific           60              F   \n",
       "200   East North Central           66              F   \n",
       "246   West South Central           63              F   \n",
       "...                  ...          ...            ...   \n",
       "5545     Middle Atlantic           57              F   \n",
       "5601  West North Central           60              F   \n",
       "5603      South Atlantic           70              F   \n",
       "5614      South Atlantic           62              F   \n",
       "5640            Mountain           49              F   \n",
       "\n",
       "     breast_cancer_diagnosis_code  \\\n",
       "50                         C50211   \n",
       "74                         C50011   \n",
       "85                         C50919   \n",
       "200                         C5021   \n",
       "246                        C50411   \n",
       "...                           ...   \n",
       "5545                       C50912   \n",
       "5601                       C50611   \n",
       "5603                         1749   \n",
       "5614                         1749   \n",
       "5640                       C50812   \n",
       "\n",
       "                           breast_cancer_diagnosis_desc  ...  \\\n",
       "50    Malig neoplm of upper-inner quadrant of right ...  ...   \n",
       "74    Malignant neoplasm of nipple and areola, right...  ...   \n",
       "85    Malignant neoplasm of unsp site of unspecified...  ...   \n",
       "200   Malignant neoplasm of upper-inner quadrant of ...  ...   \n",
       "246   Malig neoplm of upper-outer quadrant of right ...  ...   \n",
       "...                                                 ...  ...   \n",
       "5545  Malignant neoplasm of unspecified site of left...  ...   \n",
       "5601  Malignant neoplasm of axillary tail of right f...  ...   \n",
       "5603  Malignant neoplasm of breast (female), unspeci...  ...   \n",
       "5614  Malignant neoplasm of breast (female), unspeci...  ...   \n",
       "5640  Malignant neoplasm of ovrlp sites of left fema...  ...   \n",
       "\n",
       "     Average of Nov-18  Average of Dec-18  payer_type_encoded  \\\n",
       "50               37.11              34.94                 NaN   \n",
       "74               45.32              39.83                 NaN   \n",
       "85               65.27              59.42                 NaN   \n",
       "200              38.77              37.64                 NaN   \n",
       "246              50.44              45.44                 NaN   \n",
       "...                ...                ...                 ...   \n",
       "5545             42.55              37.49                 NaN   \n",
       "5601             37.13              36.76                 NaN   \n",
       "5603             42.13              38.05                 NaN   \n",
       "5614             47.25              44.86                 NaN   \n",
       "5640             46.10              41.25                 NaN   \n",
       "\n",
       "      patient_state_encoded  Region_encoded  Division_encoded  \\\n",
       "50                      NaN             NaN               NaN   \n",
       "74                      NaN             NaN               NaN   \n",
       "85                      NaN             NaN               NaN   \n",
       "200                     NaN             NaN               NaN   \n",
       "246                     NaN             NaN               NaN   \n",
       "...                     ...             ...               ...   \n",
       "5545                    NaN             NaN               NaN   \n",
       "5601                    NaN             NaN               NaN   \n",
       "5603                    NaN             NaN               NaN   \n",
       "5614                    NaN             NaN               NaN   \n",
       "5640                    NaN             NaN               NaN   \n",
       "\n",
       "      patient_gender_encoded  breast_cancer_diagnosis_code_encoded  \\\n",
       "50                       NaN                                   NaN   \n",
       "74                       NaN                                   NaN   \n",
       "85                       NaN                                   NaN   \n",
       "200                      NaN                                   NaN   \n",
       "246                      NaN                                   NaN   \n",
       "...                      ...                                   ...   \n",
       "5545                     NaN                                   NaN   \n",
       "5601                     NaN                                   NaN   \n",
       "5603                     NaN                                   NaN   \n",
       "5614                     NaN                                   NaN   \n",
       "5640                     NaN                                   NaN   \n",
       "\n",
       "      breast_cancer_diagnosis_desc_encoded  \\\n",
       "50                                     NaN   \n",
       "74                                     NaN   \n",
       "85                                     NaN   \n",
       "200                                    NaN   \n",
       "246                                    NaN   \n",
       "...                                    ...   \n",
       "5545                                   NaN   \n",
       "5601                                   NaN   \n",
       "5603                                   NaN   \n",
       "5614                                   NaN   \n",
       "5640                                   NaN   \n",
       "\n",
       "      metastatic_cancer_diagnosis_code_encoded  \n",
       "50                                         NaN  \n",
       "74                                         NaN  \n",
       "85                                         NaN  \n",
       "200                                        NaN  \n",
       "246                                        NaN  \n",
       "...                                        ...  \n",
       "5545                                       NaN  \n",
       "5601                                       NaN  \n",
       "5603                                       NaN  \n",
       "5614                                       NaN  \n",
       "5640                                       NaN  \n",
       "\n",
       "[110 rows x 155 columns]"
      ]
     },
     "execution_count": 93,
     "metadata": {},
     "output_type": "execute_result"
    }
   ],
   "source": [
    "data_test"
   ]
  },
  {
   "cell_type": "code",
   "execution_count": null,
   "metadata": {
    "colab": {
     "base_uri": "https://localhost:8080/"
    },
    "execution": {
     "iopub.execute_input": "2024-05-31T16:43:24.833212Z",
     "iopub.status.busy": "2024-05-31T16:43:24.832877Z",
     "iopub.status.idle": "2024-05-31T16:43:24.840093Z"
    },
    "id": "vlculcp0Uu2j",
    "outputId": "195748dc-cf79-468e-f815-ac1878a425e4"
   },
   "outputs": [
    {
     "data": {
      "text/plain": [
       "array(['LA', 'NC', 'TX', 'TN', 'WA', 'CA', 'MI', 'FL', 'PA', 'DE', 'OH',\n",
       "       'MT', 'ID', 'MN', 'IN', 'NY', 'IL', 'GA', 'CO', 'OK', 'AZ', 'KY',\n",
       "       'NM', 'KS', 'MS', 'VA', 'WI', 'SC', 'MD', 'IA', 'MO', 'WV', 'AR',\n",
       "       'UT', 'NV', 'DC', 'OR', 'AL', 'HI', 'NE', 'WY', 'SD', 'ND', 'AK'],\n",
       "      dtype=object)"
      ]
     },
     "execution_count": 94,
     "metadata": {},
     "output_type": "execute_result"
    }
   ],
   "source": [
    "test_data['patient_state'].unique()"
   ]
  },
  {
   "cell_type": "code",
   "execution_count": null,
   "metadata": {
    "colab": {
     "base_uri": "https://localhost:8080/"
    },
    "execution": {
     "iopub.execute_input": "2024-05-31T16:43:24.841478Z",
     "iopub.status.busy": "2024-05-31T16:43:24.841127Z",
     "iopub.status.idle": "2024-05-31T16:43:24.851752Z"
    },
    "id": "zOUD2r69Ugx-",
    "outputId": "ee953e11-4976-4f54-86d8-495650ddf945"
   },
   "outputs": [
    {
     "data": {
      "text/plain": [
       "array(['OH', 'VA', 'CA', 'IN', 'TX', 'SC', 'FL', 'NY', 'WI', 'MN', 'ID',\n",
       "       'IL', 'GA', 'MD', 'MI', 'WA', 'KY', 'MS', 'NV', 'LA', 'OR', 'KS',\n",
       "       'CO', 'AR', 'NE', 'HI', 'AZ', 'PA', 'MO', 'AL', 'TN', 'NM'],\n",
       "      dtype=object)"
      ]
     },
     "execution_count": 95,
     "metadata": {},
     "output_type": "execute_result"
    }
   ],
   "source": [
    "data_test['patient_state'].unique()"
   ]
  },
  {
   "cell_type": "code",
   "execution_count": null,
   "metadata": {
    "execution": {
     "iopub.execute_input": "2024-05-31T16:43:24.853292Z",
     "iopub.status.busy": "2024-05-31T16:43:24.852947Z",
     "iopub.status.idle": "2024-05-31T16:43:24.862527Z"
    },
    "id": "ugK9pz-GVXFn"
   },
   "outputs": [],
   "source": [
    "columns_with_nulls = test_null[test_null > 0].index.tolist()"
   ]
  },
  {
   "cell_type": "code",
   "execution_count": null,
   "metadata": {
    "colab": {
     "base_uri": "https://localhost:8080/"
    },
    "execution": {
     "iopub.execute_input": "2024-05-31T16:43:24.864101Z",
     "iopub.status.busy": "2024-05-31T16:43:24.863754Z",
     "iopub.status.idle": "2024-05-31T16:43:24.874002Z"
    },
    "id": "RLF0bqdxYtn2",
    "outputId": "d86d0813-5bab-4d4c-a4a9-e0ed9638ca3a"
   },
   "outputs": [
    {
     "data": {
      "text/plain": [
       "['payer_type_encoded',\n",
       " 'patient_state_encoded',\n",
       " 'Region_encoded',\n",
       " 'Division_encoded',\n",
       " 'patient_gender_encoded',\n",
       " 'breast_cancer_diagnosis_code_encoded',\n",
       " 'breast_cancer_diagnosis_desc_encoded',\n",
       " 'metastatic_cancer_diagnosis_code_encoded']"
      ]
     },
     "execution_count": 97,
     "metadata": {},
     "output_type": "execute_result"
    }
   ],
   "source": [
    "columns_with_nulls"
   ]
  },
  {
   "cell_type": "markdown",
   "metadata": {
    "id": "CjYUu8o-YVjv"
   },
   "source": [
    "###### Here some data have new variable set that's why we used global mean value for all new category variable in each columns"
   ]
  },
  {
   "cell_type": "code",
   "execution_count": null,
   "metadata": {
    "colab": {
     "base_uri": "https://localhost:8080/"
    },
    "execution": {
     "iopub.execute_input": "2024-05-31T16:43:24.875450Z",
     "iopub.status.busy": "2024-05-31T16:43:24.875103Z",
     "iopub.status.idle": "2024-05-31T16:43:24.884274Z"
    },
    "id": "cfNxdWKqYT6v",
    "outputId": "78a9bfe7-56d1-43b3-efc3-9183d1bdbe35"
   },
   "outputs": [
    {
     "name": "stdout",
     "output_type": "stream",
     "text": [
      "Global_mean of this data set: 96.63543441226575\n"
     ]
    }
   ],
   "source": [
    "global_mean = train['metastatic_diagnosis_period'].mean()\n",
    "print(f\"Global_mean of this data set: {global_mean}\")"
   ]
  },
  {
   "cell_type": "code",
   "execution_count": null,
   "metadata": {
    "execution": {
     "iopub.execute_input": "2024-05-31T16:43:24.886078Z",
     "iopub.status.busy": "2024-05-31T16:43:24.885630Z",
     "iopub.status.idle": "2024-05-31T16:43:24.903416Z"
    },
    "id": "rw6xYfsqaWlp"
   },
   "outputs": [],
   "source": [
    "test=test.fillna(global_mean)"
   ]
  },
  {
   "cell_type": "code",
   "execution_count": null,
   "metadata": {
    "colab": {
     "base_uri": "https://localhost:8080/"
    },
    "execution": {
     "iopub.execute_input": "2024-05-31T16:43:24.904785Z",
     "iopub.status.busy": "2024-05-31T16:43:24.904487Z",
     "iopub.status.idle": "2024-05-31T16:43:24.916172Z"
    },
    "id": "narA6IwCaovP",
    "outputId": "bf4b3557-0227-4828-c458-672594a7bf51"
   },
   "outputs": [
    {
     "data": {
      "text/plain": [
       "Series([], dtype: int64)"
      ]
     },
     "execution_count": 100,
     "metadata": {},
     "output_type": "execute_result"
    }
   ],
   "source": [
    "test_null_2=test.isnull().sum()\n",
    "test_null_2[test_null_2 > 0]"
   ]
  },
  {
   "cell_type": "code",
   "execution_count": null,
   "metadata": {
    "execution": {
     "iopub.execute_input": "2024-05-31T16:43:24.917702Z",
     "iopub.status.busy": "2024-05-31T16:43:24.917326Z",
     "iopub.status.idle": "2024-05-31T16:43:24.926888Z"
    },
    "id": "szvz1hKGaz3A"
   },
   "outputs": [],
   "source": [
    "test.drop(columns= categorical_cols, inplace=True)"
   ]
  },
  {
   "cell_type": "code",
   "execution_count": null,
   "metadata": {
    "execution": {
     "iopub.execute_input": "2024-05-31T16:43:24.929284Z",
     "iopub.status.busy": "2024-05-31T16:43:24.928282Z",
     "iopub.status.idle": "2024-05-31T16:43:24.935743Z"
    },
    "id": "ALHXrriKbv5F"
   },
   "outputs": [],
   "source": [
    "test.drop(columns= 'breast_cancer_diagnosis_desc_encoded', inplace=True)"
   ]
  },
  {
   "cell_type": "code",
   "execution_count": null,
   "metadata": {
    "execution": {
     "iopub.execute_input": "2024-05-31T16:43:24.937094Z",
     "iopub.status.busy": "2024-05-31T16:43:24.936822Z",
     "iopub.status.idle": "2024-05-31T16:43:24.945261Z"
    },
    "id": "yY37WwU2RcF7"
   },
   "outputs": [],
   "source": [
    "non_numeric_columns=train.columns[~(train.dtypes.isin([np.int64, np.float64]))]"
   ]
  },
  {
   "cell_type": "code",
   "execution_count": null,
   "metadata": {
    "colab": {
     "base_uri": "https://localhost:8080/"
    },
    "execution": {
     "iopub.execute_input": "2024-05-31T16:43:24.946756Z",
     "iopub.status.busy": "2024-05-31T16:43:24.946391Z",
     "iopub.status.idle": "2024-05-31T16:43:24.957627Z"
    },
    "id": "5hxMptFEsNdH",
    "outputId": "b22cfada-9003-4cc1-a679-3ae48c582bd5"
   },
   "outputs": [
    {
     "data": {
      "text/plain": [
       "Index(['population', 'density', 'age_median', 'age_under_10', 'age_10_to_19',\n",
       "       'age_20s', 'age_30s', 'age_40s', 'age_50s', 'age_60s',\n",
       "       ...\n",
       "       'Average of Oct-18', 'Average of Nov-18', 'Average of Dec-18',\n",
       "       'payer_type_encoded', 'patient_state_encoded', 'Region_encoded',\n",
       "       'Division_encoded', 'patient_gender_encoded',\n",
       "       'breast_cancer_diagnosis_code_encoded',\n",
       "       'metastatic_cancer_diagnosis_code_encoded'],\n",
       "      dtype='object', length=143)"
      ]
     },
     "execution_count": 104,
     "metadata": {},
     "output_type": "execute_result"
    }
   ],
   "source": [
    "non_numeric_columns"
   ]
  },
  {
   "cell_type": "code",
   "execution_count": null,
   "metadata": {
    "execution": {
     "iopub.execute_input": "2024-05-31T16:43:24.959067Z",
     "iopub.status.busy": "2024-05-31T16:43:24.958788Z",
     "iopub.status.idle": "2024-05-31T16:43:24.966942Z"
    },
    "id": "yhjsgWvhtxt6"
   },
   "outputs": [],
   "source": [
    "# Convert numeric columns\n",
    "def convert_to_numeric(df):\n",
    "    for col in df.columns:\n",
    "        try:\n",
    "            df[col] = pd.to_numeric(df[col], errors='coerce')\n",
    "        except ValueError:\n",
    "            pass\n",
    "    return df\n"
   ]
  },
  {
   "cell_type": "code",
   "execution_count": 106,
   "metadata": {
    "execution": {
     "iopub.execute_input": "2024-05-31T16:43:24.968185Z",
     "iopub.status.busy": "2024-05-31T16:43:24.967920Z",
     "iopub.status.idle": "2024-05-31T16:43:25.057889Z",
     "shell.execute_reply": "2024-05-31T16:43:25.057034Z",
     "shell.execute_reply.started": "2024-05-31T16:43:24.968162Z"
    },
    "id": "NdgqWT02upui"
   },
   "outputs": [],
   "source": [
    "train = convert_to_numeric(train)\n",
    "test = convert_to_numeric(test)"
   ]
  },
  {
   "cell_type": "code",
   "execution_count": 107,
   "metadata": {
    "colab": {
     "base_uri": "https://localhost:8080/"
    },
    "execution": {
     "iopub.execute_input": "2024-05-31T16:43:25.059226Z",
     "iopub.status.busy": "2024-05-31T16:43:25.058930Z",
     "iopub.status.idle": "2024-05-31T16:43:25.067290Z",
     "shell.execute_reply": "2024-05-31T16:43:25.066337Z",
     "shell.execute_reply.started": "2024-05-31T16:43:25.059200Z"
    },
    "id": "fgHEWwq2vDod",
    "outputId": "9d760e34-4cea-464c-c79e-ffe0734e476a"
   },
   "outputs": [
    {
     "data": {
      "text/plain": [
       "patient_id                                    int64\n",
       "patient_zip3                                  int64\n",
       "patient_age                                   int64\n",
       "population                                  float64\n",
       "density                                     float64\n",
       "                                             ...   \n",
       "Region_encoded                              float64\n",
       "Division_encoded                            float64\n",
       "patient_gender_encoded                      float64\n",
       "breast_cancer_diagnosis_code_encoded        float64\n",
       "metastatic_cancer_diagnosis_code_encoded    float64\n",
       "Length: 147, dtype: object"
      ]
     },
     "execution_count": 107,
     "metadata": {},
     "output_type": "execute_result"
    }
   ],
   "source": [
    "train.dtypes"
   ]
  },
  {
   "cell_type": "code",
   "execution_count": 108,
   "metadata": {
    "colab": {
     "base_uri": "https://localhost:8080/"
    },
    "execution": {
     "iopub.execute_input": "2024-05-31T16:43:25.069140Z",
     "iopub.status.busy": "2024-05-31T16:43:25.068441Z",
     "iopub.status.idle": "2024-05-31T16:43:25.079854Z",
     "shell.execute_reply": "2024-05-31T16:43:25.078933Z",
     "shell.execute_reply.started": "2024-05-31T16:43:25.069107Z"
    },
    "id": "Ha4hTKJcYvkv",
    "outputId": "3c2da681-7261-47df-853b-1d091a9e09f9"
   },
   "outputs": [
    {
     "data": {
      "text/plain": [
       "patient_id                                    int64\n",
       "patient_zip3                                  int64\n",
       "patient_age                                   int64\n",
       "population                                  float64\n",
       "density                                     float64\n",
       "                                             ...   \n",
       "Region_encoded                              float64\n",
       "Division_encoded                            float64\n",
       "patient_gender_encoded                      float64\n",
       "breast_cancer_diagnosis_code_encoded        float64\n",
       "metastatic_cancer_diagnosis_code_encoded    float64\n",
       "Length: 146, dtype: object"
      ]
     },
     "execution_count": 108,
     "metadata": {},
     "output_type": "execute_result"
    }
   ],
   "source": [
    "test.dtypes"
   ]
  },
  {
   "cell_type": "code",
   "execution_count": 109,
   "metadata": {
    "execution": {
     "iopub.execute_input": "2024-05-31T16:43:25.081463Z",
     "iopub.status.busy": "2024-05-31T16:43:25.081092Z",
     "iopub.status.idle": "2024-05-31T16:43:25.099190Z",
     "shell.execute_reply": "2024-05-31T16:43:25.098348Z",
     "shell.execute_reply.started": "2024-05-31T16:43:25.081431Z"
    },
    "id": "v3XDBL8sywzO"
   },
   "outputs": [],
   "source": [
    "nan=train.isnull().sum()"
   ]
  },
  {
   "cell_type": "code",
   "execution_count": 110,
   "metadata": {
    "colab": {
     "base_uri": "https://localhost:8080/"
    },
    "execution": {
     "iopub.execute_input": "2024-05-31T16:43:25.100723Z",
     "iopub.status.busy": "2024-05-31T16:43:25.100317Z",
     "iopub.status.idle": "2024-05-31T16:43:25.107288Z",
     "shell.execute_reply": "2024-05-31T16:43:25.106301Z",
     "shell.execute_reply.started": "2024-05-31T16:43:25.100688Z"
    },
    "id": "Lnt-DOQ2zC3J",
    "outputId": "bc79fda1-f7d8-4e4a-8820-822b89a307be"
   },
   "outputs": [
    {
     "data": {
      "text/plain": [
       "Series([], dtype: int64)"
      ]
     },
     "execution_count": 110,
     "metadata": {},
     "output_type": "execute_result"
    }
   ],
   "source": [
    "nan[nan > 0]"
   ]
  },
  {
   "cell_type": "code",
   "execution_count": 111,
   "metadata": {
    "colab": {
     "base_uri": "https://localhost:8080/",
     "height": 196
    },
    "execution": {
     "iopub.execute_input": "2024-05-31T16:43:25.109128Z",
     "iopub.status.busy": "2024-05-31T16:43:25.108528Z",
     "iopub.status.idle": "2024-05-31T16:43:25.135224Z",
     "shell.execute_reply": "2024-05-31T16:43:25.134449Z",
     "shell.execute_reply.started": "2024-05-31T16:43:25.109103Z"
    },
    "id": "i1OivW-43HGn",
    "outputId": "6d04e109-b218-4756-f28a-e92b5b58a793"
   },
   "outputs": [
    {
     "data": {
      "text/html": [
       "<div>\n",
       "<style scoped>\n",
       "    .dataframe tbody tr th:only-of-type {\n",
       "        vertical-align: middle;\n",
       "    }\n",
       "\n",
       "    .dataframe tbody tr th {\n",
       "        vertical-align: top;\n",
       "    }\n",
       "\n",
       "    .dataframe thead th {\n",
       "        text-align: right;\n",
       "    }\n",
       "</style>\n",
       "<table border=\"1\" class=\"dataframe\">\n",
       "  <thead>\n",
       "    <tr style=\"text-align: right;\">\n",
       "      <th></th>\n",
       "      <th>patient_id</th>\n",
       "      <th>patient_zip3</th>\n",
       "      <th>patient_age</th>\n",
       "      <th>population</th>\n",
       "      <th>density</th>\n",
       "      <th>age_median</th>\n",
       "      <th>age_under_10</th>\n",
       "      <th>age_10_to_19</th>\n",
       "      <th>age_20s</th>\n",
       "      <th>age_30s</th>\n",
       "      <th>...</th>\n",
       "      <th>Average of Nov-18</th>\n",
       "      <th>Average of Dec-18</th>\n",
       "      <th>metastatic_diagnosis_period</th>\n",
       "      <th>payer_type_encoded</th>\n",
       "      <th>patient_state_encoded</th>\n",
       "      <th>Region_encoded</th>\n",
       "      <th>Division_encoded</th>\n",
       "      <th>patient_gender_encoded</th>\n",
       "      <th>breast_cancer_diagnosis_code_encoded</th>\n",
       "      <th>metastatic_cancer_diagnosis_code_encoded</th>\n",
       "    </tr>\n",
       "  </thead>\n",
       "  <tbody>\n",
       "    <tr>\n",
       "      <th>0</th>\n",
       "      <td>268700</td>\n",
       "      <td>724</td>\n",
       "      <td>39</td>\n",
       "      <td>3924.87</td>\n",
       "      <td>82.63</td>\n",
       "      <td>42.58</td>\n",
       "      <td>11.61</td>\n",
       "      <td>13.03</td>\n",
       "      <td>10.87</td>\n",
       "      <td>11.80</td>\n",
       "      <td>...</td>\n",
       "      <td>42.98</td>\n",
       "      <td>41.18</td>\n",
       "      <td>191</td>\n",
       "      <td>96.955858</td>\n",
       "      <td>99.296296</td>\n",
       "      <td>97.336937</td>\n",
       "      <td>95.130464</td>\n",
       "      <td>96.635434</td>\n",
       "      <td>57.388827</td>\n",
       "      <td>88.929481</td>\n",
       "    </tr>\n",
       "    <tr>\n",
       "      <th>1</th>\n",
       "      <td>484983</td>\n",
       "      <td>629</td>\n",
       "      <td>55</td>\n",
       "      <td>2745.39</td>\n",
       "      <td>51.79</td>\n",
       "      <td>43.54</td>\n",
       "      <td>11.22</td>\n",
       "      <td>12.19</td>\n",
       "      <td>11.45</td>\n",
       "      <td>11.01</td>\n",
       "      <td>...</td>\n",
       "      <td>39.68</td>\n",
       "      <td>39.71</td>\n",
       "      <td>33</td>\n",
       "      <td>96.955858</td>\n",
       "      <td>100.509759</td>\n",
       "      <td>96.284707</td>\n",
       "      <td>96.955767</td>\n",
       "      <td>96.635434</td>\n",
       "      <td>61.021445</td>\n",
       "      <td>88.929481</td>\n",
       "    </tr>\n",
       "  </tbody>\n",
       "</table>\n",
       "<p>2 rows × 147 columns</p>\n",
       "</div>"
      ],
      "text/plain": [
       "   patient_id  patient_zip3  patient_age  population  density  age_median  \\\n",
       "0      268700           724           39     3924.87    82.63       42.58   \n",
       "1      484983           629           55     2745.39    51.79       43.54   \n",
       "\n",
       "   age_under_10  age_10_to_19  age_20s  age_30s  ...  Average of Nov-18  \\\n",
       "0         11.61         13.03    10.87    11.80  ...              42.98   \n",
       "1         11.22         12.19    11.45    11.01  ...              39.68   \n",
       "\n",
       "   Average of Dec-18  metastatic_diagnosis_period  payer_type_encoded  \\\n",
       "0              41.18                          191           96.955858   \n",
       "1              39.71                           33           96.955858   \n",
       "\n",
       "   patient_state_encoded  Region_encoded  Division_encoded  \\\n",
       "0              99.296296       97.336937         95.130464   \n",
       "1             100.509759       96.284707         96.955767   \n",
       "\n",
       "   patient_gender_encoded  breast_cancer_diagnosis_code_encoded  \\\n",
       "0               96.635434                             57.388827   \n",
       "1               96.635434                             61.021445   \n",
       "\n",
       "   metastatic_cancer_diagnosis_code_encoded  \n",
       "0                                 88.929481  \n",
       "1                                 88.929481  \n",
       "\n",
       "[2 rows x 147 columns]"
      ]
     },
     "execution_count": 111,
     "metadata": {},
     "output_type": "execute_result"
    }
   ],
   "source": [
    "train.head(2)"
   ]
  },
  {
   "cell_type": "code",
   "execution_count": 112,
   "metadata": {
    "colab": {
     "base_uri": "https://localhost:8080/",
     "height": 196
    },
    "execution": {
     "iopub.execute_input": "2024-05-31T16:43:25.136551Z",
     "iopub.status.busy": "2024-05-31T16:43:25.136266Z",
     "iopub.status.idle": "2024-05-31T16:43:25.158809Z",
     "shell.execute_reply": "2024-05-31T16:43:25.158013Z",
     "shell.execute_reply.started": "2024-05-31T16:43:25.136527Z"
    },
    "id": "c-hirdum3HEH",
    "outputId": "5b2f2e27-cd55-4b50-9d22-f304b034f462"
   },
   "outputs": [
    {
     "data": {
      "text/html": [
       "<div>\n",
       "<style scoped>\n",
       "    .dataframe tbody tr th:only-of-type {\n",
       "        vertical-align: middle;\n",
       "    }\n",
       "\n",
       "    .dataframe tbody tr th {\n",
       "        vertical-align: top;\n",
       "    }\n",
       "\n",
       "    .dataframe thead th {\n",
       "        text-align: right;\n",
       "    }\n",
       "</style>\n",
       "<table border=\"1\" class=\"dataframe\">\n",
       "  <thead>\n",
       "    <tr style=\"text-align: right;\">\n",
       "      <th></th>\n",
       "      <th>patient_id</th>\n",
       "      <th>patient_zip3</th>\n",
       "      <th>patient_age</th>\n",
       "      <th>population</th>\n",
       "      <th>density</th>\n",
       "      <th>age_median</th>\n",
       "      <th>age_under_10</th>\n",
       "      <th>age_10_to_19</th>\n",
       "      <th>age_20s</th>\n",
       "      <th>age_30s</th>\n",
       "      <th>...</th>\n",
       "      <th>Average of Oct-18</th>\n",
       "      <th>Average of Nov-18</th>\n",
       "      <th>Average of Dec-18</th>\n",
       "      <th>payer_type_encoded</th>\n",
       "      <th>patient_state_encoded</th>\n",
       "      <th>Region_encoded</th>\n",
       "      <th>Division_encoded</th>\n",
       "      <th>patient_gender_encoded</th>\n",
       "      <th>breast_cancer_diagnosis_code_encoded</th>\n",
       "      <th>metastatic_cancer_diagnosis_code_encoded</th>\n",
       "    </tr>\n",
       "  </thead>\n",
       "  <tbody>\n",
       "    <tr>\n",
       "      <th>0</th>\n",
       "      <td>730681</td>\n",
       "      <td>713</td>\n",
       "      <td>55</td>\n",
       "      <td>4639.07</td>\n",
       "      <td>72.66</td>\n",
       "      <td>41.50</td>\n",
       "      <td>11.40</td>\n",
       "      <td>13.44</td>\n",
       "      <td>11.42</td>\n",
       "      <td>11.45</td>\n",
       "      <td>...</td>\n",
       "      <td>69.73</td>\n",
       "      <td>53.14</td>\n",
       "      <td>51.34</td>\n",
       "      <td>96.955858</td>\n",
       "      <td>99.296296</td>\n",
       "      <td>97.336937</td>\n",
       "      <td>95.130464</td>\n",
       "      <td>96.635434</td>\n",
       "      <td>57.388827</td>\n",
       "      <td>88.929481</td>\n",
       "    </tr>\n",
       "    <tr>\n",
       "      <th>1</th>\n",
       "      <td>334212</td>\n",
       "      <td>283</td>\n",
       "      <td>60</td>\n",
       "      <td>10875.30</td>\n",
       "      <td>217.91</td>\n",
       "      <td>39.64</td>\n",
       "      <td>11.23</td>\n",
       "      <td>13.72</td>\n",
       "      <td>15.01</td>\n",
       "      <td>12.02</td>\n",
       "      <td>...</td>\n",
       "      <td>64.60</td>\n",
       "      <td>50.57</td>\n",
       "      <td>48.10</td>\n",
       "      <td>96.955858</td>\n",
       "      <td>100.509759</td>\n",
       "      <td>96.284707</td>\n",
       "      <td>96.955767</td>\n",
       "      <td>96.635434</td>\n",
       "      <td>61.021445</td>\n",
       "      <td>88.929481</td>\n",
       "    </tr>\n",
       "  </tbody>\n",
       "</table>\n",
       "<p>2 rows × 146 columns</p>\n",
       "</div>"
      ],
      "text/plain": [
       "   patient_id  patient_zip3  patient_age  population  density  age_median  \\\n",
       "0      730681           713           55     4639.07    72.66       41.50   \n",
       "1      334212           283           60    10875.30   217.91       39.64   \n",
       "\n",
       "   age_under_10  age_10_to_19  age_20s  age_30s  ...  Average of Oct-18  \\\n",
       "0         11.40         13.44    11.42    11.45  ...              69.73   \n",
       "1         11.23         13.72    15.01    12.02  ...              64.60   \n",
       "\n",
       "   Average of Nov-18  Average of Dec-18  payer_type_encoded  \\\n",
       "0              53.14              51.34           96.955858   \n",
       "1              50.57              48.10           96.955858   \n",
       "\n",
       "   patient_state_encoded  Region_encoded  Division_encoded  \\\n",
       "0              99.296296       97.336937         95.130464   \n",
       "1             100.509759       96.284707         96.955767   \n",
       "\n",
       "   patient_gender_encoded  breast_cancer_diagnosis_code_encoded  \\\n",
       "0               96.635434                             57.388827   \n",
       "1               96.635434                             61.021445   \n",
       "\n",
       "   metastatic_cancer_diagnosis_code_encoded  \n",
       "0                                 88.929481  \n",
       "1                                 88.929481  \n",
       "\n",
       "[2 rows x 146 columns]"
      ]
     },
     "execution_count": 112,
     "metadata": {},
     "output_type": "execute_result"
    }
   ],
   "source": [
    "test.head(2)"
   ]
  },
  {
   "cell_type": "code",
   "execution_count": 113,
   "metadata": {
    "colab": {
     "base_uri": "https://localhost:8080/"
    },
    "execution": {
     "iopub.execute_input": "2024-05-31T16:43:25.160142Z",
     "iopub.status.busy": "2024-05-31T16:43:25.159862Z",
     "iopub.status.idle": "2024-05-31T16:43:25.166222Z",
     "shell.execute_reply": "2024-05-31T16:43:25.165328Z",
     "shell.execute_reply.started": "2024-05-31T16:43:25.160118Z"
    },
    "id": "Oo0-Oz6s3G_s",
    "outputId": "f59f96da-df92-4750-fb78-e6dc36fd6d7e"
   },
   "outputs": [
    {
     "data": {
      "text/plain": [
       "44"
      ]
     },
     "execution_count": 113,
     "metadata": {},
     "output_type": "execute_result"
    }
   ],
   "source": [
    "train_data['patient_state_encoded'].nunique()"
   ]
  },
  {
   "cell_type": "code",
   "execution_count": 114,
   "metadata": {
    "colab": {
     "base_uri": "https://localhost:8080/"
    },
    "execution": {
     "iopub.execute_input": "2024-05-31T16:43:25.168692Z",
     "iopub.status.busy": "2024-05-31T16:43:25.168304Z",
     "iopub.status.idle": "2024-05-31T16:43:25.177892Z",
     "shell.execute_reply": "2024-05-31T16:43:25.176990Z",
     "shell.execute_reply.started": "2024-05-31T16:43:25.168667Z"
    },
    "id": "Ucu9LFAo3G6-",
    "outputId": "1728c154-ffe1-42d7-c150-39a74a2d0c92"
   },
   "outputs": [
    {
     "data": {
      "text/plain": [
       "44"
      ]
     },
     "execution_count": 114,
     "metadata": {},
     "output_type": "execute_result"
    }
   ],
   "source": [
    "train['patient_state_encoded'].nunique()"
   ]
  },
  {
   "cell_type": "code",
   "execution_count": 115,
   "metadata": {
    "colab": {
     "base_uri": "https://localhost:8080/"
    },
    "execution": {
     "iopub.execute_input": "2024-05-31T16:43:25.179184Z",
     "iopub.status.busy": "2024-05-31T16:43:25.178890Z",
     "iopub.status.idle": "2024-05-31T16:43:25.188647Z",
     "shell.execute_reply": "2024-05-31T16:43:25.187887Z",
     "shell.execute_reply.started": "2024-05-31T16:43:25.179160Z"
    },
    "id": "Q-00hR8_3G2V",
    "outputId": "4bb53d1e-3479-4f1d-d98a-838b26d079d8"
   },
   "outputs": [
    {
     "data": {
      "text/plain": [
       "1"
      ]
     },
     "execution_count": 115,
     "metadata": {},
     "output_type": "execute_result"
    }
   ],
   "source": [
    "train['patient_gender_encoded'].nunique()"
   ]
  },
  {
   "cell_type": "code",
   "execution_count": 116,
   "metadata": {
    "colab": {
     "base_uri": "https://localhost:8080/"
    },
    "execution": {
     "iopub.execute_input": "2024-05-31T16:43:25.190225Z",
     "iopub.status.busy": "2024-05-31T16:43:25.189791Z",
     "iopub.status.idle": "2024-05-31T16:43:25.199329Z",
     "shell.execute_reply": "2024-05-31T16:43:25.198569Z",
     "shell.execute_reply.started": "2024-05-31T16:43:25.190194Z"
    },
    "id": "7Rlc4pIS3Gwo",
    "outputId": "97f6b011-6456-443f-f8df-042451ccc6e4"
   },
   "outputs": [
    {
     "data": {
      "text/plain": [
       "1"
      ]
     },
     "execution_count": 116,
     "metadata": {},
     "output_type": "execute_result"
    }
   ],
   "source": [
    "test['patient_gender_encoded'].nunique()"
   ]
  },
  {
   "cell_type": "code",
   "execution_count": 117,
   "metadata": {
    "colab": {
     "base_uri": "https://localhost:8080/"
    },
    "execution": {
     "iopub.execute_input": "2024-05-31T16:43:25.200977Z",
     "iopub.status.busy": "2024-05-31T16:43:25.200400Z",
     "iopub.status.idle": "2024-05-31T16:43:25.209415Z",
     "shell.execute_reply": "2024-05-31T16:43:25.208511Z",
     "shell.execute_reply.started": "2024-05-31T16:43:25.200943Z"
    },
    "id": "eCCBRq1T3Gi7",
    "outputId": "59918de3-4af6-4472-dcc3-6fd0fef4b54e"
   },
   "outputs": [
    {
     "name": "stdout",
     "output_type": "stream",
     "text": [
      "Correlation between variable1 and variable2: -4.762020765464206e-17\n"
     ]
    }
   ],
   "source": [
    "correlation = train['patient_gender_encoded'].corr(train['metastatic_diagnosis_period'])\n",
    "\n",
    "# Display the correlation\n",
    "print(f'Correlation between variable1 and variable2: {correlation}')"
   ]
  },
  {
   "cell_type": "code",
   "execution_count": 118,
   "metadata": {
    "execution": {
     "iopub.execute_input": "2024-05-31T16:43:25.211283Z",
     "iopub.status.busy": "2024-05-31T16:43:25.210952Z",
     "iopub.status.idle": "2024-05-31T16:43:25.249972Z",
     "shell.execute_reply": "2024-05-31T16:43:25.248910Z",
     "shell.execute_reply.started": "2024-05-31T16:43:25.211252Z"
    },
    "id": "5lYxpSKS3GPL"
   },
   "outputs": [],
   "source": [
    "train.drop(columns= 'patient_gender_encoded', inplace=True)\n",
    "test.drop(columns= 'patient_gender_encoded', inplace=True)"
   ]
  },
  {
   "cell_type": "code",
   "execution_count": 119,
   "metadata": {
    "colab": {
     "base_uri": "https://localhost:8080/"
    },
    "execution": {
     "iopub.execute_input": "2024-05-31T16:43:25.251416Z",
     "iopub.status.busy": "2024-05-31T16:43:25.251124Z",
     "iopub.status.idle": "2024-05-31T16:43:25.258162Z",
     "shell.execute_reply": "2024-05-31T16:43:25.257068Z",
     "shell.execute_reply.started": "2024-05-31T16:43:25.251390Z"
    },
    "id": "-lM_qBfX5v1Q",
    "outputId": "adfbd8a6-b9b9-41c0-c450-3bd32c96e6ba"
   },
   "outputs": [
    {
     "data": {
      "text/plain": [
       "(12914, 146)"
      ]
     },
     "execution_count": 119,
     "metadata": {},
     "output_type": "execute_result"
    }
   ],
   "source": [
    "train.shape"
   ]
  },
  {
   "cell_type": "code",
   "execution_count": 120,
   "metadata": {
    "colab": {
     "base_uri": "https://localhost:8080/"
    },
    "execution": {
     "iopub.execute_input": "2024-05-31T16:43:25.260411Z",
     "iopub.status.busy": "2024-05-31T16:43:25.259394Z",
     "iopub.status.idle": "2024-05-31T16:43:25.268824Z",
     "shell.execute_reply": "2024-05-31T16:43:25.267748Z",
     "shell.execute_reply.started": "2024-05-31T16:43:25.260382Z"
    },
    "id": "eI2WFxAF6J2W",
    "outputId": "6e4b8cce-b810-4fa8-8ad3-0581ee1424f0"
   },
   "outputs": [
    {
     "data": {
      "text/plain": [
       "(5646, 145)"
      ]
     },
     "execution_count": 120,
     "metadata": {},
     "output_type": "execute_result"
    }
   ],
   "source": [
    "test.shape"
   ]
  },
  {
   "cell_type": "code",
   "execution_count": 121,
   "metadata": {
    "execution": {
     "iopub.execute_input": "2024-05-31T16:43:25.270452Z",
     "iopub.status.busy": "2024-05-31T16:43:25.270095Z",
     "iopub.status.idle": "2024-05-31T16:43:26.039989Z",
     "shell.execute_reply": "2024-05-31T16:43:26.038780Z",
     "shell.execute_reply.started": "2024-05-31T16:43:25.270419Z"
    },
    "id": "fHoOj0bh6OCI"
   },
   "outputs": [],
   "source": [
    "correlation_matrix_2 = train.corr()"
   ]
  },
  {
   "cell_type": "code",
   "execution_count": null,
   "metadata": {
    "colab": {
     "base_uri": "https://localhost:8080/",
     "height": 699
    },
    "execution": {
     "iopub.execute_input": "2024-05-31T16:43:26.041533Z",
     "iopub.status.busy": "2024-05-31T16:43:26.041242Z",
     "iopub.status.idle": "2024-05-31T16:43:26.632152Z"
    },
    "id": "iDs-r8gC6gjN",
    "outputId": "5b232790-8a59-4fd4-ebb0-2a70e30b2dac"
   },
   "outputs": [],
   "source": [
    "sns.heatmap(correlation_matrix_2, cmap='coolwarm', vmin=-1, vmax=1)\n",
    "plt.show()"
   ]
  },
  {
   "cell_type": "code",
   "execution_count": 123,
   "metadata": {
    "colab": {
     "base_uri": "https://localhost:8080/"
    },
    "execution": {
     "iopub.execute_input": "2024-05-31T16:43:26.634110Z",
     "iopub.status.busy": "2024-05-31T16:43:26.633805Z",
     "iopub.status.idle": "2024-05-31T16:44:17.671870Z",
     "shell.execute_reply": "2024-05-31T16:44:17.670785Z",
     "shell.execute_reply.started": "2024-05-31T16:43:26.634083Z"
    },
    "id": "kbqbzROE6y53",
    "outputId": "37dd431a-fc3a-4e13-917b-ac8e15098eca"
   },
   "outputs": [
    {
     "name": "stdout",
     "output_type": "stream",
     "text": [
      "                                     Variable           VIF\n",
      "0                                  patient_id      5.665545\n",
      "1                                patient_zip3    333.668379\n",
      "2                                 patient_age     24.889729\n",
      "3                                  population   1049.546949\n",
      "4                                     density     13.934995\n",
      "..                                        ...           ...\n",
      "141                     patient_state_encoded    265.900463\n",
      "142                            Region_encoded  27438.101103\n",
      "143                          Division_encoded   6971.262546\n",
      "144      breast_cancer_diagnosis_code_encoded      5.040347\n",
      "145  metastatic_cancer_diagnosis_code_encoded     55.842125\n",
      "\n",
      "[146 rows x 2 columns]\n"
     ]
    }
   ],
   "source": [
    "# Check the muliticolinearity\n",
    "from statsmodels.stats.outliers_influence import variance_inflation_factor\n",
    "\n",
    "# Create a DataFrame to store the VIFs\n",
    "vif_data = pd.DataFrame()\n",
    "vif_data[\"Variable\"] = train.columns\n",
    "vif_data[\"VIF\"] = [variance_inflation_factor(train.values, i) for i in range(len(train.columns))]\n",
    "\n",
    "# Display the DataFrame\n",
    "print(vif_data)\n"
   ]
  },
  {
   "cell_type": "code",
   "execution_count": 124,
   "metadata": {
    "execution": {
     "iopub.execute_input": "2024-05-31T16:44:17.674345Z",
     "iopub.status.busy": "2024-05-31T16:44:17.673637Z",
     "iopub.status.idle": "2024-05-31T16:44:17.717841Z",
     "shell.execute_reply": "2024-05-31T16:44:17.716785Z",
     "shell.execute_reply.started": "2024-05-31T16:44:17.674307Z"
    },
    "id": "lP8sln3q8aqQ"
   },
   "outputs": [
    {
     "data": {
      "text/html": [
       "<div>\n",
       "<style scoped>\n",
       "    .dataframe tbody tr th:only-of-type {\n",
       "        vertical-align: middle;\n",
       "    }\n",
       "\n",
       "    .dataframe tbody tr th {\n",
       "        vertical-align: top;\n",
       "    }\n",
       "\n",
       "    .dataframe thead th {\n",
       "        text-align: right;\n",
       "    }\n",
       "</style>\n",
       "<table border=\"1\" class=\"dataframe\">\n",
       "  <thead>\n",
       "    <tr style=\"text-align: right;\">\n",
       "      <th></th>\n",
       "      <th>patient_id</th>\n",
       "      <th>patient_zip3</th>\n",
       "      <th>patient_age</th>\n",
       "      <th>population</th>\n",
       "      <th>density</th>\n",
       "      <th>age_median</th>\n",
       "      <th>age_under_10</th>\n",
       "      <th>age_10_to_19</th>\n",
       "      <th>age_20s</th>\n",
       "      <th>age_30s</th>\n",
       "      <th>...</th>\n",
       "      <th>Average of Oct-18</th>\n",
       "      <th>Average of Nov-18</th>\n",
       "      <th>Average of Dec-18</th>\n",
       "      <th>metastatic_diagnosis_period</th>\n",
       "      <th>payer_type_encoded</th>\n",
       "      <th>patient_state_encoded</th>\n",
       "      <th>Region_encoded</th>\n",
       "      <th>Division_encoded</th>\n",
       "      <th>breast_cancer_diagnosis_code_encoded</th>\n",
       "      <th>metastatic_cancer_diagnosis_code_encoded</th>\n",
       "    </tr>\n",
       "  </thead>\n",
       "  <tbody>\n",
       "    <tr>\n",
       "      <th>patient_id</th>\n",
       "      <td>1.000000</td>\n",
       "      <td>0.008240</td>\n",
       "      <td>-0.012919</td>\n",
       "      <td>-0.013279</td>\n",
       "      <td>-0.003560</td>\n",
       "      <td>-0.005281</td>\n",
       "      <td>-0.007038</td>\n",
       "      <td>0.007018</td>\n",
       "      <td>0.008331</td>\n",
       "      <td>0.000856</td>\n",
       "      <td>...</td>\n",
       "      <td>0.007438</td>\n",
       "      <td>0.008902</td>\n",
       "      <td>0.007193</td>\n",
       "      <td>0.002251</td>\n",
       "      <td>-0.005284</td>\n",
       "      <td>-0.014078</td>\n",
       "      <td>-0.005304</td>\n",
       "      <td>-0.011021</td>\n",
       "      <td>0.013359</td>\n",
       "      <td>0.004854</td>\n",
       "    </tr>\n",
       "    <tr>\n",
       "      <th>patient_zip3</th>\n",
       "      <td>0.008240</td>\n",
       "      <td>1.000000</td>\n",
       "      <td>-0.067854</td>\n",
       "      <td>0.077393</td>\n",
       "      <td>-0.251534</td>\n",
       "      <td>-0.124713</td>\n",
       "      <td>0.084530</td>\n",
       "      <td>0.048258</td>\n",
       "      <td>0.075437</td>\n",
       "      <td>0.114304</td>\n",
       "      <td>...</td>\n",
       "      <td>0.249609</td>\n",
       "      <td>0.385164</td>\n",
       "      <td>0.349006</td>\n",
       "      <td>-0.029469</td>\n",
       "      <td>-0.042766</td>\n",
       "      <td>-0.304536</td>\n",
       "      <td>-0.846779</td>\n",
       "      <td>-0.796008</td>\n",
       "      <td>-0.023437</td>\n",
       "      <td>0.015657</td>\n",
       "    </tr>\n",
       "    <tr>\n",
       "      <th>patient_age</th>\n",
       "      <td>-0.012919</td>\n",
       "      <td>-0.067854</td>\n",
       "      <td>1.000000</td>\n",
       "      <td>-0.013473</td>\n",
       "      <td>0.006407</td>\n",
       "      <td>0.026707</td>\n",
       "      <td>-0.028572</td>\n",
       "      <td>-0.020431</td>\n",
       "      <td>-0.007706</td>\n",
       "      <td>-0.015136</td>\n",
       "      <td>...</td>\n",
       "      <td>-0.079959</td>\n",
       "      <td>-0.069431</td>\n",
       "      <td>-0.069443</td>\n",
       "      <td>-0.053147</td>\n",
       "      <td>0.338555</td>\n",
       "      <td>0.011303</td>\n",
       "      <td>0.067922</td>\n",
       "      <td>0.050696</td>\n",
       "      <td>-0.032067</td>\n",
       "      <td>0.044014</td>\n",
       "    </tr>\n",
       "    <tr>\n",
       "      <th>population</th>\n",
       "      <td>-0.013279</td>\n",
       "      <td>0.077393</td>\n",
       "      <td>-0.013473</td>\n",
       "      <td>1.000000</td>\n",
       "      <td>0.621719</td>\n",
       "      <td>-0.569603</td>\n",
       "      <td>0.231704</td>\n",
       "      <td>-0.019849</td>\n",
       "      <td>0.480251</td>\n",
       "      <td>0.646450</td>\n",
       "      <td>...</td>\n",
       "      <td>0.313828</td>\n",
       "      <td>0.380867</td>\n",
       "      <td>0.360548</td>\n",
       "      <td>0.010151</td>\n",
       "      <td>-0.078339</td>\n",
       "      <td>0.092502</td>\n",
       "      <td>0.021220</td>\n",
       "      <td>0.012446</td>\n",
       "      <td>-0.008233</td>\n",
       "      <td>0.049013</td>\n",
       "    </tr>\n",
       "    <tr>\n",
       "      <th>density</th>\n",
       "      <td>-0.003560</td>\n",
       "      <td>-0.251534</td>\n",
       "      <td>0.006407</td>\n",
       "      <td>0.621719</td>\n",
       "      <td>1.000000</td>\n",
       "      <td>-0.301608</td>\n",
       "      <td>-0.011179</td>\n",
       "      <td>-0.282893</td>\n",
       "      <td>0.323098</td>\n",
       "      <td>0.562024</td>\n",
       "      <td>...</td>\n",
       "      <td>-0.002176</td>\n",
       "      <td>0.039532</td>\n",
       "      <td>0.018638</td>\n",
       "      <td>0.026601</td>\n",
       "      <td>-0.040132</td>\n",
       "      <td>0.225359</td>\n",
       "      <td>0.369859</td>\n",
       "      <td>0.327601</td>\n",
       "      <td>0.024182</td>\n",
       "      <td>0.027296</td>\n",
       "    </tr>\n",
       "    <tr>\n",
       "      <th>...</th>\n",
       "      <td>...</td>\n",
       "      <td>...</td>\n",
       "      <td>...</td>\n",
       "      <td>...</td>\n",
       "      <td>...</td>\n",
       "      <td>...</td>\n",
       "      <td>...</td>\n",
       "      <td>...</td>\n",
       "      <td>...</td>\n",
       "      <td>...</td>\n",
       "      <td>...</td>\n",
       "      <td>...</td>\n",
       "      <td>...</td>\n",
       "      <td>...</td>\n",
       "      <td>...</td>\n",
       "      <td>...</td>\n",
       "      <td>...</td>\n",
       "      <td>...</td>\n",
       "      <td>...</td>\n",
       "      <td>...</td>\n",
       "      <td>...</td>\n",
       "    </tr>\n",
       "    <tr>\n",
       "      <th>patient_state_encoded</th>\n",
       "      <td>-0.014078</td>\n",
       "      <td>-0.304536</td>\n",
       "      <td>0.011303</td>\n",
       "      <td>0.092502</td>\n",
       "      <td>0.225359</td>\n",
       "      <td>-0.009694</td>\n",
       "      <td>0.023806</td>\n",
       "      <td>0.072319</td>\n",
       "      <td>-0.007986</td>\n",
       "      <td>-0.072391</td>\n",
       "      <td>...</td>\n",
       "      <td>-0.038531</td>\n",
       "      <td>-0.108633</td>\n",
       "      <td>-0.093230</td>\n",
       "      <td>0.098820</td>\n",
       "      <td>0.012664</td>\n",
       "      <td>1.000000</td>\n",
       "      <td>0.342619</td>\n",
       "      <td>0.397311</td>\n",
       "      <td>0.088299</td>\n",
       "      <td>0.011992</td>\n",
       "    </tr>\n",
       "    <tr>\n",
       "      <th>Region_encoded</th>\n",
       "      <td>-0.005304</td>\n",
       "      <td>-0.846779</td>\n",
       "      <td>0.067922</td>\n",
       "      <td>0.021220</td>\n",
       "      <td>0.369859</td>\n",
       "      <td>0.019159</td>\n",
       "      <td>0.011838</td>\n",
       "      <td>-0.028786</td>\n",
       "      <td>-0.020375</td>\n",
       "      <td>-0.017190</td>\n",
       "      <td>...</td>\n",
       "      <td>-0.215715</td>\n",
       "      <td>-0.330365</td>\n",
       "      <td>-0.303527</td>\n",
       "      <td>0.033857</td>\n",
       "      <td>0.045032</td>\n",
       "      <td>0.342619</td>\n",
       "      <td>1.000000</td>\n",
       "      <td>0.862451</td>\n",
       "      <td>0.037930</td>\n",
       "      <td>-0.008114</td>\n",
       "    </tr>\n",
       "    <tr>\n",
       "      <th>Division_encoded</th>\n",
       "      <td>-0.011021</td>\n",
       "      <td>-0.796008</td>\n",
       "      <td>0.050696</td>\n",
       "      <td>0.012446</td>\n",
       "      <td>0.327601</td>\n",
       "      <td>0.035702</td>\n",
       "      <td>-0.053928</td>\n",
       "      <td>-0.038946</td>\n",
       "      <td>-0.014416</td>\n",
       "      <td>-0.034589</td>\n",
       "      <td>...</td>\n",
       "      <td>-0.182726</td>\n",
       "      <td>-0.281672</td>\n",
       "      <td>-0.247754</td>\n",
       "      <td>0.039257</td>\n",
       "      <td>0.036067</td>\n",
       "      <td>0.397311</td>\n",
       "      <td>0.862451</td>\n",
       "      <td>1.000000</td>\n",
       "      <td>0.046495</td>\n",
       "      <td>-0.002589</td>\n",
       "    </tr>\n",
       "    <tr>\n",
       "      <th>breast_cancer_diagnosis_code_encoded</th>\n",
       "      <td>0.013359</td>\n",
       "      <td>-0.023437</td>\n",
       "      <td>-0.032067</td>\n",
       "      <td>-0.008233</td>\n",
       "      <td>0.024182</td>\n",
       "      <td>0.015946</td>\n",
       "      <td>0.007770</td>\n",
       "      <td>0.014505</td>\n",
       "      <td>-0.025060</td>\n",
       "      <td>-0.032127</td>\n",
       "      <td>...</td>\n",
       "      <td>-0.009661</td>\n",
       "      <td>-0.020770</td>\n",
       "      <td>-0.018082</td>\n",
       "      <td>0.647219</td>\n",
       "      <td>0.021735</td>\n",
       "      <td>0.088299</td>\n",
       "      <td>0.037930</td>\n",
       "      <td>0.046495</td>\n",
       "      <td>1.000000</td>\n",
       "      <td>0.107463</td>\n",
       "    </tr>\n",
       "    <tr>\n",
       "      <th>metastatic_cancer_diagnosis_code_encoded</th>\n",
       "      <td>0.004854</td>\n",
       "      <td>0.015657</td>\n",
       "      <td>0.044014</td>\n",
       "      <td>0.049013</td>\n",
       "      <td>0.027296</td>\n",
       "      <td>-0.019269</td>\n",
       "      <td>0.017901</td>\n",
       "      <td>0.003516</td>\n",
       "      <td>0.008807</td>\n",
       "      <td>0.012728</td>\n",
       "      <td>...</td>\n",
       "      <td>0.052912</td>\n",
       "      <td>0.060860</td>\n",
       "      <td>0.058530</td>\n",
       "      <td>0.121880</td>\n",
       "      <td>-0.008471</td>\n",
       "      <td>0.011992</td>\n",
       "      <td>-0.008114</td>\n",
       "      <td>-0.002589</td>\n",
       "      <td>0.107463</td>\n",
       "      <td>1.000000</td>\n",
       "    </tr>\n",
       "  </tbody>\n",
       "</table>\n",
       "<p>146 rows × 146 columns</p>\n",
       "</div>"
      ],
      "text/plain": [
       "                                          patient_id  patient_zip3  \\\n",
       "patient_id                                  1.000000      0.008240   \n",
       "patient_zip3                                0.008240      1.000000   \n",
       "patient_age                                -0.012919     -0.067854   \n",
       "population                                 -0.013279      0.077393   \n",
       "density                                    -0.003560     -0.251534   \n",
       "...                                              ...           ...   \n",
       "patient_state_encoded                      -0.014078     -0.304536   \n",
       "Region_encoded                             -0.005304     -0.846779   \n",
       "Division_encoded                           -0.011021     -0.796008   \n",
       "breast_cancer_diagnosis_code_encoded        0.013359     -0.023437   \n",
       "metastatic_cancer_diagnosis_code_encoded    0.004854      0.015657   \n",
       "\n",
       "                                          patient_age  population   density  \\\n",
       "patient_id                                  -0.012919   -0.013279 -0.003560   \n",
       "patient_zip3                                -0.067854    0.077393 -0.251534   \n",
       "patient_age                                  1.000000   -0.013473  0.006407   \n",
       "population                                  -0.013473    1.000000  0.621719   \n",
       "density                                      0.006407    0.621719  1.000000   \n",
       "...                                               ...         ...       ...   \n",
       "patient_state_encoded                        0.011303    0.092502  0.225359   \n",
       "Region_encoded                               0.067922    0.021220  0.369859   \n",
       "Division_encoded                             0.050696    0.012446  0.327601   \n",
       "breast_cancer_diagnosis_code_encoded        -0.032067   -0.008233  0.024182   \n",
       "metastatic_cancer_diagnosis_code_encoded     0.044014    0.049013  0.027296   \n",
       "\n",
       "                                          age_median  age_under_10  \\\n",
       "patient_id                                 -0.005281     -0.007038   \n",
       "patient_zip3                               -0.124713      0.084530   \n",
       "patient_age                                 0.026707     -0.028572   \n",
       "population                                 -0.569603      0.231704   \n",
       "density                                    -0.301608     -0.011179   \n",
       "...                                              ...           ...   \n",
       "patient_state_encoded                      -0.009694      0.023806   \n",
       "Region_encoded                              0.019159      0.011838   \n",
       "Division_encoded                            0.035702     -0.053928   \n",
       "breast_cancer_diagnosis_code_encoded        0.015946      0.007770   \n",
       "metastatic_cancer_diagnosis_code_encoded   -0.019269      0.017901   \n",
       "\n",
       "                                          age_10_to_19   age_20s   age_30s  \\\n",
       "patient_id                                    0.007018  0.008331  0.000856   \n",
       "patient_zip3                                  0.048258  0.075437  0.114304   \n",
       "patient_age                                  -0.020431 -0.007706 -0.015136   \n",
       "population                                   -0.019849  0.480251  0.646450   \n",
       "density                                      -0.282893  0.323098  0.562024   \n",
       "...                                                ...       ...       ...   \n",
       "patient_state_encoded                         0.072319 -0.007986 -0.072391   \n",
       "Region_encoded                               -0.028786 -0.020375 -0.017190   \n",
       "Division_encoded                             -0.038946 -0.014416 -0.034589   \n",
       "breast_cancer_diagnosis_code_encoded          0.014505 -0.025060 -0.032127   \n",
       "metastatic_cancer_diagnosis_code_encoded      0.003516  0.008807  0.012728   \n",
       "\n",
       "                                          ...  Average of Oct-18  \\\n",
       "patient_id                                ...           0.007438   \n",
       "patient_zip3                              ...           0.249609   \n",
       "patient_age                               ...          -0.079959   \n",
       "population                                ...           0.313828   \n",
       "density                                   ...          -0.002176   \n",
       "...                                       ...                ...   \n",
       "patient_state_encoded                     ...          -0.038531   \n",
       "Region_encoded                            ...          -0.215715   \n",
       "Division_encoded                          ...          -0.182726   \n",
       "breast_cancer_diagnosis_code_encoded      ...          -0.009661   \n",
       "metastatic_cancer_diagnosis_code_encoded  ...           0.052912   \n",
       "\n",
       "                                          Average of Nov-18  \\\n",
       "patient_id                                         0.008902   \n",
       "patient_zip3                                       0.385164   \n",
       "patient_age                                       -0.069431   \n",
       "population                                         0.380867   \n",
       "density                                            0.039532   \n",
       "...                                                     ...   \n",
       "patient_state_encoded                             -0.108633   \n",
       "Region_encoded                                    -0.330365   \n",
       "Division_encoded                                  -0.281672   \n",
       "breast_cancer_diagnosis_code_encoded              -0.020770   \n",
       "metastatic_cancer_diagnosis_code_encoded           0.060860   \n",
       "\n",
       "                                          Average of Dec-18  \\\n",
       "patient_id                                         0.007193   \n",
       "patient_zip3                                       0.349006   \n",
       "patient_age                                       -0.069443   \n",
       "population                                         0.360548   \n",
       "density                                            0.018638   \n",
       "...                                                     ...   \n",
       "patient_state_encoded                             -0.093230   \n",
       "Region_encoded                                    -0.303527   \n",
       "Division_encoded                                  -0.247754   \n",
       "breast_cancer_diagnosis_code_encoded              -0.018082   \n",
       "metastatic_cancer_diagnosis_code_encoded           0.058530   \n",
       "\n",
       "                                          metastatic_diagnosis_period  \\\n",
       "patient_id                                                   0.002251   \n",
       "patient_zip3                                                -0.029469   \n",
       "patient_age                                                 -0.053147   \n",
       "population                                                   0.010151   \n",
       "density                                                      0.026601   \n",
       "...                                                               ...   \n",
       "patient_state_encoded                                        0.098820   \n",
       "Region_encoded                                               0.033857   \n",
       "Division_encoded                                             0.039257   \n",
       "breast_cancer_diagnosis_code_encoded                         0.647219   \n",
       "metastatic_cancer_diagnosis_code_encoded                     0.121880   \n",
       "\n",
       "                                          payer_type_encoded  \\\n",
       "patient_id                                         -0.005284   \n",
       "patient_zip3                                       -0.042766   \n",
       "patient_age                                         0.338555   \n",
       "population                                         -0.078339   \n",
       "density                                            -0.040132   \n",
       "...                                                      ...   \n",
       "patient_state_encoded                               0.012664   \n",
       "Region_encoded                                      0.045032   \n",
       "Division_encoded                                    0.036067   \n",
       "breast_cancer_diagnosis_code_encoded                0.021735   \n",
       "metastatic_cancer_diagnosis_code_encoded           -0.008471   \n",
       "\n",
       "                                          patient_state_encoded  \\\n",
       "patient_id                                            -0.014078   \n",
       "patient_zip3                                          -0.304536   \n",
       "patient_age                                            0.011303   \n",
       "population                                             0.092502   \n",
       "density                                                0.225359   \n",
       "...                                                         ...   \n",
       "patient_state_encoded                                  1.000000   \n",
       "Region_encoded                                         0.342619   \n",
       "Division_encoded                                       0.397311   \n",
       "breast_cancer_diagnosis_code_encoded                   0.088299   \n",
       "metastatic_cancer_diagnosis_code_encoded               0.011992   \n",
       "\n",
       "                                          Region_encoded  Division_encoded  \\\n",
       "patient_id                                     -0.005304         -0.011021   \n",
       "patient_zip3                                   -0.846779         -0.796008   \n",
       "patient_age                                     0.067922          0.050696   \n",
       "population                                      0.021220          0.012446   \n",
       "density                                         0.369859          0.327601   \n",
       "...                                                  ...               ...   \n",
       "patient_state_encoded                           0.342619          0.397311   \n",
       "Region_encoded                                  1.000000          0.862451   \n",
       "Division_encoded                                0.862451          1.000000   \n",
       "breast_cancer_diagnosis_code_encoded            0.037930          0.046495   \n",
       "metastatic_cancer_diagnosis_code_encoded       -0.008114         -0.002589   \n",
       "\n",
       "                                          breast_cancer_diagnosis_code_encoded  \\\n",
       "patient_id                                                            0.013359   \n",
       "patient_zip3                                                         -0.023437   \n",
       "patient_age                                                          -0.032067   \n",
       "population                                                           -0.008233   \n",
       "density                                                               0.024182   \n",
       "...                                                                        ...   \n",
       "patient_state_encoded                                                 0.088299   \n",
       "Region_encoded                                                        0.037930   \n",
       "Division_encoded                                                      0.046495   \n",
       "breast_cancer_diagnosis_code_encoded                                  1.000000   \n",
       "metastatic_cancer_diagnosis_code_encoded                              0.107463   \n",
       "\n",
       "                                          metastatic_cancer_diagnosis_code_encoded  \n",
       "patient_id                                                                0.004854  \n",
       "patient_zip3                                                              0.015657  \n",
       "patient_age                                                               0.044014  \n",
       "population                                                                0.049013  \n",
       "density                                                                   0.027296  \n",
       "...                                                                            ...  \n",
       "patient_state_encoded                                                     0.011992  \n",
       "Region_encoded                                                           -0.008114  \n",
       "Division_encoded                                                         -0.002589  \n",
       "breast_cancer_diagnosis_code_encoded                                      0.107463  \n",
       "metastatic_cancer_diagnosis_code_encoded                                  1.000000  \n",
       "\n",
       "[146 rows x 146 columns]"
      ]
     },
     "execution_count": 124,
     "metadata": {},
     "output_type": "execute_result"
    }
   ],
   "source": [
    "correlation_matrix_2"
   ]
  },
  {
   "cell_type": "code",
   "execution_count": 125,
   "metadata": {
    "execution": {
     "iopub.execute_input": "2024-05-31T16:44:17.725523Z",
     "iopub.status.busy": "2024-05-31T16:44:17.722259Z",
     "iopub.status.idle": "2024-05-31T16:44:17.742360Z",
     "shell.execute_reply": "2024-05-31T16:44:17.741367Z",
     "shell.execute_reply.started": "2024-05-31T16:44:17.725481Z"
    },
    "id": "hA6DKEpi8EEU"
   },
   "outputs": [
    {
     "data": {
      "text/html": [
       "<div>\n",
       "<style scoped>\n",
       "    .dataframe tbody tr th:only-of-type {\n",
       "        vertical-align: middle;\n",
       "    }\n",
       "\n",
       "    .dataframe tbody tr th {\n",
       "        vertical-align: top;\n",
       "    }\n",
       "\n",
       "    .dataframe thead th {\n",
       "        text-align: right;\n",
       "    }\n",
       "</style>\n",
       "<table border=\"1\" class=\"dataframe\">\n",
       "  <thead>\n",
       "    <tr style=\"text-align: right;\">\n",
       "      <th></th>\n",
       "      <th>Variable</th>\n",
       "      <th>VIF</th>\n",
       "    </tr>\n",
       "  </thead>\n",
       "  <tbody>\n",
       "    <tr>\n",
       "      <th>1</th>\n",
       "      <td>patient_zip3</td>\n",
       "      <td>333.668379</td>\n",
       "    </tr>\n",
       "    <tr>\n",
       "      <th>2</th>\n",
       "      <td>patient_age</td>\n",
       "      <td>24.889729</td>\n",
       "    </tr>\n",
       "    <tr>\n",
       "      <th>3</th>\n",
       "      <td>population</td>\n",
       "      <td>1049.546949</td>\n",
       "    </tr>\n",
       "    <tr>\n",
       "      <th>4</th>\n",
       "      <td>density</td>\n",
       "      <td>13.934995</td>\n",
       "    </tr>\n",
       "    <tr>\n",
       "      <th>5</th>\n",
       "      <td>age_median</td>\n",
       "      <td>7466.446427</td>\n",
       "    </tr>\n",
       "    <tr>\n",
       "      <th>...</th>\n",
       "      <td>...</td>\n",
       "      <td>...</td>\n",
       "    </tr>\n",
       "    <tr>\n",
       "      <th>140</th>\n",
       "      <td>payer_type_encoded</td>\n",
       "      <td>3641.336608</td>\n",
       "    </tr>\n",
       "    <tr>\n",
       "      <th>141</th>\n",
       "      <td>patient_state_encoded</td>\n",
       "      <td>265.900463</td>\n",
       "    </tr>\n",
       "    <tr>\n",
       "      <th>142</th>\n",
       "      <td>Region_encoded</td>\n",
       "      <td>27438.101103</td>\n",
       "    </tr>\n",
       "    <tr>\n",
       "      <th>143</th>\n",
       "      <td>Division_encoded</td>\n",
       "      <td>6971.262546</td>\n",
       "    </tr>\n",
       "    <tr>\n",
       "      <th>145</th>\n",
       "      <td>metastatic_cancer_diagnosis_code_encoded</td>\n",
       "      <td>55.842125</td>\n",
       "    </tr>\n",
       "  </tbody>\n",
       "</table>\n",
       "<p>142 rows × 2 columns</p>\n",
       "</div>"
      ],
      "text/plain": [
       "                                     Variable           VIF\n",
       "1                                patient_zip3    333.668379\n",
       "2                                 patient_age     24.889729\n",
       "3                                  population   1049.546949\n",
       "4                                     density     13.934995\n",
       "5                                  age_median   7466.446427\n",
       "..                                        ...           ...\n",
       "140                        payer_type_encoded   3641.336608\n",
       "141                     patient_state_encoded    265.900463\n",
       "142                            Region_encoded  27438.101103\n",
       "143                          Division_encoded   6971.262546\n",
       "145  metastatic_cancer_diagnosis_code_encoded     55.842125\n",
       "\n",
       "[142 rows x 2 columns]"
      ]
     },
     "execution_count": 125,
     "metadata": {},
     "output_type": "execute_result"
    }
   ],
   "source": [
    "vif_data[vif_data['VIF'] > 10]"
   ]
  },
  {
   "cell_type": "code",
   "execution_count": 126,
   "metadata": {
    "execution": {
     "iopub.execute_input": "2024-05-31T16:44:17.744508Z",
     "iopub.status.busy": "2024-05-31T16:44:17.743836Z",
     "iopub.status.idle": "2024-05-31T16:44:17.752889Z",
     "shell.execute_reply": "2024-05-31T16:44:17.751793Z",
     "shell.execute_reply.started": "2024-05-31T16:44:17.744473Z"
    },
    "id": "ackOmzBu9vMe"
   },
   "outputs": [],
   "source": [
    "selected_columns_2 = ['Average of Jan-13', 'Average of Feb-13', 'Average of Mar-13', 'Average of Apr-13', 'Average of May-13', 'Average of Jun-13', 'Average of Jul-13', 'Average of Aug-13', 'Average of Sep-13', 'Average of Oct-13', 'Average of Nov-13', 'Average of Dec-13', 'Average of Jan-14', 'Average of Feb-14', 'Average of Mar-14', 'Average of Apr-14', 'Average of May-14', 'Average of Jul-14', 'Average of Aug-14', 'Average of Sep-14', 'Average of Oct-14', 'Average of Nov-14', 'Average of Dec-14', 'Average of Jan-15', 'Average of Feb-15', 'Average of Mar-15', 'Average of Apr-15', 'Average of May-15', 'Average of Jun-15', 'Average of Jul-15', 'Average of Aug-15', 'Average of Sep-15', 'Average of Oct-15', 'Average of Nov-15', 'Average of Dec-15', 'Average of Jan-16', 'Average of Feb-16', 'Average of Mar-16', 'Average of Apr-16', 'Average of May-16', 'Average of Jun-16', 'Average of Jul-16', 'Average of Aug-16', 'Average of Sep-16', 'Average of Oct-16', 'Average of Nov-16', 'Average of Dec-16', 'Average of Jan-17', 'Average of Feb-17', 'Average of Mar-17', 'Average of Apr-17', 'Average of May-17', 'Average of Jun-17', 'Average of Jul-17', 'Average of Aug-17', 'Average of Sep-17', 'Average of Oct-17', 'Average of Nov-17', 'Average of Dec-17', 'Average of Jan-18', 'Average of Feb-18', 'Average of Mar-18', 'Average of Apr-18', 'Average of May-18', 'Average of Jun-18', 'Average of Jul-18', 'Average of Aug-18', 'Average of Sep-18', 'Average of Oct-18', 'Average of Nov-18', 'Average of Dec-18', 'metastatic_diagnosis_period']"
   ]
  },
  {
   "cell_type": "code",
   "execution_count": 127,
   "metadata": {
    "execution": {
     "iopub.execute_input": "2024-05-31T16:44:17.755116Z",
     "iopub.status.busy": "2024-05-31T16:44:17.754487Z",
     "iopub.status.idle": "2024-05-31T16:44:18.520240Z",
     "shell.execute_reply": "2024-05-31T16:44:18.519280Z",
     "shell.execute_reply.started": "2024-05-31T16:44:17.755081Z"
    },
    "id": "uAlQ4kAF9vFq"
   },
   "outputs": [
    {
     "data": {
      "image/png": "[encoded data removed]",
      "text/plain": [
       "<Figure size 640x480 with 2 Axes>"
      ]
     },
     "metadata": {},
     "output_type": "display_data"
    }
   ],
   "source": [
    "sns.heatmap(train[selected_columns_2 ].corr(), cmap='coolwarm', vmin=-1, vmax=1)\n",
    "plt.show()"
   ]
  },
  {
   "cell_type": "code",
   "execution_count": 128,
   "metadata": {
    "execution": {
     "iopub.execute_input": "2024-05-31T16:44:18.522358Z",
     "iopub.status.busy": "2024-05-31T16:44:18.521731Z",
     "iopub.status.idle": "2024-05-31T16:44:18.528546Z",
     "shell.execute_reply": "2024-05-31T16:44:18.527575Z",
     "shell.execute_reply.started": "2024-05-31T16:44:18.522322Z"
    },
    "id": "FprelkpK9u_K"
   },
   "outputs": [
    {
     "data": {
      "text/plain": [
       "72"
      ]
     },
     "execution_count": 128,
     "metadata": {},
     "output_type": "execute_result"
    }
   ],
   "source": [
    "len(selected_columns_2)"
   ]
  },
  {
   "cell_type": "code",
   "execution_count": 129,
   "metadata": {
    "execution": {
     "iopub.execute_input": "2024-05-31T16:44:18.530571Z",
     "iopub.status.busy": "2024-05-31T16:44:18.529921Z",
     "iopub.status.idle": "2024-05-31T16:44:18.541605Z",
     "shell.execute_reply": "2024-05-31T16:44:18.540638Z",
     "shell.execute_reply.started": "2024-05-31T16:44:18.530517Z"
    },
    "id": "fMHBeWN29u2_"
   },
   "outputs": [
    {
     "data": {
      "text/plain": [
       "Index(['patient_id', 'patient_zip3', 'patient_age', 'population', 'density',\n",
       "       'age_median', 'age_under_10', 'age_10_to_19', 'age_20s', 'age_30s',\n",
       "       ...\n",
       "       'Average of Oct-18', 'Average of Nov-18', 'Average of Dec-18',\n",
       "       'metastatic_diagnosis_period', 'payer_type_encoded',\n",
       "       'patient_state_encoded', 'Region_encoded', 'Division_encoded',\n",
       "       'breast_cancer_diagnosis_code_encoded',\n",
       "       'metastatic_cancer_diagnosis_code_encoded'],\n",
       "      dtype='object', length=146)"
      ]
     },
     "execution_count": 129,
     "metadata": {},
     "output_type": "execute_result"
    }
   ],
   "source": [
    "train.columns"
   ]
  },
  {
   "cell_type": "code",
   "execution_count": 130,
   "metadata": {
    "execution": {
     "iopub.execute_input": "2024-05-31T16:44:18.543429Z",
     "iopub.status.busy": "2024-05-31T16:44:18.542972Z",
     "iopub.status.idle": "2024-05-31T16:44:18.550183Z",
     "shell.execute_reply": "2024-05-31T16:44:18.549039Z",
     "shell.execute_reply.started": "2024-05-31T16:44:18.543395Z"
    },
    "id": "lkk8InDZPCzV"
   },
   "outputs": [],
   "source": [
    "# Predicted Variable = y\n",
    "Y_train = train['metastatic_diagnosis_period']"
   ]
  },
  {
   "cell_type": "code",
   "execution_count": 131,
   "metadata": {
    "execution": {
     "iopub.execute_input": "2024-05-31T16:44:18.551490Z",
     "iopub.status.busy": "2024-05-31T16:44:18.551215Z",
     "iopub.status.idle": "2024-05-31T16:44:18.571416Z",
     "shell.execute_reply": "2024-05-31T16:44:18.570606Z",
     "shell.execute_reply.started": "2024-05-31T16:44:18.551466Z"
    },
    "id": "1foiPcdiPa5a"
   },
   "outputs": [],
   "source": [
    "X_train = train.drop(columns=['metastatic_diagnosis_period'])"
   ]
  },
  {
   "cell_type": "code",
   "execution_count": 132,
   "metadata": {
    "execution": {
     "iopub.execute_input": "2024-05-31T16:44:18.573037Z",
     "iopub.status.busy": "2024-05-31T16:44:18.572668Z",
     "iopub.status.idle": "2024-05-31T16:44:18.577664Z",
     "shell.execute_reply": "2024-05-31T16:44:18.576623Z",
     "shell.execute_reply.started": "2024-05-31T16:44:18.573002Z"
    },
    "id": "RikXf0I7cOQn"
   },
   "outputs": [],
   "source": [
    "X_test = test"
   ]
  },
  {
   "cell_type": "code",
   "execution_count": 133,
   "metadata": {
    "execution": {
     "iopub.execute_input": "2024-05-31T16:44:18.579295Z",
     "iopub.status.busy": "2024-05-31T16:44:18.578965Z",
     "iopub.status.idle": "2024-05-31T16:44:18.589521Z",
     "shell.execute_reply": "2024-05-31T16:44:18.588594Z",
     "shell.execute_reply.started": "2024-05-31T16:44:18.579263Z"
    },
    "id": "aUcyJeu2cUkI"
   },
   "outputs": [
    {
     "data": {
      "text/plain": [
       "(12914, 145)"
      ]
     },
     "execution_count": 133,
     "metadata": {},
     "output_type": "execute_result"
    }
   ],
   "source": [
    "X_train.shape"
   ]
  },
  {
   "cell_type": "code",
   "execution_count": 134,
   "metadata": {
    "execution": {
     "iopub.execute_input": "2024-05-31T16:44:18.591329Z",
     "iopub.status.busy": "2024-05-31T16:44:18.590886Z",
     "iopub.status.idle": "2024-05-31T16:44:18.600377Z",
     "shell.execute_reply": "2024-05-31T16:44:18.599542Z",
     "shell.execute_reply.started": "2024-05-31T16:44:18.591294Z"
    },
    "id": "jKs5Xq_4cauf"
   },
   "outputs": [
    {
     "data": {
      "text/plain": [
       "(5646, 145)"
      ]
     },
     "execution_count": 134,
     "metadata": {},
     "output_type": "execute_result"
    }
   ],
   "source": [
    "X_test.shape"
   ]
  },
  {
   "cell_type": "markdown",
   "metadata": {
    "id": "Uvnn-FyXm9n0"
   },
   "source": [
    "###### Test Data"
   ]
  },
  {
   "cell_type": "code",
   "execution_count": 136,
   "metadata": {
    "execution": {
     "iopub.execute_input": "2024-05-31T16:44:47.937912Z",
     "iopub.status.busy": "2024-05-31T16:44:47.937124Z",
     "iopub.status.idle": "2024-05-31T16:44:47.951109Z",
     "shell.execute_reply": "2024-05-31T16:44:47.950105Z",
     "shell.execute_reply.started": "2024-05-31T16:44:47.937879Z"
    },
    "id": "hU7lbkewmvF6"
   },
   "outputs": [],
   "source": [
    "solution_data = pd.read_csv(\"/kaggle/input/widsdatathon2024-challenge2/solution_template.csv\")"
   ]
  },
  {
   "cell_type": "code",
   "execution_count": 137,
   "metadata": {
    "execution": {
     "iopub.execute_input": "2024-05-31T16:44:57.357574Z",
     "iopub.status.busy": "2024-05-31T16:44:57.357185Z",
     "iopub.status.idle": "2024-05-31T16:44:57.363771Z",
     "shell.execute_reply": "2024-05-31T16:44:57.362599Z",
     "shell.execute_reply.started": "2024-05-31T16:44:57.357530Z"
    },
    "id": "pX3jHNaHdFn8"
   },
   "outputs": [
    {
     "data": {
      "text/plain": [
       "(5646, 2)"
      ]
     },
     "execution_count": 137,
     "metadata": {},
     "output_type": "execute_result"
    }
   ],
   "source": [
    "solution_data.shape"
   ]
  },
  {
   "cell_type": "code",
   "execution_count": 138,
   "metadata": {
    "execution": {
     "iopub.execute_input": "2024-05-31T16:45:00.927943Z",
     "iopub.status.busy": "2024-05-31T16:45:00.927210Z",
     "iopub.status.idle": "2024-05-31T16:45:00.936137Z",
     "shell.execute_reply": "2024-05-31T16:45:00.935033Z",
     "shell.execute_reply.started": "2024-05-31T16:45:00.927909Z"
    },
    "id": "qq60VYUVeSUK"
   },
   "outputs": [
    {
     "data": {
      "text/plain": [
       "patient_id                                    int64\n",
       "patient_zip3                                  int64\n",
       "patient_age                                   int64\n",
       "population                                  float64\n",
       "density                                     float64\n",
       "                                             ...   \n",
       "patient_state_encoded                       float64\n",
       "Region_encoded                              float64\n",
       "Division_encoded                            float64\n",
       "breast_cancer_diagnosis_code_encoded        float64\n",
       "metastatic_cancer_diagnosis_code_encoded    float64\n",
       "Length: 145, dtype: object"
      ]
     },
     "execution_count": 138,
     "metadata": {},
     "output_type": "execute_result"
    }
   ],
   "source": [
    "test.dtypes"
   ]
  },
  {
   "cell_type": "code",
   "execution_count": 139,
   "metadata": {
    "execution": {
     "iopub.execute_input": "2024-05-31T16:45:04.777730Z",
     "iopub.status.busy": "2024-05-31T16:45:04.777332Z",
     "iopub.status.idle": "2024-05-31T16:45:04.785388Z",
     "shell.execute_reply": "2024-05-31T16:45:04.784382Z",
     "shell.execute_reply.started": "2024-05-31T16:45:04.777699Z"
    },
    "id": "ws8Qj6eye3_1"
   },
   "outputs": [
    {
     "data": {
      "text/plain": [
       "0    730681\n",
       "1    334212\n",
       "2    571362\n",
       "3    907331\n",
       "4    208382\n",
       "5    852863\n",
       "6    494644\n",
       "7    852015\n",
       "8    521061\n",
       "9    907023\n",
       "Name: patient_id, dtype: int64"
      ]
     },
     "execution_count": 139,
     "metadata": {},
     "output_type": "execute_result"
    }
   ],
   "source": [
    "test['patient_id'].head(10)"
   ]
  },
  {
   "cell_type": "code",
   "execution_count": 140,
   "metadata": {
    "execution": {
     "iopub.execute_input": "2024-05-31T16:45:07.957773Z",
     "iopub.status.busy": "2024-05-31T16:45:07.957370Z",
     "iopub.status.idle": "2024-05-31T16:45:07.965024Z",
     "shell.execute_reply": "2024-05-31T16:45:07.964031Z",
     "shell.execute_reply.started": "2024-05-31T16:45:07.957745Z"
    },
    "id": "VE3-obdqeFFA"
   },
   "outputs": [
    {
     "data": {
      "text/plain": [
       "patient_id                     int64\n",
       "metastatic_diagnosis_period    int64\n",
       "dtype: object"
      ]
     },
     "execution_count": 140,
     "metadata": {},
     "output_type": "execute_result"
    }
   ],
   "source": [
    "solution_data.dtypes"
   ]
  },
  {
   "cell_type": "code",
   "execution_count": 141,
   "metadata": {
    "execution": {
     "iopub.execute_input": "2024-05-31T16:45:10.419407Z",
     "iopub.status.busy": "2024-05-31T16:45:10.419028Z",
     "iopub.status.idle": "2024-05-31T16:45:10.426598Z",
     "shell.execute_reply": "2024-05-31T16:45:10.425528Z",
     "shell.execute_reply.started": "2024-05-31T16:45:10.419367Z"
    },
    "id": "6kxXAeilfCX4"
   },
   "outputs": [
    {
     "data": {
      "text/plain": [
       "0    730681\n",
       "1    334212\n",
       "2    571362\n",
       "3    907331\n",
       "4    208382\n",
       "5    852863\n",
       "6    494644\n",
       "7    852015\n",
       "8    521061\n",
       "9    907023\n",
       "Name: patient_id, dtype: int64"
      ]
     },
     "execution_count": 141,
     "metadata": {},
     "output_type": "execute_result"
    }
   ],
   "source": [
    "solution_data['patient_id'].head(10)"
   ]
  },
  {
   "cell_type": "code",
   "execution_count": 142,
   "metadata": {
    "execution": {
     "iopub.execute_input": "2024-05-31T16:45:14.068035Z",
     "iopub.status.busy": "2024-05-31T16:45:14.067279Z",
     "iopub.status.idle": "2024-05-31T16:45:14.074992Z",
     "shell.execute_reply": "2024-05-31T16:45:14.073982Z",
     "shell.execute_reply.started": "2024-05-31T16:45:14.068001Z"
    },
    "id": "mOn8DUfMfTmn"
   },
   "outputs": [
    {
     "data": {
      "text/plain": [
       "5636    553916\n",
       "5637    170619\n",
       "5638    801815\n",
       "5639    306903\n",
       "5640    931444\n",
       "5641    649011\n",
       "5642    869024\n",
       "5643    304800\n",
       "5644    267406\n",
       "5645    873886\n",
       "Name: patient_id, dtype: int64"
      ]
     },
     "execution_count": 142,
     "metadata": {},
     "output_type": "execute_result"
    }
   ],
   "source": [
    "test['patient_id'].tail(10)"
   ]
  },
  {
   "cell_type": "code",
   "execution_count": 143,
   "metadata": {
    "execution": {
     "iopub.execute_input": "2024-05-31T16:45:17.117982Z",
     "iopub.status.busy": "2024-05-31T16:45:17.117589Z",
     "iopub.status.idle": "2024-05-31T16:45:17.125584Z",
     "shell.execute_reply": "2024-05-31T16:45:17.124523Z",
     "shell.execute_reply.started": "2024-05-31T16:45:17.117953Z"
    },
    "id": "s9eckfAOfb69"
   },
   "outputs": [
    {
     "data": {
      "text/plain": [
       "5636    553916\n",
       "5637    170619\n",
       "5638    801815\n",
       "5639    306903\n",
       "5640    931444\n",
       "5641    649011\n",
       "5642    869024\n",
       "5643    304800\n",
       "5644    267406\n",
       "5645    873886\n",
       "Name: patient_id, dtype: int64"
      ]
     },
     "execution_count": 143,
     "metadata": {},
     "output_type": "execute_result"
    }
   ],
   "source": [
    "solution_data['patient_id'].tail(10)"
   ]
  },
  {
   "cell_type": "code",
   "execution_count": 144,
   "metadata": {
    "execution": {
     "iopub.execute_input": "2024-05-31T16:45:20.388893Z",
     "iopub.status.busy": "2024-05-31T16:45:20.388157Z",
     "iopub.status.idle": "2024-05-31T16:45:20.393647Z",
     "shell.execute_reply": "2024-05-31T16:45:20.392538Z",
     "shell.execute_reply.started": "2024-05-31T16:45:20.388859Z"
    },
    "id": "418EwTeY2eyN"
   },
   "outputs": [],
   "source": [
    "y_test = solution_data['metastatic_diagnosis_period']"
   ]
  },
  {
   "cell_type": "code",
   "execution_count": 145,
   "metadata": {
    "execution": {
     "iopub.execute_input": "2024-05-31T16:45:25.208356Z",
     "iopub.status.busy": "2024-05-31T16:45:25.207491Z",
     "iopub.status.idle": "2024-05-31T16:45:25.214428Z",
     "shell.execute_reply": "2024-05-31T16:45:25.213205Z",
     "shell.execute_reply.started": "2024-05-31T16:45:25.208325Z"
    },
    "id": "YI7OFVXP2llj"
   },
   "outputs": [
    {
     "data": {
      "text/plain": [
       "(5646,)"
      ]
     },
     "execution_count": 145,
     "metadata": {},
     "output_type": "execute_result"
    }
   ],
   "source": [
    "y_test.shape"
   ]
  },
  {
   "cell_type": "code",
   "execution_count": 146,
   "metadata": {
    "execution": {
     "iopub.execute_input": "2024-05-31T16:45:29.288136Z",
     "iopub.status.busy": "2024-05-31T16:45:29.287350Z",
     "iopub.status.idle": "2024-05-31T16:45:29.314188Z",
     "shell.execute_reply": "2024-05-31T16:45:29.313170Z",
     "shell.execute_reply.started": "2024-05-31T16:45:29.288100Z"
    },
    "id": "GCQcqzK7P1kR"
   },
   "outputs": [
    {
     "data": {
      "text/html": [
       "<div>\n",
       "<style scoped>\n",
       "    .dataframe tbody tr th:only-of-type {\n",
       "        vertical-align: middle;\n",
       "    }\n",
       "\n",
       "    .dataframe tbody tr th {\n",
       "        vertical-align: top;\n",
       "    }\n",
       "\n",
       "    .dataframe thead th {\n",
       "        text-align: right;\n",
       "    }\n",
       "</style>\n",
       "<table border=\"1\" class=\"dataframe\">\n",
       "  <thead>\n",
       "    <tr style=\"text-align: right;\">\n",
       "      <th></th>\n",
       "      <th>patient_id</th>\n",
       "      <th>patient_zip3</th>\n",
       "      <th>patient_age</th>\n",
       "      <th>population</th>\n",
       "      <th>density</th>\n",
       "      <th>age_median</th>\n",
       "      <th>age_under_10</th>\n",
       "      <th>age_10_to_19</th>\n",
       "      <th>age_20s</th>\n",
       "      <th>age_30s</th>\n",
       "      <th>...</th>\n",
       "      <th>Average of Sep-18</th>\n",
       "      <th>Average of Oct-18</th>\n",
       "      <th>Average of Nov-18</th>\n",
       "      <th>Average of Dec-18</th>\n",
       "      <th>payer_type_encoded</th>\n",
       "      <th>patient_state_encoded</th>\n",
       "      <th>Region_encoded</th>\n",
       "      <th>Division_encoded</th>\n",
       "      <th>breast_cancer_diagnosis_code_encoded</th>\n",
       "      <th>metastatic_cancer_diagnosis_code_encoded</th>\n",
       "    </tr>\n",
       "  </thead>\n",
       "  <tbody>\n",
       "    <tr>\n",
       "      <th>0</th>\n",
       "      <td>268700</td>\n",
       "      <td>724</td>\n",
       "      <td>39</td>\n",
       "      <td>3924.87</td>\n",
       "      <td>82.63</td>\n",
       "      <td>42.58</td>\n",
       "      <td>11.61</td>\n",
       "      <td>13.03</td>\n",
       "      <td>10.87</td>\n",
       "      <td>11.80</td>\n",
       "      <td>...</td>\n",
       "      <td>74.56</td>\n",
       "      <td>59.98</td>\n",
       "      <td>42.98</td>\n",
       "      <td>41.18</td>\n",
       "      <td>96.955858</td>\n",
       "      <td>99.296296</td>\n",
       "      <td>97.336937</td>\n",
       "      <td>95.130464</td>\n",
       "      <td>57.388827</td>\n",
       "      <td>88.929481</td>\n",
       "    </tr>\n",
       "    <tr>\n",
       "      <th>1</th>\n",
       "      <td>484983</td>\n",
       "      <td>629</td>\n",
       "      <td>55</td>\n",
       "      <td>2745.39</td>\n",
       "      <td>51.79</td>\n",
       "      <td>43.54</td>\n",
       "      <td>11.22</td>\n",
       "      <td>12.19</td>\n",
       "      <td>11.45</td>\n",
       "      <td>11.01</td>\n",
       "      <td>...</td>\n",
       "      <td>72.64</td>\n",
       "      <td>58.36</td>\n",
       "      <td>39.68</td>\n",
       "      <td>39.71</td>\n",
       "      <td>96.955858</td>\n",
       "      <td>100.509759</td>\n",
       "      <td>96.284707</td>\n",
       "      <td>96.955767</td>\n",
       "      <td>61.021445</td>\n",
       "      <td>88.929481</td>\n",
       "    </tr>\n",
       "  </tbody>\n",
       "</table>\n",
       "<p>2 rows × 145 columns</p>\n",
       "</div>"
      ],
      "text/plain": [
       "   patient_id  patient_zip3  patient_age  population  density  age_median  \\\n",
       "0      268700           724           39     3924.87    82.63       42.58   \n",
       "1      484983           629           55     2745.39    51.79       43.54   \n",
       "\n",
       "   age_under_10  age_10_to_19  age_20s  age_30s  ...  Average of Sep-18  \\\n",
       "0         11.61         13.03    10.87    11.80  ...              74.56   \n",
       "1         11.22         12.19    11.45    11.01  ...              72.64   \n",
       "\n",
       "   Average of Oct-18  Average of Nov-18  Average of Dec-18  \\\n",
       "0              59.98              42.98              41.18   \n",
       "1              58.36              39.68              39.71   \n",
       "\n",
       "   payer_type_encoded  patient_state_encoded  Region_encoded  \\\n",
       "0           96.955858              99.296296       97.336937   \n",
       "1           96.955858             100.509759       96.284707   \n",
       "\n",
       "   Division_encoded  breast_cancer_diagnosis_code_encoded  \\\n",
       "0         95.130464                             57.388827   \n",
       "1         96.955767                             61.021445   \n",
       "\n",
       "   metastatic_cancer_diagnosis_code_encoded  \n",
       "0                                 88.929481  \n",
       "1                                 88.929481  \n",
       "\n",
       "[2 rows x 145 columns]"
      ]
     },
     "execution_count": 146,
     "metadata": {},
     "output_type": "execute_result"
    }
   ],
   "source": [
    "X_train.head(2)"
   ]
  },
  {
   "cell_type": "code",
   "execution_count": 147,
   "metadata": {
    "execution": {
     "iopub.execute_input": "2024-05-31T16:45:32.118010Z",
     "iopub.status.busy": "2024-05-31T16:45:32.117253Z",
     "iopub.status.idle": "2024-05-31T16:45:32.143674Z",
     "shell.execute_reply": "2024-05-31T16:45:32.142709Z",
     "shell.execute_reply.started": "2024-05-31T16:45:32.117975Z"
    },
    "id": "HsJLlrT_nC9p"
   },
   "outputs": [
    {
     "data": {
      "text/html": [
       "<div>\n",
       "<style scoped>\n",
       "    .dataframe tbody tr th:only-of-type {\n",
       "        vertical-align: middle;\n",
       "    }\n",
       "\n",
       "    .dataframe tbody tr th {\n",
       "        vertical-align: top;\n",
       "    }\n",
       "\n",
       "    .dataframe thead th {\n",
       "        text-align: right;\n",
       "    }\n",
       "</style>\n",
       "<table border=\"1\" class=\"dataframe\">\n",
       "  <thead>\n",
       "    <tr style=\"text-align: right;\">\n",
       "      <th></th>\n",
       "      <th>patient_id</th>\n",
       "      <th>patient_zip3</th>\n",
       "      <th>patient_age</th>\n",
       "      <th>population</th>\n",
       "      <th>density</th>\n",
       "      <th>age_median</th>\n",
       "      <th>age_under_10</th>\n",
       "      <th>age_10_to_19</th>\n",
       "      <th>age_20s</th>\n",
       "      <th>age_30s</th>\n",
       "      <th>...</th>\n",
       "      <th>Average of Sep-18</th>\n",
       "      <th>Average of Oct-18</th>\n",
       "      <th>Average of Nov-18</th>\n",
       "      <th>Average of Dec-18</th>\n",
       "      <th>payer_type_encoded</th>\n",
       "      <th>patient_state_encoded</th>\n",
       "      <th>Region_encoded</th>\n",
       "      <th>Division_encoded</th>\n",
       "      <th>breast_cancer_diagnosis_code_encoded</th>\n",
       "      <th>metastatic_cancer_diagnosis_code_encoded</th>\n",
       "    </tr>\n",
       "  </thead>\n",
       "  <tbody>\n",
       "    <tr>\n",
       "      <th>0</th>\n",
       "      <td>730681</td>\n",
       "      <td>713</td>\n",
       "      <td>55</td>\n",
       "      <td>4639.07</td>\n",
       "      <td>72.66</td>\n",
       "      <td>41.50</td>\n",
       "      <td>11.40</td>\n",
       "      <td>13.44</td>\n",
       "      <td>11.42</td>\n",
       "      <td>11.45</td>\n",
       "      <td>...</td>\n",
       "      <td>80.20</td>\n",
       "      <td>69.73</td>\n",
       "      <td>53.14</td>\n",
       "      <td>51.34</td>\n",
       "      <td>96.955858</td>\n",
       "      <td>99.296296</td>\n",
       "      <td>97.336937</td>\n",
       "      <td>95.130464</td>\n",
       "      <td>57.388827</td>\n",
       "      <td>88.929481</td>\n",
       "    </tr>\n",
       "    <tr>\n",
       "      <th>1</th>\n",
       "      <td>334212</td>\n",
       "      <td>283</td>\n",
       "      <td>60</td>\n",
       "      <td>10875.30</td>\n",
       "      <td>217.91</td>\n",
       "      <td>39.64</td>\n",
       "      <td>11.23</td>\n",
       "      <td>13.72</td>\n",
       "      <td>15.01</td>\n",
       "      <td>12.02</td>\n",
       "      <td>...</td>\n",
       "      <td>78.85</td>\n",
       "      <td>64.60</td>\n",
       "      <td>50.57</td>\n",
       "      <td>48.10</td>\n",
       "      <td>96.955858</td>\n",
       "      <td>100.509759</td>\n",
       "      <td>96.284707</td>\n",
       "      <td>96.955767</td>\n",
       "      <td>61.021445</td>\n",
       "      <td>88.929481</td>\n",
       "    </tr>\n",
       "  </tbody>\n",
       "</table>\n",
       "<p>2 rows × 145 columns</p>\n",
       "</div>"
      ],
      "text/plain": [
       "   patient_id  patient_zip3  patient_age  population  density  age_median  \\\n",
       "0      730681           713           55     4639.07    72.66       41.50   \n",
       "1      334212           283           60    10875.30   217.91       39.64   \n",
       "\n",
       "   age_under_10  age_10_to_19  age_20s  age_30s  ...  Average of Sep-18  \\\n",
       "0         11.40         13.44    11.42    11.45  ...              80.20   \n",
       "1         11.23         13.72    15.01    12.02  ...              78.85   \n",
       "\n",
       "   Average of Oct-18  Average of Nov-18  Average of Dec-18  \\\n",
       "0              69.73              53.14              51.34   \n",
       "1              64.60              50.57              48.10   \n",
       "\n",
       "   payer_type_encoded  patient_state_encoded  Region_encoded  \\\n",
       "0           96.955858              99.296296       97.336937   \n",
       "1           96.955858             100.509759       96.284707   \n",
       "\n",
       "   Division_encoded  breast_cancer_diagnosis_code_encoded  \\\n",
       "0         95.130464                             57.388827   \n",
       "1         96.955767                             61.021445   \n",
       "\n",
       "   metastatic_cancer_diagnosis_code_encoded  \n",
       "0                                 88.929481  \n",
       "1                                 88.929481  \n",
       "\n",
       "[2 rows x 145 columns]"
      ]
     },
     "execution_count": 147,
     "metadata": {},
     "output_type": "execute_result"
    }
   ],
   "source": [
    "X_test.head(2)"
   ]
  },
  {
   "cell_type": "code",
   "execution_count": 148,
   "metadata": {
    "execution": {
     "iopub.execute_input": "2024-05-31T16:45:34.818074Z",
     "iopub.status.busy": "2024-05-31T16:45:34.817202Z",
     "iopub.status.idle": "2024-05-31T16:45:34.825939Z",
     "shell.execute_reply": "2024-05-31T16:45:34.824968Z",
     "shell.execute_reply.started": "2024-05-31T16:45:34.818040Z"
    },
    "id": "-A5oj8ZeQUEq"
   },
   "outputs": [
    {
     "data": {
      "text/plain": [
       "patient_id                                    int64\n",
       "patient_zip3                                  int64\n",
       "patient_age                                   int64\n",
       "population                                  float64\n",
       "density                                     float64\n",
       "                                             ...   \n",
       "patient_state_encoded                       float64\n",
       "Region_encoded                              float64\n",
       "Division_encoded                            float64\n",
       "breast_cancer_diagnosis_code_encoded        float64\n",
       "metastatic_cancer_diagnosis_code_encoded    float64\n",
       "Length: 145, dtype: object"
      ]
     },
     "execution_count": 148,
     "metadata": {},
     "output_type": "execute_result"
    }
   ],
   "source": [
    "X_train.dtypes"
   ]
  },
  {
   "cell_type": "code",
   "execution_count": 149,
   "metadata": {
    "execution": {
     "iopub.execute_input": "2024-05-31T16:45:37.888176Z",
     "iopub.status.busy": "2024-05-31T16:45:37.887477Z",
     "iopub.status.idle": "2024-05-31T16:45:37.896575Z",
     "shell.execute_reply": "2024-05-31T16:45:37.895573Z",
     "shell.execute_reply.started": "2024-05-31T16:45:37.888143Z"
    },
    "id": "ULBE4ye3nnnq"
   },
   "outputs": [
    {
     "data": {
      "text/plain": [
       "patient_id                                    int64\n",
       "patient_zip3                                  int64\n",
       "patient_age                                   int64\n",
       "population                                  float64\n",
       "density                                     float64\n",
       "                                             ...   \n",
       "patient_state_encoded                       float64\n",
       "Region_encoded                              float64\n",
       "Division_encoded                            float64\n",
       "breast_cancer_diagnosis_code_encoded        float64\n",
       "metastatic_cancer_diagnosis_code_encoded    float64\n",
       "Length: 145, dtype: object"
      ]
     },
     "execution_count": 149,
     "metadata": {},
     "output_type": "execute_result"
    }
   ],
   "source": [
    "X_test.dtypes"
   ]
  },
  {
   "cell_type": "code",
   "execution_count": 151,
   "metadata": {
    "execution": {
     "iopub.execute_input": "2024-05-31T16:45:42.768311Z",
     "iopub.status.busy": "2024-05-31T16:45:42.767542Z",
     "iopub.status.idle": "2024-05-31T16:45:42.810924Z",
     "shell.execute_reply": "2024-05-31T16:45:42.810047Z",
     "shell.execute_reply.started": "2024-05-31T16:45:42.768279Z"
    },
    "id": "eptDdrIbPmfh"
   },
   "outputs": [],
   "source": [
    "# Standardize the data set\n",
    "scaler = StandardScaler()\n",
    "# Fit and transform the training dat\n",
    "X_train_scaled = scaler.fit_transform(X_train)"
   ]
  },
  {
   "cell_type": "code",
   "execution_count": 152,
   "metadata": {
    "execution": {
     "iopub.execute_input": "2024-05-31T16:45:51.065062Z",
     "iopub.status.busy": "2024-05-31T16:45:51.064079Z",
     "iopub.status.idle": "2024-05-31T16:45:51.072082Z",
     "shell.execute_reply": "2024-05-31T16:45:51.070999Z",
     "shell.execute_reply.started": "2024-05-31T16:45:51.065025Z"
    },
    "id": "zHFFCNvcv7u1"
   },
   "outputs": [
    {
     "data": {
      "text/plain": [
       "array([[-1.10657999,  0.5610219 , -1.53379523, ..., -0.35147761,\n",
       "        -0.55595674, -0.5796733 ],\n",
       "       [-0.27277081,  0.21669723, -0.32316453, ...,  0.07481199,\n",
       "        -0.50449806, -0.5796733 ],\n",
       "       [-1.07436998,  1.28954041, -0.02050685, ..., -0.79286246,\n",
       "         1.85079442, -0.5796733 ],\n",
       "       ...,\n",
       "       [ 0.90660868,  1.30041383, -3.04708362, ..., -0.79286246,\n",
       "        -0.55371369,  0.59765218],\n",
       "       [-0.38636359, -0.31972436, -0.55015778, ...,  0.07481199,\n",
       "         1.63061471,  2.37511532],\n",
       "       [-0.67974254,  1.19892866,  0.28215083, ..., -0.79286246,\n",
       "        -0.53057005, -0.18537011]])"
      ]
     },
     "execution_count": 152,
     "metadata": {},
     "output_type": "execute_result"
    }
   ],
   "source": [
    "X_train_scaled"
   ]
  },
  {
   "cell_type": "code",
   "execution_count": 153,
   "metadata": {
    "execution": {
     "iopub.execute_input": "2024-05-31T16:45:54.587889Z",
     "iopub.status.busy": "2024-05-31T16:45:54.587230Z",
     "iopub.status.idle": "2024-05-31T16:45:54.604989Z",
     "shell.execute_reply": "2024-05-31T16:45:54.604057Z",
     "shell.execute_reply.started": "2024-05-31T16:45:54.587856Z"
    },
    "id": "5LDbfj0HngE4"
   },
   "outputs": [],
   "source": [
    "# Transform the test data\n",
    "X_test_scaled = scaler.transform(X_test)"
   ]
  },
  {
   "cell_type": "code",
   "execution_count": 154,
   "metadata": {
    "execution": {
     "iopub.execute_input": "2024-05-31T16:45:59.658357Z",
     "iopub.status.busy": "2024-05-31T16:45:59.657473Z",
     "iopub.status.idle": "2024-05-31T16:45:59.665077Z",
     "shell.execute_reply": "2024-05-31T16:45:59.664082Z",
     "shell.execute_reply.started": "2024-05-31T16:45:59.658322Z"
    },
    "id": "dmiUeG4gnttZ"
   },
   "outputs": [
    {
     "data": {
      "text/plain": [
       "array([[ 0.67443838,  0.52115273, -0.32316453, ..., -0.35147761,\n",
       "        -0.55595674, -0.5796733 ],\n",
       "       [-0.85401965, -1.03736946,  0.05515757, ...,  0.07481199,\n",
       "        -0.50449806, -0.5796733 ],\n",
       "       [ 0.06023549,  0.81473482, -0.39882895, ..., -0.79286246,\n",
       "         1.85079442, -0.5796733 ],\n",
       "       ...,\n",
       "       [-0.96740811,  1.24967124, -1.15547314, ...,  0.07481199,\n",
       "        -0.55595674, -0.5796733 ],\n",
       "       [-1.11156858,  1.22067548,  0.50914408, ...,  0.02444022,\n",
       "         1.85079442,  2.37511532],\n",
       "       [ 1.22651895, -1.62090916,  1.03879502, ...,  1.89138568,\n",
       "        -0.48796613, -0.5796733 ]])"
      ]
     },
     "execution_count": 154,
     "metadata": {},
     "output_type": "execute_result"
    }
   ],
   "source": [
    "X_test_scaled"
   ]
  },
  {
   "cell_type": "code",
   "execution_count": 155,
   "metadata": {
    "execution": {
     "iopub.execute_input": "2024-05-31T16:46:02.798690Z",
     "iopub.status.busy": "2024-05-31T16:46:02.798164Z",
     "iopub.status.idle": "2024-05-31T16:46:02.806197Z",
     "shell.execute_reply": "2024-05-31T16:46:02.805266Z",
     "shell.execute_reply.started": "2024-05-31T16:46:02.798651Z"
    },
    "id": "ajr7xSKawoWN"
   },
   "outputs": [],
   "source": [
    "nan_mask = np.isnan(X_train_scaled)\n",
    "nan_count = np.sum(nan_mask)"
   ]
  },
  {
   "cell_type": "code",
   "execution_count": 156,
   "metadata": {
    "execution": {
     "iopub.execute_input": "2024-05-31T16:46:06.567920Z",
     "iopub.status.busy": "2024-05-31T16:46:06.566969Z",
     "iopub.status.idle": "2024-05-31T16:46:06.573636Z",
     "shell.execute_reply": "2024-05-31T16:46:06.572602Z",
     "shell.execute_reply.started": "2024-05-31T16:46:06.567882Z"
    },
    "id": "srwWex_mn1z3"
   },
   "outputs": [],
   "source": [
    "nan_mask_test = np.isnan(X_test_scaled)\n",
    "nan_count_test = np.sum(nan_mask_test)"
   ]
  },
  {
   "cell_type": "code",
   "execution_count": 157,
   "metadata": {
    "execution": {
     "iopub.execute_input": "2024-05-31T16:46:09.958495Z",
     "iopub.status.busy": "2024-05-31T16:46:09.957604Z",
     "iopub.status.idle": "2024-05-31T16:46:09.963314Z",
     "shell.execute_reply": "2024-05-31T16:46:09.962291Z",
     "shell.execute_reply.started": "2024-05-31T16:46:09.958459Z"
    },
    "id": "KyTmvOLmxLlh"
   },
   "outputs": [
    {
     "name": "stdout",
     "output_type": "stream",
     "text": [
      "0\n"
     ]
    }
   ],
   "source": [
    "print(nan_count)"
   ]
  },
  {
   "cell_type": "code",
   "execution_count": 158,
   "metadata": {
    "execution": {
     "iopub.execute_input": "2024-05-31T16:46:12.317701Z",
     "iopub.status.busy": "2024-05-31T16:46:12.317296Z",
     "iopub.status.idle": "2024-05-31T16:46:12.323106Z",
     "shell.execute_reply": "2024-05-31T16:46:12.322073Z",
     "shell.execute_reply.started": "2024-05-31T16:46:12.317671Z"
    },
    "id": "OuzdmiOcoAuM"
   },
   "outputs": [
    {
     "name": "stdout",
     "output_type": "stream",
     "text": [
      "0\n"
     ]
    }
   ],
   "source": [
    "print(nan_count_test)"
   ]
  },
  {
   "cell_type": "markdown",
   "metadata": {
    "id": "9ewO4sdFGeNA"
   },
   "source": [
    "## Lasso Regularization"
   ]
  },
  {
   "cell_type": "code",
   "execution_count": 159,
   "metadata": {
    "execution": {
     "iopub.execute_input": "2024-05-31T16:46:15.437813Z",
     "iopub.status.busy": "2024-05-31T16:46:15.437099Z",
     "iopub.status.idle": "2024-05-31T16:46:15.442217Z",
     "shell.execute_reply": "2024-05-31T16:46:15.441244Z",
     "shell.execute_reply.started": "2024-05-31T16:46:15.437776Z"
    },
    "id": "fMb1AT9k29Jw"
   },
   "outputs": [],
   "source": [
    "from sklearn.linear_model import LassoCV\n",
    "from sklearn.preprocessing import StandardScaler"
   ]
  },
  {
   "cell_type": "code",
   "execution_count": 160,
   "metadata": {
    "execution": {
     "iopub.execute_input": "2024-05-31T16:46:18.738319Z",
     "iopub.status.busy": "2024-05-31T16:46:18.737519Z",
     "iopub.status.idle": "2024-05-31T16:46:19.590992Z",
     "shell.execute_reply": "2024-05-31T16:46:19.590030Z",
     "shell.execute_reply.started": "2024-05-31T16:46:18.738287Z"
    },
    "id": "3jtBHxUJGqPU"
   },
   "outputs": [
    {
     "data": {
      "text/html": [
       "<style>#sk-container-id-1 {color: black;background-color: white;}#sk-container-id-1 pre{padding: 0;}#sk-container-id-1 div.sk-toggleable {background-color: white;}#sk-container-id-1 label.sk-toggleable__label {cursor: pointer;display: block;width: 100%;margin-bottom: 0;padding: 0.3em;box-sizing: border-box;text-align: center;}#sk-container-id-1 label.sk-toggleable__label-arrow:before {content: \"▸\";float: left;margin-right: 0.25em;color: #696969;}#sk-container-id-1 label.sk-toggleable__label-arrow:hover:before {color: black;}#sk-container-id-1 div.sk-estimator:hover label.sk-toggleable__label-arrow:before {color: black;}#sk-container-id-1 div.sk-toggleable__content {max-height: 0;max-width: 0;overflow: hidden;text-align: left;background-color: #f0f8ff;}#sk-container-id-1 div.sk-toggleable__content pre {margin: 0.2em;color: black;border-radius: 0.25em;background-color: #f0f8ff;}#sk-container-id-1 input.sk-toggleable__control:checked~div.sk-toggleable__content {max-height: 200px;max-width: 100%;overflow: auto;}#sk-container-id-1 input.sk-toggleable__control:checked~label.sk-toggleable__label-arrow:before {content: \"▾\";}#sk-container-id-1 div.sk-estimator input.sk-toggleable__control:checked~label.sk-toggleable__label {background-color: #d4ebff;}#sk-container-id-1 div.sk-label input.sk-toggleable__control:checked~label.sk-toggleable__label {background-color: #d4ebff;}#sk-container-id-1 input.sk-hidden--visually {border: 0;clip: rect(1px 1px 1px 1px);clip: rect(1px, 1px, 1px, 1px);height: 1px;margin: -1px;overflow: hidden;padding: 0;position: absolute;width: 1px;}#sk-container-id-1 div.sk-estimator {font-family: monospace;background-color: #f0f8ff;border: 1px dotted black;border-radius: 0.25em;box-sizing: border-box;margin-bottom: 0.5em;}#sk-container-id-1 div.sk-estimator:hover {background-color: #d4ebff;}#sk-container-id-1 div.sk-parallel-item::after {content: \"\";width: 100%;border-bottom: 1px solid gray;flex-grow: 1;}#sk-container-id-1 div.sk-label:hover label.sk-toggleable__label {background-color: #d4ebff;}#sk-container-id-1 div.sk-serial::before {content: \"\";position: absolute;border-left: 1px solid gray;box-sizing: border-box;top: 0;bottom: 0;left: 50%;z-index: 0;}#sk-container-id-1 div.sk-serial {display: flex;flex-direction: column;align-items: center;background-color: white;padding-right: 0.2em;padding-left: 0.2em;position: relative;}#sk-container-id-1 div.sk-item {position: relative;z-index: 1;}#sk-container-id-1 div.sk-parallel {display: flex;align-items: stretch;justify-content: center;background-color: white;position: relative;}#sk-container-id-1 div.sk-item::before, #sk-container-id-1 div.sk-parallel-item::before {content: \"\";position: absolute;border-left: 1px solid gray;box-sizing: border-box;top: 0;bottom: 0;left: 50%;z-index: -1;}#sk-container-id-1 div.sk-parallel-item {display: flex;flex-direction: column;z-index: 1;position: relative;background-color: white;}#sk-container-id-1 div.sk-parallel-item:first-child::after {align-self: flex-end;width: 50%;}#sk-container-id-1 div.sk-parallel-item:last-child::after {align-self: flex-start;width: 50%;}#sk-container-id-1 div.sk-parallel-item:only-child::after {width: 0;}#sk-container-id-1 div.sk-dashed-wrapped {border: 1px dashed gray;margin: 0 0.4em 0.5em 0.4em;box-sizing: border-box;padding-bottom: 0.4em;background-color: white;}#sk-container-id-1 div.sk-label label {font-family: monospace;font-weight: bold;display: inline-block;line-height: 1.2em;}#sk-container-id-1 div.sk-label-container {text-align: center;}#sk-container-id-1 div.sk-container {/* jupyter's `normalize.less` sets `[hidden] { display: none; }` but bootstrap.min.css set `[hidden] { display: none !important; }` so we also need the `!important` here to be able to override the default hidden behavior on the sphinx rendered scikit-learn.org. See: https://github.com/scikit-learn/scikit-learn/issues/21755 */display: inline-block !important;position: relative;}#sk-container-id-1 div.sk-text-repr-fallback {display: none;}</style><div id=\"sk-container-id-1\" class=\"sk-top-container\"><div class=\"sk-text-repr-fallback\"><pre>LassoCV(cv=5)</pre><b>In a Jupyter environment, please rerun this cell to show the HTML representation or trust the notebook. <br />On GitHub, the HTML representation is unable to render, please try loading this page with nbviewer.org.</b></div><div class=\"sk-container\" hidden><div class=\"sk-item\"><div class=\"sk-estimator sk-toggleable\"><input class=\"sk-toggleable__control sk-hidden--visually\" id=\"sk-estimator-id-1\" type=\"checkbox\" checked><label for=\"sk-estimator-id-1\" class=\"sk-toggleable__label sk-toggleable__label-arrow\">LassoCV</label><div class=\"sk-toggleable__content\"><pre>LassoCV(cv=5)</pre></div></div></div></div></div>"
      ],
      "text/plain": [
       "LassoCV(cv=5)"
      ]
     },
     "execution_count": 160,
     "metadata": {},
     "output_type": "execute_result"
    }
   ],
   "source": [
    "lasso = LassoCV(cv=5)  # LassoCV automatically performs cross-validation for alpha selection\n",
    "lasso.fit(X_train_scaled, Y_train)"
   ]
  },
  {
   "cell_type": "code",
   "execution_count": 161,
   "metadata": {
    "execution": {
     "iopub.execute_input": "2024-05-31T16:46:22.567840Z",
     "iopub.status.busy": "2024-05-31T16:46:22.567447Z",
     "iopub.status.idle": "2024-05-31T16:46:22.572184Z",
     "shell.execute_reply": "2024-05-31T16:46:22.571050Z",
     "shell.execute_reply.started": "2024-05-31T16:46:22.567809Z"
    },
    "id": "wpravYSbHCtw"
   },
   "outputs": [],
   "source": [
    "lasso_coefs = lasso.coef_"
   ]
  },
  {
   "cell_type": "code",
   "execution_count": 162,
   "metadata": {
    "execution": {
     "iopub.execute_input": "2024-05-31T16:46:26.957925Z",
     "iopub.status.busy": "2024-05-31T16:46:26.957525Z",
     "iopub.status.idle": "2024-05-31T16:46:26.963030Z",
     "shell.execute_reply": "2024-05-31T16:46:26.961986Z",
     "shell.execute_reply.started": "2024-05-31T16:46:26.957896Z"
    },
    "id": "WvGg4ZJ-IJiJ"
   },
   "outputs": [
    {
     "name": "stdout",
     "output_type": "stream",
     "text": [
      "Number of coefficients: 145\n"
     ]
    }
   ],
   "source": [
    "print(\"Number of coefficients:\", len(lasso_coefs))\n"
   ]
  },
  {
   "cell_type": "code",
   "execution_count": 163,
   "metadata": {
    "execution": {
     "iopub.execute_input": "2024-05-31T16:46:30.090794Z",
     "iopub.status.busy": "2024-05-31T16:46:30.090174Z",
     "iopub.status.idle": "2024-05-31T16:46:30.097338Z",
     "shell.execute_reply": "2024-05-31T16:46:30.096198Z",
     "shell.execute_reply.started": "2024-05-31T16:46:30.090759Z"
    },
    "id": "8KPiCw10HHS1"
   },
   "outputs": [
    {
     "data": {
      "text/plain": [
       "16"
      ]
     },
     "execution_count": 163,
     "metadata": {},
     "output_type": "execute_result"
    }
   ],
   "source": [
    "selected_features_indices = [i for i, coef in enumerate(lasso_coefs) if coef != 0]\n",
    "len(selected_features_indices)\n"
   ]
  },
  {
   "cell_type": "code",
   "execution_count": 164,
   "metadata": {
    "colab": {
     "base_uri": "https://localhost:8080/"
    },
    "execution": {
     "iopub.execute_input": "2024-05-31T16:46:32.277946Z",
     "iopub.status.busy": "2024-05-31T16:46:32.277540Z",
     "iopub.status.idle": "2024-05-31T16:46:32.284752Z",
     "shell.execute_reply": "2024-05-31T16:46:32.283701Z",
     "shell.execute_reply.started": "2024-05-31T16:46:32.277912Z"
    },
    "id": "Smdz9ieVI56B",
    "outputId": "9c0fa24e-3299-45f3-929a-f32b103f2e76"
   },
   "outputs": [
    {
     "data": {
      "text/plain": [
       "[0, 2, 44, 48, 49, 51, 52, 53, 54, 66, 73, 85, 139, 140, 143, 144]"
      ]
     },
     "execution_count": 164,
     "metadata": {},
     "output_type": "execute_result"
    }
   ],
   "source": [
    "selected_features_indices"
   ]
  },
  {
   "cell_type": "code",
   "execution_count": 168,
   "metadata": {
    "execution": {
     "iopub.execute_input": "2024-05-31T16:50:19.437544Z",
     "iopub.status.busy": "2024-05-31T16:50:19.436766Z",
     "iopub.status.idle": "2024-05-31T16:50:19.441984Z",
     "shell.execute_reply": "2024-05-31T16:50:19.440931Z",
     "shell.execute_reply.started": "2024-05-31T16:50:19.437510Z"
    }
   },
   "outputs": [],
   "source": [
    "column_names = [X_train.columns[i] for i in selected_features_indices]"
   ]
  },
  {
   "cell_type": "code",
   "execution_count": 169,
   "metadata": {
    "execution": {
     "iopub.execute_input": "2024-05-31T16:50:23.909136Z",
     "iopub.status.busy": "2024-05-31T16:50:23.908349Z",
     "iopub.status.idle": "2024-05-31T16:50:23.915642Z",
     "shell.execute_reply": "2024-05-31T16:50:23.914454Z",
     "shell.execute_reply.started": "2024-05-31T16:50:23.909101Z"
    }
   },
   "outputs": [
    {
     "data": {
      "text/plain": [
       "['patient_id',\n",
       " 'patient_age',\n",
       " 'education_some_college',\n",
       " 'education_stem_degree',\n",
       " 'labor_force_participation',\n",
       " 'self_employed',\n",
       " 'farmer',\n",
       " 'race_white',\n",
       " 'race_black',\n",
       " 'veteran',\n",
       " 'Average of Jul-13',\n",
       " 'Average of Jul-14',\n",
       " 'payer_type_encoded',\n",
       " 'patient_state_encoded',\n",
       " 'breast_cancer_diagnosis_code_encoded',\n",
       " 'metastatic_cancer_diagnosis_code_encoded']"
      ]
     },
     "execution_count": 169,
     "metadata": {},
     "output_type": "execute_result"
    }
   ],
   "source": [
    "column_names"
   ]
  },
  {
   "cell_type": "code",
   "execution_count": 170,
   "metadata": {
    "execution": {
     "iopub.execute_input": "2024-05-31T16:51:06.916954Z",
     "iopub.status.busy": "2024-05-31T16:51:06.916539Z",
     "iopub.status.idle": "2024-05-31T16:51:06.923928Z",
     "shell.execute_reply": "2024-05-31T16:51:06.922775Z",
     "shell.execute_reply.started": "2024-05-31T16:51:06.916922Z"
    }
   },
   "outputs": [
    {
     "data": {
      "text/plain": [
       "16"
      ]
     },
     "execution_count": 170,
     "metadata": {},
     "output_type": "execute_result"
    }
   ],
   "source": [
    "len(column_names)"
   ]
  },
  {
   "cell_type": "code",
   "execution_count": 165,
   "metadata": {
    "execution": {
     "iopub.execute_input": "2024-05-31T16:46:38.307770Z",
     "iopub.status.busy": "2024-05-31T16:46:38.307364Z",
     "iopub.status.idle": "2024-05-31T16:46:38.313523Z",
     "shell.execute_reply": "2024-05-31T16:46:38.312205Z",
     "shell.execute_reply.started": "2024-05-31T16:46:38.307739Z"
    },
    "id": "XoylCC89JFfv"
   },
   "outputs": [],
   "source": [
    "# Select only the selected features from the scaled datasets\n",
    "X_train_data = X_train_scaled[:, selected_features_indices]\n",
    "X_test_data= X_test_scaled[:, selected_features_indices]\n"
   ]
  },
  {
   "cell_type": "code",
   "execution_count": 171,
   "metadata": {
    "execution": {
     "iopub.execute_input": "2024-05-31T16:52:22.288392Z",
     "iopub.status.busy": "2024-05-31T16:52:22.287482Z",
     "iopub.status.idle": "2024-05-31T16:52:22.293284Z",
     "shell.execute_reply": "2024-05-31T16:52:22.292347Z",
     "shell.execute_reply.started": "2024-05-31T16:52:22.288350Z"
    }
   },
   "outputs": [],
   "source": [
    "X_train_df = pd.DataFrame(X_train_data, columns=column_names)\n",
    "X_test_df = pd.DataFrame(X_test_data, columns=column_names)"
   ]
  },
  {
   "cell_type": "code",
   "execution_count": 172,
   "metadata": {
    "execution": {
     "iopub.execute_input": "2024-05-31T16:52:39.957319Z",
     "iopub.status.busy": "2024-05-31T16:52:39.956679Z",
     "iopub.status.idle": "2024-05-31T16:52:39.963266Z",
     "shell.execute_reply": "2024-05-31T16:52:39.962349Z",
     "shell.execute_reply.started": "2024-05-31T16:52:39.957288Z"
    }
   },
   "outputs": [
    {
     "data": {
      "text/plain": [
       "(12914, 16)"
      ]
     },
     "execution_count": 172,
     "metadata": {},
     "output_type": "execute_result"
    }
   ],
   "source": [
    "X_train_df.shape"
   ]
  },
  {
   "cell_type": "code",
   "execution_count": 173,
   "metadata": {
    "execution": {
     "iopub.execute_input": "2024-05-31T16:53:01.921454Z",
     "iopub.status.busy": "2024-05-31T16:53:01.920408Z",
     "iopub.status.idle": "2024-05-31T16:53:01.927455Z",
     "shell.execute_reply": "2024-05-31T16:53:01.926418Z",
     "shell.execute_reply.started": "2024-05-31T16:53:01.921416Z"
    }
   },
   "outputs": [
    {
     "data": {
      "text/plain": [
       "(5646, 16)"
      ]
     },
     "execution_count": 173,
     "metadata": {},
     "output_type": "execute_result"
    }
   ],
   "source": [
    "X_test_df.shape"
   ]
  },
  {
   "cell_type": "markdown",
   "metadata": {
    "id": "TjevGmXW55Z-"
   },
   "source": [
    "### Cross Validation and Model Selection"
   ]
  },
  {
   "cell_type": "code",
   "execution_count": 174,
   "metadata": {
    "execution": {
     "iopub.execute_input": "2024-05-31T16:53:26.538306Z",
     "iopub.status.busy": "2024-05-31T16:53:26.537427Z",
     "iopub.status.idle": "2024-05-31T16:53:26.815436Z",
     "shell.execute_reply": "2024-05-31T16:53:26.814686Z",
     "shell.execute_reply.started": "2024-05-31T16:53:26.538270Z"
    },
    "id": "muMl0mZp5-2-"
   },
   "outputs": [],
   "source": [
    "from sklearn.svm import SVR\n",
    "from sklearn.linear_model import LinearRegression\n",
    "from sklearn.linear_model import SGDRegressor\n",
    "from sklearn.neighbors import KNeighborsRegressor\n",
    "from sklearn.gaussian_process import GaussianProcessRegressor\n",
    "from sklearn.tree import DecisionTreeRegressor\n",
    "\n",
    "from sklearn.ensemble import RandomForestRegressor\n",
    "from sklearn.ensemble import GradientBoostingRegressor\n",
    "\n",
    "from sklearn.neural_network import MLPRegressor\n",
    "\n",
    "from xgboost import XGBRegressor"
   ]
  },
  {
   "cell_type": "code",
   "execution_count": 175,
   "metadata": {
    "execution": {
     "iopub.execute_input": "2024-05-31T16:53:32.547585Z",
     "iopub.status.busy": "2024-05-31T16:53:32.546677Z",
     "iopub.status.idle": "2024-05-31T16:53:32.552810Z",
     "shell.execute_reply": "2024-05-31T16:53:32.551623Z",
     "shell.execute_reply.started": "2024-05-31T16:53:32.547538Z"
    },
    "id": "m_QKMm_998fU"
   },
   "outputs": [],
   "source": [
    "svr = SVR()\n",
    "lr = LinearRegression()\n",
    "sgdr = SGDRegressor()\n",
    "knnr = KNeighborsRegressor()\n",
    "gpr = GaussianProcessRegressor()\n",
    "dtr = DecisionTreeRegressor()\n",
    "rfr = RandomForestRegressor()\n",
    "gbr = GradientBoostingRegressor()\n",
    "mlpr = MLPRegressor()\n",
    "xgbr = XGBRegressor()"
   ]
  },
  {
   "cell_type": "code",
   "execution_count": 176,
   "metadata": {
    "execution": {
     "iopub.execute_input": "2024-05-31T16:53:37.927634Z",
     "iopub.status.busy": "2024-05-31T16:53:37.926727Z",
     "iopub.status.idle": "2024-05-31T16:53:37.932190Z",
     "shell.execute_reply": "2024-05-31T16:53:37.931218Z",
     "shell.execute_reply.started": "2024-05-31T16:53:37.927584Z"
    },
    "id": "wOuF-B0w_WGq"
   },
   "outputs": [],
   "source": [
    "# Create a dictionary to store the models\n",
    "models = {\n",
    "    'Support Vector Regressor': svr,\n",
    "    'Linear Regression': lr,\n",
    "    'SGD Regressor': sgdr,\n",
    "    'K-Nearest Neighbors Regressor': knnr,\n",
    "    'Gaussian Process Regressor': gpr,\n",
    "    'Decision Tree Regressor': dtr,\n",
    "    'Random Forest Regressor': rfr,\n",
    "    'Gradient Boosting Regressor': gbr,\n",
    "    'MLP Regressor': mlpr,\n",
    "    'XGBoost Regressor': xgbr\n",
    "}"
   ]
  },
  {
   "cell_type": "code",
   "execution_count": 177,
   "metadata": {
    "execution": {
     "iopub.execute_input": "2024-05-31T16:53:45.807428Z",
     "iopub.status.busy": "2024-05-31T16:53:45.807047Z",
     "iopub.status.idle": "2024-05-31T16:53:45.812256Z",
     "shell.execute_reply": "2024-05-31T16:53:45.811119Z",
     "shell.execute_reply.started": "2024-05-31T16:53:45.807398Z"
    },
    "id": "HHX8GA3s_ZAe"
   },
   "outputs": [],
   "source": [
    "from sklearn.model_selection import cross_val_predict, cross_val_score, KFold\n",
    "from sklearn.metrics import mean_squared_error, r2_score\n",
    "import joblib"
   ]
  },
  {
   "cell_type": "code",
   "execution_count": 178,
   "metadata": {
    "execution": {
     "iopub.execute_input": "2024-05-31T16:53:52.557814Z",
     "iopub.status.busy": "2024-05-31T16:53:52.556837Z",
     "iopub.status.idle": "2024-05-31T16:53:52.565359Z",
     "shell.execute_reply": "2024-05-31T16:53:52.564248Z",
     "shell.execute_reply.started": "2024-05-31T16:53:52.557779Z"
    },
    "id": "7Hh3a66aBe5R"
   },
   "outputs": [],
   "source": [
    "def evaluate_models(models, X_train, y_train, X_test, y_test, cv=5):\n",
    "\n",
    "    results = {}\n",
    "\n",
    "    for name, model in models.items():\n",
    "        print(f\"Training {name}...\")\n",
    "\n",
    "        # Perform cross-validation\n",
    "        y_train_pred = cross_val_predict(model, X_train, y_train, cv=cv)\n",
    "        rmse_cv = np.sqrt(mean_squared_error(y_train, y_train_pred))\n",
    "        r2_cv = r2_score(y_train, y_train_pred)\n",
    "\n",
    "        # Train on the full training set and predict on the test set\n",
    "        model.fit(X_train, y_train)\n",
    "        y_test_pred = model.predict(X_test)\n",
    "        rmse_test = np.sqrt(mean_squared_error(y_test, y_test_pred))\n",
    "        r2_test = r2_score(y_test, y_test_pred)\n",
    "\n",
    "        # Store the results\n",
    "        results[name] = {\n",
    "            'RMSE_CV': rmse_cv,\n",
    "            'R²_CV': r2_cv,\n",
    "            'RMSE_Test': rmse_test,\n",
    "            'R²_Test': r2_test\n",
    "        }\n",
    "\n",
    "        print(f\"{name} - Cross-Validation RMSE: {rmse_cv}, R²: {r2_cv}\")\n",
    "        print(f\"{name} - Test RMSE: {rmse_test}, R²: {r2_test}\")\n",
    "\n",
    "        # Save the model\n",
    "        #joblib.dump(model, f'{name.replace(\" \", \"_\").lower()}_model.pkl')\n",
    "\n",
    "    return results\n"
   ]
  },
  {
   "cell_type": "code",
   "execution_count": 179,
   "metadata": {
    "colab": {
     "base_uri": "https://localhost:8080/"
    },
    "execution": {
     "iopub.execute_input": "2024-05-31T16:54:49.596977Z",
     "iopub.status.busy": "2024-05-31T16:54:49.596587Z",
     "iopub.status.idle": "2024-05-31T17:01:03.841646Z",
     "shell.execute_reply": "2024-05-31T17:01:03.840520Z",
     "shell.execute_reply.started": "2024-05-31T16:54:49.596947Z"
    },
    "id": "kB28zXTECa5a",
    "outputId": "a601896b-43ef-49e9-d80c-a99b85bc3ad9"
   },
   "outputs": [
    {
     "name": "stdout",
     "output_type": "stream",
     "text": [
      "Training Support Vector Regressor...\n",
      "Support Vector Regressor - Cross-Validation RMSE: 92.01269910980736, R²: 0.28833553878460527\n",
      "Support Vector Regressor - Test RMSE: 68.41806639873226, R²: -329.83258736514824\n",
      "Training Linear Regression...\n",
      "Linear Regression - Cross-Validation RMSE: 82.73161861569021, R²: 0.4246623697917402\n",
      "Linear Regression - Test RMSE: 70.58159333606042, R²: -351.08668802302293\n",
      "Training SGD Regressor...\n",
      "SGD Regressor - Cross-Validation RMSE: 82.75517109284256, R²: 0.4243347428106822\n",
      "SGD Regressor - Test RMSE: 68.38701380861345, R²: -329.5323486139749\n",
      "Training K-Nearest Neighbors Regressor...\n",
      "K-Nearest Neighbors Regressor - Cross-Validation RMSE: 90.64650755824714, R²: 0.3093120326862795\n",
      "K-Nearest Neighbors Regressor - Test RMSE: 78.0283083502573, R²: -429.2997286019864\n",
      "Training Gaussian Process Regressor...\n",
      "Gaussian Process Regressor - Cross-Validation RMSE: 351.67174525729973, R²: -9.395722813464483\n",
      "Gaussian Process Regressor - Test RMSE: 454.33835117626467, R²: -14587.998657473265\n",
      "Training Decision Tree Regressor...\n",
      "Decision Tree Regressor - Cross-Validation RMSE: 119.70958773504566, R²: -0.20458543589728384\n",
      "Decision Tree Regressor - Test RMSE: 111.65545277597764, R²: -880.102763001064\n",
      "Training Random Forest Regressor...\n",
      "Random Forest Regressor - Cross-Validation RMSE: 85.47471299354441, R²: 0.385877456292569\n",
      "Random Forest Regressor - Test RMSE: 68.70190131565069, R²: -332.58322393106323\n",
      "Training Gradient Boosting Regressor...\n",
      "Gradient Boosting Regressor - Cross-Validation RMSE: 82.11045216905775, R²: 0.43326944876565177\n",
      "Gradient Boosting Regressor - Test RMSE: 70.03636135359687, R²: -345.66806686050467\n",
      "Training MLP Regressor...\n"
     ]
    },
    {
     "name": "stderr",
     "output_type": "stream",
     "text": [
      "/opt/conda/lib/python3.10/site-packages/sklearn/neural_network/_multilayer_perceptron.py:686: ConvergenceWarning: Stochastic Optimizer: Maximum iterations (200) reached and the optimization hasn't converged yet.\n",
      "  warnings.warn(\n",
      "/opt/conda/lib/python3.10/site-packages/sklearn/neural_network/_multilayer_perceptron.py:686: ConvergenceWarning: Stochastic Optimizer: Maximum iterations (200) reached and the optimization hasn't converged yet.\n",
      "  warnings.warn(\n",
      "/opt/conda/lib/python3.10/site-packages/sklearn/neural_network/_multilayer_perceptron.py:686: ConvergenceWarning: Stochastic Optimizer: Maximum iterations (200) reached and the optimization hasn't converged yet.\n",
      "  warnings.warn(\n",
      "/opt/conda/lib/python3.10/site-packages/sklearn/neural_network/_multilayer_perceptron.py:686: ConvergenceWarning: Stochastic Optimizer: Maximum iterations (200) reached and the optimization hasn't converged yet.\n",
      "  warnings.warn(\n",
      "/opt/conda/lib/python3.10/site-packages/sklearn/neural_network/_multilayer_perceptron.py:686: ConvergenceWarning: Stochastic Optimizer: Maximum iterations (200) reached and the optimization hasn't converged yet.\n",
      "  warnings.warn(\n",
      "/opt/conda/lib/python3.10/site-packages/sklearn/neural_network/_multilayer_perceptron.py:686: ConvergenceWarning: Stochastic Optimizer: Maximum iterations (200) reached and the optimization hasn't converged yet.\n",
      "  warnings.warn(\n"
     ]
    },
    {
     "name": "stdout",
     "output_type": "stream",
     "text": [
      "MLP Regressor - Cross-Validation RMSE: 82.8305435458706, R²: 0.42328564675489044\n",
      "MLP Regressor - Test RMSE: 71.06570263123015, R²: -355.93307845756146\n",
      "Training XGBoost Regressor...\n",
      "XGBoost Regressor - Cross-Validation RMSE: 87.35678645164953, R²: 0.3585348942887726\n",
      "XGBoost Regressor - Test RMSE: 76.83396155591791, R²: -416.2277069659171\n",
      "\n",
      "Evaluation Results:\n",
      "                                  RMSE_CV     R²_CV   RMSE_Test       R²_Test\n",
      "Support Vector Regressor        92.012699  0.288336   68.418066   -329.832587\n",
      "Linear Regression               82.731619  0.424662   70.581593   -351.086688\n",
      "SGD Regressor                   82.755171  0.424335   68.387014   -329.532349\n",
      "K-Nearest Neighbors Regressor   90.646508  0.309312   78.028308   -429.299729\n",
      "Gaussian Process Regressor     351.671745 -9.395723  454.338351 -14587.998657\n",
      "Decision Tree Regressor        119.709588 -0.204585  111.655453   -880.102763\n",
      "Random Forest Regressor         85.474713  0.385877   68.701901   -332.583224\n",
      "Gradient Boosting Regressor     82.110452  0.433269   70.036361   -345.668067\n",
      "MLP Regressor                   82.830544  0.423286   71.065703   -355.933078\n",
      "XGBoost Regressor               87.356786  0.358535   76.833962   -416.227707\n"
     ]
    }
   ],
   "source": [
    "# Assuming X_train, y_train, X_test, y_test are already defined\n",
    "results = evaluate_models(models,X_train_df,Y_train,X_test_df,y_test)\n",
    "\n",
    "# Display the results\n",
    "results_df = pd.DataFrame(results).T\n",
    "print(\"\\nEvaluation Results:\")\n",
    "print(results_df)"
   ]
  },
  {
   "cell_type": "markdown",
   "metadata": {
    "id": "dUTAOZVBHyBc"
   },
   "source": [
    "## SGD Regression\n",
    "\n"
   ]
  },
  {
   "cell_type": "code",
   "execution_count": 180,
   "metadata": {
    "execution": {
     "iopub.execute_input": "2024-05-31T17:08:33.969019Z",
     "iopub.status.busy": "2024-05-31T17:08:33.967747Z",
     "iopub.status.idle": "2024-05-31T17:08:33.973975Z",
     "shell.execute_reply": "2024-05-31T17:08:33.972919Z",
     "shell.execute_reply.started": "2024-05-31T17:08:33.968986Z"
    },
    "id": "pbzGDUGdH0FJ"
   },
   "outputs": [],
   "source": [
    "# Define the SGDRegressor\n",
    "sgd = SGDRegressor(max_iter=1000, tol=1e-3, random_state=42)"
   ]
  },
  {
   "cell_type": "code",
   "execution_count": 181,
   "metadata": {
    "colab": {
     "base_uri": "https://localhost:8080/",
     "height": 196
    },
    "execution": {
     "iopub.execute_input": "2024-05-31T17:09:15.255114Z",
     "iopub.status.busy": "2024-05-31T17:09:15.253703Z",
     "iopub.status.idle": "2024-05-31T17:09:15.310409Z",
     "shell.execute_reply": "2024-05-31T17:09:15.309399Z",
     "shell.execute_reply.started": "2024-05-31T17:09:15.255070Z"
    },
    "id": "YSy4fkocI4TY",
    "outputId": "b647db8f-70f0-4295-b919-0804b203b845"
   },
   "outputs": [
    {
     "data": {
      "text/html": [
       "<style>#sk-container-id-2 {color: black;background-color: white;}#sk-container-id-2 pre{padding: 0;}#sk-container-id-2 div.sk-toggleable {background-color: white;}#sk-container-id-2 label.sk-toggleable__label {cursor: pointer;display: block;width: 100%;margin-bottom: 0;padding: 0.3em;box-sizing: border-box;text-align: center;}#sk-container-id-2 label.sk-toggleable__label-arrow:before {content: \"▸\";float: left;margin-right: 0.25em;color: #696969;}#sk-container-id-2 label.sk-toggleable__label-arrow:hover:before {color: black;}#sk-container-id-2 div.sk-estimator:hover label.sk-toggleable__label-arrow:before {color: black;}#sk-container-id-2 div.sk-toggleable__content {max-height: 0;max-width: 0;overflow: hidden;text-align: left;background-color: #f0f8ff;}#sk-container-id-2 div.sk-toggleable__content pre {margin: 0.2em;color: black;border-radius: 0.25em;background-color: #f0f8ff;}#sk-container-id-2 input.sk-toggleable__control:checked~div.sk-toggleable__content {max-height: 200px;max-width: 100%;overflow: auto;}#sk-container-id-2 input.sk-toggleable__control:checked~label.sk-toggleable__label-arrow:before {content: \"▾\";}#sk-container-id-2 div.sk-estimator input.sk-toggleable__control:checked~label.sk-toggleable__label {background-color: #d4ebff;}#sk-container-id-2 div.sk-label input.sk-toggleable__control:checked~label.sk-toggleable__label {background-color: #d4ebff;}#sk-container-id-2 input.sk-hidden--visually {border: 0;clip: rect(1px 1px 1px 1px);clip: rect(1px, 1px, 1px, 1px);height: 1px;margin: -1px;overflow: hidden;padding: 0;position: absolute;width: 1px;}#sk-container-id-2 div.sk-estimator {font-family: monospace;background-color: #f0f8ff;border: 1px dotted black;border-radius: 0.25em;box-sizing: border-box;margin-bottom: 0.5em;}#sk-container-id-2 div.sk-estimator:hover {background-color: #d4ebff;}#sk-container-id-2 div.sk-parallel-item::after {content: \"\";width: 100%;border-bottom: 1px solid gray;flex-grow: 1;}#sk-container-id-2 div.sk-label:hover label.sk-toggleable__label {background-color: #d4ebff;}#sk-container-id-2 div.sk-serial::before {content: \"\";position: absolute;border-left: 1px solid gray;box-sizing: border-box;top: 0;bottom: 0;left: 50%;z-index: 0;}#sk-container-id-2 div.sk-serial {display: flex;flex-direction: column;align-items: center;background-color: white;padding-right: 0.2em;padding-left: 0.2em;position: relative;}#sk-container-id-2 div.sk-item {position: relative;z-index: 1;}#sk-container-id-2 div.sk-parallel {display: flex;align-items: stretch;justify-content: center;background-color: white;position: relative;}#sk-container-id-2 div.sk-item::before, #sk-container-id-2 div.sk-parallel-item::before {content: \"\";position: absolute;border-left: 1px solid gray;box-sizing: border-box;top: 0;bottom: 0;left: 50%;z-index: -1;}#sk-container-id-2 div.sk-parallel-item {display: flex;flex-direction: column;z-index: 1;position: relative;background-color: white;}#sk-container-id-2 div.sk-parallel-item:first-child::after {align-self: flex-end;width: 50%;}#sk-container-id-2 div.sk-parallel-item:last-child::after {align-self: flex-start;width: 50%;}#sk-container-id-2 div.sk-parallel-item:only-child::after {width: 0;}#sk-container-id-2 div.sk-dashed-wrapped {border: 1px dashed gray;margin: 0 0.4em 0.5em 0.4em;box-sizing: border-box;padding-bottom: 0.4em;background-color: white;}#sk-container-id-2 div.sk-label label {font-family: monospace;font-weight: bold;display: inline-block;line-height: 1.2em;}#sk-container-id-2 div.sk-label-container {text-align: center;}#sk-container-id-2 div.sk-container {/* jupyter's `normalize.less` sets `[hidden] { display: none; }` but bootstrap.min.css set `[hidden] { display: none !important; }` so we also need the `!important` here to be able to override the default hidden behavior on the sphinx rendered scikit-learn.org. See: https://github.com/scikit-learn/scikit-learn/issues/21755 */display: inline-block !important;position: relative;}#sk-container-id-2 div.sk-text-repr-fallback {display: none;}</style><div id=\"sk-container-id-2\" class=\"sk-top-container\"><div class=\"sk-text-repr-fallback\"><pre>SGDRegressor(random_state=42)</pre><b>In a Jupyter environment, please rerun this cell to show the HTML representation or trust the notebook. <br />On GitHub, the HTML representation is unable to render, please try loading this page with nbviewer.org.</b></div><div class=\"sk-container\" hidden><div class=\"sk-item\"><div class=\"sk-estimator sk-toggleable\"><input class=\"sk-toggleable__control sk-hidden--visually\" id=\"sk-estimator-id-2\" type=\"checkbox\" checked><label for=\"sk-estimator-id-2\" class=\"sk-toggleable__label sk-toggleable__label-arrow\">SGDRegressor</label><div class=\"sk-toggleable__content\"><pre>SGDRegressor(random_state=42)</pre></div></div></div></div></div>"
      ],
      "text/plain": [
       "SGDRegressor(random_state=42)"
      ]
     },
     "execution_count": 181,
     "metadata": {},
     "output_type": "execute_result"
    }
   ],
   "source": [
    "sgd.fit(X_train_df, Y_train)"
   ]
  },
  {
   "cell_type": "code",
   "execution_count": 183,
   "metadata": {
    "execution": {
     "iopub.execute_input": "2024-05-31T17:13:00.397509Z",
     "iopub.status.busy": "2024-05-31T17:13:00.397116Z",
     "iopub.status.idle": "2024-05-31T17:13:00.412033Z",
     "shell.execute_reply": "2024-05-31T17:13:00.411007Z",
     "shell.execute_reply.started": "2024-05-31T17:13:00.397482Z"
    }
   },
   "outputs": [
    {
     "name": "stdout",
     "output_type": "stream",
     "text": [
      "Initial R^2: -341.57796388955967\n",
      "Initial RMSE: 69.62197955201869\n"
     ]
    }
   ],
   "source": [
    "y_pred = sgd.predict(X_test_df)\n",
    "r2 = r2_score(y_test, y_pred)\n",
    "rmse = np.sqrt(mean_squared_error(y_test, y_pred))\n",
    "print(f'Initial R^2: {r2}')\n",
    "print(f'Initial RMSE: {rmse}')\n"
   ]
  },
  {
   "cell_type": "code",
   "execution_count": 185,
   "metadata": {
    "execution": {
     "iopub.execute_input": "2024-05-31T17:13:25.767346Z",
     "iopub.status.busy": "2024-05-31T17:13:25.766647Z",
     "iopub.status.idle": "2024-05-31T17:13:25.772616Z",
     "shell.execute_reply": "2024-05-31T17:13:25.771612Z",
     "shell.execute_reply.started": "2024-05-31T17:13:25.767289Z"
    }
   },
   "outputs": [],
   "source": [
    "param_grid = {\n",
    "    'alpha': [0.0001, 0.001, 0.01, 0.1, 1],\n",
    "    'learning_rate': ['constant', 'optimal', 'invscaling', 'adaptive'],\n",
    "    'eta0': [0.001, 0.01, 0.1, 1]  # Initial learning rate\n",
    "}"
   ]
  },
  {
   "cell_type": "code",
   "execution_count": 194,
   "metadata": {
    "execution": {
     "iopub.execute_input": "2024-05-31T17:18:10.932590Z",
     "iopub.status.busy": "2024-05-31T17:18:10.931901Z",
     "iopub.status.idle": "2024-05-31T17:19:25.617518Z",
     "shell.execute_reply": "2024-05-31T17:19:25.616380Z",
     "shell.execute_reply.started": "2024-05-31T17:18:10.932541Z"
    }
   },
   "outputs": [
    {
     "name": "stderr",
     "output_type": "stream",
     "text": [
      "/opt/conda/lib/python3.10/site-packages/sklearn/linear_model/_stochastic_gradient.py:1548: ConvergenceWarning: Maximum number of iteration reached before convergence. Consider increasing max_iter to improve the fit.\n",
      "  warnings.warn(\n",
      "/opt/conda/lib/python3.10/site-packages/sklearn/linear_model/_stochastic_gradient.py:1548: ConvergenceWarning: Maximum number of iteration reached before convergence. Consider increasing max_iter to improve the fit.\n",
      "  warnings.warn(\n",
      "/opt/conda/lib/python3.10/site-packages/sklearn/linear_model/_stochastic_gradient.py:1548: ConvergenceWarning: Maximum number of iteration reached before convergence. Consider increasing max_iter to improve the fit.\n",
      "  warnings.warn(\n",
      "/opt/conda/lib/python3.10/site-packages/sklearn/linear_model/_stochastic_gradient.py:1548: ConvergenceWarning: Maximum number of iteration reached before convergence. Consider increasing max_iter to improve the fit.\n",
      "  warnings.warn(\n",
      "/opt/conda/lib/python3.10/site-packages/sklearn/linear_model/_stochastic_gradient.py:1548: ConvergenceWarning: Maximum number of iteration reached before convergence. Consider increasing max_iter to improve the fit.\n",
      "  warnings.warn(\n",
      "/opt/conda/lib/python3.10/site-packages/sklearn/linear_model/_stochastic_gradient.py:1548: ConvergenceWarning: Maximum number of iteration reached before convergence. Consider increasing max_iter to improve the fit.\n",
      "  warnings.warn(\n",
      "/opt/conda/lib/python3.10/site-packages/sklearn/linear_model/_stochastic_gradient.py:1548: ConvergenceWarning: Maximum number of iteration reached before convergence. Consider increasing max_iter to improve the fit.\n",
      "  warnings.warn(\n",
      "/opt/conda/lib/python3.10/site-packages/sklearn/linear_model/_stochastic_gradient.py:1548: ConvergenceWarning: Maximum number of iteration reached before convergence. Consider increasing max_iter to improve the fit.\n",
      "  warnings.warn(\n",
      "/opt/conda/lib/python3.10/site-packages/sklearn/linear_model/_stochastic_gradient.py:1548: ConvergenceWarning: Maximum number of iteration reached before convergence. Consider increasing max_iter to improve the fit.\n",
      "  warnings.warn(\n",
      "/opt/conda/lib/python3.10/site-packages/sklearn/linear_model/_stochastic_gradient.py:1548: ConvergenceWarning: Maximum number of iteration reached before convergence. Consider increasing max_iter to improve the fit.\n",
      "  warnings.warn(\n",
      "/opt/conda/lib/python3.10/site-packages/sklearn/linear_model/_stochastic_gradient.py:1548: ConvergenceWarning: Maximum number of iteration reached before convergence. Consider increasing max_iter to improve the fit.\n",
      "  warnings.warn(\n",
      "/opt/conda/lib/python3.10/site-packages/sklearn/linear_model/_stochastic_gradient.py:1548: ConvergenceWarning: Maximum number of iteration reached before convergence. Consider increasing max_iter to improve the fit.\n",
      "  warnings.warn(\n",
      "/opt/conda/lib/python3.10/site-packages/sklearn/linear_model/_stochastic_gradient.py:1548: ConvergenceWarning: Maximum number of iteration reached before convergence. Consider increasing max_iter to improve the fit.\n",
      "  warnings.warn(\n",
      "/opt/conda/lib/python3.10/site-packages/sklearn/linear_model/_stochastic_gradient.py:1548: ConvergenceWarning: Maximum number of iteration reached before convergence. Consider increasing max_iter to improve the fit.\n",
      "  warnings.warn(\n",
      "/opt/conda/lib/python3.10/site-packages/sklearn/linear_model/_stochastic_gradient.py:1548: ConvergenceWarning: Maximum number of iteration reached before convergence. Consider increasing max_iter to improve the fit.\n",
      "  warnings.warn(\n",
      "/opt/conda/lib/python3.10/site-packages/sklearn/linear_model/_stochastic_gradient.py:1548: ConvergenceWarning: Maximum number of iteration reached before convergence. Consider increasing max_iter to improve the fit.\n",
      "  warnings.warn(\n"
     ]
    },
    {
     "data": {
      "text/html": [
       "<style>#sk-container-id-6 {color: black;background-color: white;}#sk-container-id-6 pre{padding: 0;}#sk-container-id-6 div.sk-toggleable {background-color: white;}#sk-container-id-6 label.sk-toggleable__label {cursor: pointer;display: block;width: 100%;margin-bottom: 0;padding: 0.3em;box-sizing: border-box;text-align: center;}#sk-container-id-6 label.sk-toggleable__label-arrow:before {content: \"▸\";float: left;margin-right: 0.25em;color: #696969;}#sk-container-id-6 label.sk-toggleable__label-arrow:hover:before {color: black;}#sk-container-id-6 div.sk-estimator:hover label.sk-toggleable__label-arrow:before {color: black;}#sk-container-id-6 div.sk-toggleable__content {max-height: 0;max-width: 0;overflow: hidden;text-align: left;background-color: #f0f8ff;}#sk-container-id-6 div.sk-toggleable__content pre {margin: 0.2em;color: black;border-radius: 0.25em;background-color: #f0f8ff;}#sk-container-id-6 input.sk-toggleable__control:checked~div.sk-toggleable__content {max-height: 200px;max-width: 100%;overflow: auto;}#sk-container-id-6 input.sk-toggleable__control:checked~label.sk-toggleable__label-arrow:before {content: \"▾\";}#sk-container-id-6 div.sk-estimator input.sk-toggleable__control:checked~label.sk-toggleable__label {background-color: #d4ebff;}#sk-container-id-6 div.sk-label input.sk-toggleable__control:checked~label.sk-toggleable__label {background-color: #d4ebff;}#sk-container-id-6 input.sk-hidden--visually {border: 0;clip: rect(1px 1px 1px 1px);clip: rect(1px, 1px, 1px, 1px);height: 1px;margin: -1px;overflow: hidden;padding: 0;position: absolute;width: 1px;}#sk-container-id-6 div.sk-estimator {font-family: monospace;background-color: #f0f8ff;border: 1px dotted black;border-radius: 0.25em;box-sizing: border-box;margin-bottom: 0.5em;}#sk-container-id-6 div.sk-estimator:hover {background-color: #d4ebff;}#sk-container-id-6 div.sk-parallel-item::after {content: \"\";width: 100%;border-bottom: 1px solid gray;flex-grow: 1;}#sk-container-id-6 div.sk-label:hover label.sk-toggleable__label {background-color: #d4ebff;}#sk-container-id-6 div.sk-serial::before {content: \"\";position: absolute;border-left: 1px solid gray;box-sizing: border-box;top: 0;bottom: 0;left: 50%;z-index: 0;}#sk-container-id-6 div.sk-serial {display: flex;flex-direction: column;align-items: center;background-color: white;padding-right: 0.2em;padding-left: 0.2em;position: relative;}#sk-container-id-6 div.sk-item {position: relative;z-index: 1;}#sk-container-id-6 div.sk-parallel {display: flex;align-items: stretch;justify-content: center;background-color: white;position: relative;}#sk-container-id-6 div.sk-item::before, #sk-container-id-6 div.sk-parallel-item::before {content: \"\";position: absolute;border-left: 1px solid gray;box-sizing: border-box;top: 0;bottom: 0;left: 50%;z-index: -1;}#sk-container-id-6 div.sk-parallel-item {display: flex;flex-direction: column;z-index: 1;position: relative;background-color: white;}#sk-container-id-6 div.sk-parallel-item:first-child::after {align-self: flex-end;width: 50%;}#sk-container-id-6 div.sk-parallel-item:last-child::after {align-self: flex-start;width: 50%;}#sk-container-id-6 div.sk-parallel-item:only-child::after {width: 0;}#sk-container-id-6 div.sk-dashed-wrapped {border: 1px dashed gray;margin: 0 0.4em 0.5em 0.4em;box-sizing: border-box;padding-bottom: 0.4em;background-color: white;}#sk-container-id-6 div.sk-label label {font-family: monospace;font-weight: bold;display: inline-block;line-height: 1.2em;}#sk-container-id-6 div.sk-label-container {text-align: center;}#sk-container-id-6 div.sk-container {/* jupyter's `normalize.less` sets `[hidden] { display: none; }` but bootstrap.min.css set `[hidden] { display: none !important; }` so we also need the `!important` here to be able to override the default hidden behavior on the sphinx rendered scikit-learn.org. See: https://github.com/scikit-learn/scikit-learn/issues/21755 */display: inline-block !important;position: relative;}#sk-container-id-6 div.sk-text-repr-fallback {display: none;}</style><div id=\"sk-container-id-6\" class=\"sk-top-container\"><div class=\"sk-text-repr-fallback\"><pre>GridSearchCV(cv=5, estimator=SGDRegressor(max_iter=2000, random_state=42),\n",
       "             param_grid={&#x27;alpha&#x27;: [0.0001, 0.001, 0.01, 0.1, 1],\n",
       "                         &#x27;eta0&#x27;: [0.001, 0.01, 0.1, 1],\n",
       "                         &#x27;learning_rate&#x27;: [&#x27;constant&#x27;, &#x27;optimal&#x27;, &#x27;invscaling&#x27;,\n",
       "                                           &#x27;adaptive&#x27;]},\n",
       "             scoring=&#x27;r2&#x27;)</pre><b>In a Jupyter environment, please rerun this cell to show the HTML representation or trust the notebook. <br />On GitHub, the HTML representation is unable to render, please try loading this page with nbviewer.org.</b></div><div class=\"sk-container\" hidden><div class=\"sk-item sk-dashed-wrapped\"><div class=\"sk-label-container\"><div class=\"sk-label sk-toggleable\"><input class=\"sk-toggleable__control sk-hidden--visually\" id=\"sk-estimator-id-8\" type=\"checkbox\" ><label for=\"sk-estimator-id-8\" class=\"sk-toggleable__label sk-toggleable__label-arrow\">GridSearchCV</label><div class=\"sk-toggleable__content\"><pre>GridSearchCV(cv=5, estimator=SGDRegressor(max_iter=2000, random_state=42),\n",
       "             param_grid={&#x27;alpha&#x27;: [0.0001, 0.001, 0.01, 0.1, 1],\n",
       "                         &#x27;eta0&#x27;: [0.001, 0.01, 0.1, 1],\n",
       "                         &#x27;learning_rate&#x27;: [&#x27;constant&#x27;, &#x27;optimal&#x27;, &#x27;invscaling&#x27;,\n",
       "                                           &#x27;adaptive&#x27;]},\n",
       "             scoring=&#x27;r2&#x27;)</pre></div></div></div><div class=\"sk-parallel\"><div class=\"sk-parallel-item\"><div class=\"sk-item\"><div class=\"sk-label-container\"><div class=\"sk-label sk-toggleable\"><input class=\"sk-toggleable__control sk-hidden--visually\" id=\"sk-estimator-id-9\" type=\"checkbox\" ><label for=\"sk-estimator-id-9\" class=\"sk-toggleable__label sk-toggleable__label-arrow\">estimator: SGDRegressor</label><div class=\"sk-toggleable__content\"><pre>SGDRegressor(max_iter=2000, random_state=42)</pre></div></div></div><div class=\"sk-serial\"><div class=\"sk-item\"><div class=\"sk-estimator sk-toggleable\"><input class=\"sk-toggleable__control sk-hidden--visually\" id=\"sk-estimator-id-10\" type=\"checkbox\" ><label for=\"sk-estimator-id-10\" class=\"sk-toggleable__label sk-toggleable__label-arrow\">SGDRegressor</label><div class=\"sk-toggleable__content\"><pre>SGDRegressor(max_iter=2000, random_state=42)</pre></div></div></div></div></div></div></div></div></div></div>"
      ],
      "text/plain": [
       "GridSearchCV(cv=5, estimator=SGDRegressor(max_iter=2000, random_state=42),\n",
       "             param_grid={'alpha': [0.0001, 0.001, 0.01, 0.1, 1],\n",
       "                         'eta0': [0.001, 0.01, 0.1, 1],\n",
       "                         'learning_rate': ['constant', 'optimal', 'invscaling',\n",
       "                                           'adaptive']},\n",
       "             scoring='r2')"
      ]
     },
     "execution_count": 194,
     "metadata": {},
     "output_type": "execute_result"
    }
   ],
   "source": [
    "from sklearn.model_selection import train_test_split, GridSearchCV\n",
    "\n",
    "grid_search = GridSearchCV(SGDRegressor(max_iter=2000, tol=1e-3, random_state=42), param_grid, cv=5, scoring='r2')\n",
    "grid_search.fit(X_train_df, Y_train)"
   ]
  },
  {
   "cell_type": "code",
   "execution_count": 195,
   "metadata": {
    "execution": {
     "iopub.execute_input": "2024-05-31T17:19:32.656503Z",
     "iopub.status.busy": "2024-05-31T17:19:32.656089Z",
     "iopub.status.idle": "2024-05-31T17:19:32.662205Z",
     "shell.execute_reply": "2024-05-31T17:19:32.661103Z",
     "shell.execute_reply.started": "2024-05-31T17:19:32.656470Z"
    }
   },
   "outputs": [
    {
     "name": "stdout",
     "output_type": "stream",
     "text": [
      "Best Params: {'alpha': 0.0001, 'eta0': 0.001, 'learning_rate': 'invscaling'}, Best R^2: 0.42449869451861943\n"
     ]
    }
   ],
   "source": [
    "print(f'Best Params: {grid_search.best_params_}, Best R^2: {grid_search.best_score_}')"
   ]
  },
  {
   "cell_type": "code",
   "execution_count": 197,
   "metadata": {
    "execution": {
     "iopub.execute_input": "2024-05-31T17:19:38.297297Z",
     "iopub.status.busy": "2024-05-31T17:19:38.296922Z",
     "iopub.status.idle": "2024-05-31T17:19:38.349504Z",
     "shell.execute_reply": "2024-05-31T17:19:38.348505Z",
     "shell.execute_reply.started": "2024-05-31T17:19:38.297266Z"
    }
   },
   "outputs": [
    {
     "data": {
      "text/html": [
       "<style>#sk-container-id-8 {color: black;background-color: white;}#sk-container-id-8 pre{padding: 0;}#sk-container-id-8 div.sk-toggleable {background-color: white;}#sk-container-id-8 label.sk-toggleable__label {cursor: pointer;display: block;width: 100%;margin-bottom: 0;padding: 0.3em;box-sizing: border-box;text-align: center;}#sk-container-id-8 label.sk-toggleable__label-arrow:before {content: \"▸\";float: left;margin-right: 0.25em;color: #696969;}#sk-container-id-8 label.sk-toggleable__label-arrow:hover:before {color: black;}#sk-container-id-8 div.sk-estimator:hover label.sk-toggleable__label-arrow:before {color: black;}#sk-container-id-8 div.sk-toggleable__content {max-height: 0;max-width: 0;overflow: hidden;text-align: left;background-color: #f0f8ff;}#sk-container-id-8 div.sk-toggleable__content pre {margin: 0.2em;color: black;border-radius: 0.25em;background-color: #f0f8ff;}#sk-container-id-8 input.sk-toggleable__control:checked~div.sk-toggleable__content {max-height: 200px;max-width: 100%;overflow: auto;}#sk-container-id-8 input.sk-toggleable__control:checked~label.sk-toggleable__label-arrow:before {content: \"▾\";}#sk-container-id-8 div.sk-estimator input.sk-toggleable__control:checked~label.sk-toggleable__label {background-color: #d4ebff;}#sk-container-id-8 div.sk-label input.sk-toggleable__control:checked~label.sk-toggleable__label {background-color: #d4ebff;}#sk-container-id-8 input.sk-hidden--visually {border: 0;clip: rect(1px 1px 1px 1px);clip: rect(1px, 1px, 1px, 1px);height: 1px;margin: -1px;overflow: hidden;padding: 0;position: absolute;width: 1px;}#sk-container-id-8 div.sk-estimator {font-family: monospace;background-color: #f0f8ff;border: 1px dotted black;border-radius: 0.25em;box-sizing: border-box;margin-bottom: 0.5em;}#sk-container-id-8 div.sk-estimator:hover {background-color: #d4ebff;}#sk-container-id-8 div.sk-parallel-item::after {content: \"\";width: 100%;border-bottom: 1px solid gray;flex-grow: 1;}#sk-container-id-8 div.sk-label:hover label.sk-toggleable__label {background-color: #d4ebff;}#sk-container-id-8 div.sk-serial::before {content: \"\";position: absolute;border-left: 1px solid gray;box-sizing: border-box;top: 0;bottom: 0;left: 50%;z-index: 0;}#sk-container-id-8 div.sk-serial {display: flex;flex-direction: column;align-items: center;background-color: white;padding-right: 0.2em;padding-left: 0.2em;position: relative;}#sk-container-id-8 div.sk-item {position: relative;z-index: 1;}#sk-container-id-8 div.sk-parallel {display: flex;align-items: stretch;justify-content: center;background-color: white;position: relative;}#sk-container-id-8 div.sk-item::before, #sk-container-id-8 div.sk-parallel-item::before {content: \"\";position: absolute;border-left: 1px solid gray;box-sizing: border-box;top: 0;bottom: 0;left: 50%;z-index: -1;}#sk-container-id-8 div.sk-parallel-item {display: flex;flex-direction: column;z-index: 1;position: relative;background-color: white;}#sk-container-id-8 div.sk-parallel-item:first-child::after {align-self: flex-end;width: 50%;}#sk-container-id-8 div.sk-parallel-item:last-child::after {align-self: flex-start;width: 50%;}#sk-container-id-8 div.sk-parallel-item:only-child::after {width: 0;}#sk-container-id-8 div.sk-dashed-wrapped {border: 1px dashed gray;margin: 0 0.4em 0.5em 0.4em;box-sizing: border-box;padding-bottom: 0.4em;background-color: white;}#sk-container-id-8 div.sk-label label {font-family: monospace;font-weight: bold;display: inline-block;line-height: 1.2em;}#sk-container-id-8 div.sk-label-container {text-align: center;}#sk-container-id-8 div.sk-container {/* jupyter's `normalize.less` sets `[hidden] { display: none; }` but bootstrap.min.css set `[hidden] { display: none !important; }` so we also need the `!important` here to be able to override the default hidden behavior on the sphinx rendered scikit-learn.org. See: https://github.com/scikit-learn/scikit-learn/issues/21755 */display: inline-block !important;position: relative;}#sk-container-id-8 div.sk-text-repr-fallback {display: none;}</style><div id=\"sk-container-id-8\" class=\"sk-top-container\"><div class=\"sk-text-repr-fallback\"><pre>SGDRegressor(eta0=0.001, max_iter=2000, random_state=42)</pre><b>In a Jupyter environment, please rerun this cell to show the HTML representation or trust the notebook. <br />On GitHub, the HTML representation is unable to render, please try loading this page with nbviewer.org.</b></div><div class=\"sk-container\" hidden><div class=\"sk-item\"><div class=\"sk-estimator sk-toggleable\"><input class=\"sk-toggleable__control sk-hidden--visually\" id=\"sk-estimator-id-12\" type=\"checkbox\" checked><label for=\"sk-estimator-id-12\" class=\"sk-toggleable__label sk-toggleable__label-arrow\">SGDRegressor</label><div class=\"sk-toggleable__content\"><pre>SGDRegressor(eta0=0.001, max_iter=2000, random_state=42)</pre></div></div></div></div></div>"
      ],
      "text/plain": [
       "SGDRegressor(eta0=0.001, max_iter=2000, random_state=42)"
      ]
     },
     "execution_count": 197,
     "metadata": {},
     "output_type": "execute_result"
    }
   ],
   "source": [
    "best_sgd = grid_search.best_estimator_\n",
    "best_sgd.fit(X_train_df, Y_train)\n"
   ]
  },
  {
   "cell_type": "code",
   "execution_count": 193,
   "metadata": {
    "execution": {
     "iopub.execute_input": "2024-05-31T17:17:35.131765Z",
     "iopub.status.busy": "2024-05-31T17:17:35.131361Z",
     "iopub.status.idle": "2024-05-31T17:17:35.146992Z",
     "shell.execute_reply": "2024-05-31T17:17:35.145693Z",
     "shell.execute_reply.started": "2024-05-31T17:17:35.131735Z"
    }
   },
   "outputs": [
    {
     "name": "stdout",
     "output_type": "stream",
     "text": [
      "R^2 with best model: -350.9061858233288\n",
      "RMSE with best model: 70.56349869266813\n"
     ]
    }
   ],
   "source": [
    "y_pred_best = best_sgd.predict(X_test_df)\n",
    "r2_best = r2_score(y_test, y_pred_best)\n",
    "rmse_best = np.sqrt(mean_squared_error(y_test, y_pred_best))\n",
    "print(f'R^2 with best model: {r2_best}')\n",
    "print(f'RMSE with best model: {rmse_best}')"
   ]
  },
  {
   "cell_type": "code",
   "execution_count": 200,
   "metadata": {
    "execution": {
     "iopub.execute_input": "2024-05-31T17:21:34.050165Z",
     "iopub.status.busy": "2024-05-31T17:21:34.049534Z",
     "iopub.status.idle": "2024-05-31T17:21:34.056131Z",
     "shell.execute_reply": "2024-05-31T17:21:34.055036Z",
     "shell.execute_reply.started": "2024-05-31T17:21:34.050131Z"
    },
    "id": "Usp6eBdJIi1y"
   },
   "outputs": [],
   "source": [
    "output_df = pd.DataFrame({'patient_id': X_test['patient_id'], 'metastatic_diagnosis_period':y_pred_best})"
   ]
  },
  {
   "cell_type": "code",
   "execution_count": 202,
   "metadata": {
    "execution": {
     "iopub.execute_input": "2024-05-31T17:21:54.147537Z",
     "iopub.status.busy": "2024-05-31T17:21:54.146627Z",
     "iopub.status.idle": "2024-05-31T17:21:54.152706Z",
     "shell.execute_reply": "2024-05-31T17:21:54.151746Z",
     "shell.execute_reply.started": "2024-05-31T17:21:54.147502Z"
    },
    "id": "q8d7Dq-GKbZ5"
   },
   "outputs": [],
   "source": [
    "output_df['metastatic_diagnosis_period'] = output_df['metastatic_diagnosis_period'].astype(int)"
   ]
  },
  {
   "cell_type": "code",
   "execution_count": 203,
   "metadata": {
    "colab": {
     "base_uri": "https://localhost:8080/",
     "height": 423
    },
    "execution": {
     "iopub.execute_input": "2024-05-31T17:21:56.976780Z",
     "iopub.status.busy": "2024-05-31T17:21:56.976380Z",
     "iopub.status.idle": "2024-05-31T17:21:56.988255Z",
     "shell.execute_reply": "2024-05-31T17:21:56.987268Z",
     "shell.execute_reply.started": "2024-05-31T17:21:56.976749Z"
    },
    "id": "vLVkOe_rJYcw",
    "outputId": "d132d411-9df0-459b-ae13-f8b2fea7a2d6"
   },
   "outputs": [
    {
     "data": {
      "text/html": [
       "<div>\n",
       "<style scoped>\n",
       "    .dataframe tbody tr th:only-of-type {\n",
       "        vertical-align: middle;\n",
       "    }\n",
       "\n",
       "    .dataframe tbody tr th {\n",
       "        vertical-align: top;\n",
       "    }\n",
       "\n",
       "    .dataframe thead th {\n",
       "        text-align: right;\n",
       "    }\n",
       "</style>\n",
       "<table border=\"1\" class=\"dataframe\">\n",
       "  <thead>\n",
       "    <tr style=\"text-align: right;\">\n",
       "      <th></th>\n",
       "      <th>patient_id</th>\n",
       "      <th>metastatic_diagnosis_period</th>\n",
       "    </tr>\n",
       "  </thead>\n",
       "  <tbody>\n",
       "    <tr>\n",
       "      <th>0</th>\n",
       "      <td>730681</td>\n",
       "      <td>59</td>\n",
       "    </tr>\n",
       "    <tr>\n",
       "      <th>1</th>\n",
       "      <td>334212</td>\n",
       "      <td>66</td>\n",
       "    </tr>\n",
       "    <tr>\n",
       "      <th>2</th>\n",
       "      <td>571362</td>\n",
       "      <td>221</td>\n",
       "    </tr>\n",
       "    <tr>\n",
       "      <th>3</th>\n",
       "      <td>907331</td>\n",
       "      <td>45</td>\n",
       "    </tr>\n",
       "    <tr>\n",
       "      <th>4</th>\n",
       "      <td>208382</td>\n",
       "      <td>226</td>\n",
       "    </tr>\n",
       "    <tr>\n",
       "      <th>...</th>\n",
       "      <td>...</td>\n",
       "      <td>...</td>\n",
       "    </tr>\n",
       "    <tr>\n",
       "      <th>5641</th>\n",
       "      <td>649011</td>\n",
       "      <td>209</td>\n",
       "    </tr>\n",
       "    <tr>\n",
       "      <th>5642</th>\n",
       "      <td>869024</td>\n",
       "      <td>62</td>\n",
       "    </tr>\n",
       "    <tr>\n",
       "      <th>5643</th>\n",
       "      <td>304800</td>\n",
       "      <td>54</td>\n",
       "    </tr>\n",
       "    <tr>\n",
       "      <th>5644</th>\n",
       "      <td>267406</td>\n",
       "      <td>239</td>\n",
       "    </tr>\n",
       "    <tr>\n",
       "      <th>5645</th>\n",
       "      <td>873886</td>\n",
       "      <td>61</td>\n",
       "    </tr>\n",
       "  </tbody>\n",
       "</table>\n",
       "<p>5646 rows × 2 columns</p>\n",
       "</div>"
      ],
      "text/plain": [
       "      patient_id  metastatic_diagnosis_period\n",
       "0         730681                           59\n",
       "1         334212                           66\n",
       "2         571362                          221\n",
       "3         907331                           45\n",
       "4         208382                          226\n",
       "...          ...                          ...\n",
       "5641      649011                          209\n",
       "5642      869024                           62\n",
       "5643      304800                           54\n",
       "5644      267406                          239\n",
       "5645      873886                           61\n",
       "\n",
       "[5646 rows x 2 columns]"
      ]
     },
     "execution_count": 203,
     "metadata": {},
     "output_type": "execute_result"
    }
   ],
   "source": [
    "output_df"
   ]
  },
  {
   "cell_type": "code",
   "execution_count": 205,
   "metadata": {
    "execution": {
     "iopub.execute_input": "2024-05-31T17:23:21.936767Z",
     "iopub.status.busy": "2024-05-31T17:23:21.935964Z",
     "iopub.status.idle": "2024-05-31T17:23:21.948905Z",
     "shell.execute_reply": "2024-05-31T17:23:21.947810Z",
     "shell.execute_reply.started": "2024-05-31T17:23:21.936731Z"
    },
    "id": "TPge2PoBz1-i"
   },
   "outputs": [],
   "source": [
    "output_df.to_csv('final_predictions4.csv', index=False)"
   ]
  }
 ],
 "metadata": {
  "colab": {
   "provenance": []
  },
  "kaggle": {
   "accelerator": "none",
   "dataSources": [
    {
     "databundleVersionId": 8121780,
     "sourceId": 73478,
     "sourceType": "competition"
    }
   ],
   "dockerImageVersionId": 30715,
   "isGpuEnabled": false,
   "isInternetEnabled": true,
   "language": "python",
   "sourceType": "notebook"
  },
  "kernelspec": {
   "display_name": "Python 3 (ipykernel)",
   "language": "python",
   "name": "python3"
  },
  "language_info": {
   "codemirror_mode": {
    "name": "ipython",
    "version": 3
   },
   "file_extension": ".py",
   "mimetype": "text/x-python",
   "name": "python",
   "nbconvert_exporter": "python",
   "pygments_lexer": "ipython3",
   "version": "3.11.5"
  }
 },
 "nbformat": 4,
 "nbformat_minor": 4
}
